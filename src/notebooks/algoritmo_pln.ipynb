{
  "cells": [
    {
      "cell_type": "markdown",
      "metadata": {
        "id": "31HPwM0C7IeY"
      },
      "source": [
        "#  Algoritmo de PLN"
      ]
    },
    {
      "cell_type": "markdown",
      "metadata": {
        "id": "WQrTELGu7Pi0"
      },
      "source": [
        "# 1. Setup\n",
        "\n",
        "Realiza o download e configura o ambiente para o desenvolvimento do algoritmo PLN\n"
      ]
    },
    {
      "cell_type": "markdown",
      "metadata": {
        "id": "v9ixjGIQMYVE"
      },
      "source": [
        "**Bibilioteca ScikitLearn**\n",
        "\n",
        "Utilizada para pré-processamento, análise de dados e modelagem preditiva\n",
        "\n"
      ]
    },
    {
      "cell_type": "code",
      "execution_count": 33,
      "metadata": {
        "id": "yyJ2tmsFg7QO"
      },
      "outputs": [],
      "source": [
        "from sklearn.preprocessing import LabelEncoder\n",
        "from sklearn.ensemble import RandomForestClassifier\n",
        "from sklearn.model_selection import train_test_split\n",
        "from sklearn.metrics import classification_report\n",
        "from sklearn.model_selection import train_test_split\n",
        "from sklearn.metrics.pairwise import cosine_similarity"
      ]
    },
    {
      "cell_type": "markdown",
      "metadata": {
        "id": "YAQ-JpQWRp5v"
      },
      "source": [
        "**Numpy**\n",
        "Fornece suporte para arrays multidimensionais e operações matemáticas rápidas"
      ]
    },
    {
      "cell_type": "code",
      "execution_count": 34,
      "metadata": {
        "id": "UnkW2_zdXDon"
      },
      "outputs": [],
      "source": [
        "import numpy as np"
      ]
    },
    {
      "cell_type": "markdown",
      "metadata": {
        "id": "Xm_W9E5qSDoA"
      },
      "source": [
        "**Pandas**\n",
        "\n",
        "Manipulação e análise de dados"
      ]
    },
    {
      "cell_type": "code",
      "execution_count": 35,
      "metadata": {
        "id": "rYZAQD6-Td9G"
      },
      "outputs": [],
      "source": [
        "import pandas as pd"
      ]
    },
    {
      "cell_type": "markdown",
      "metadata": {
        "id": "O4mxFCohSNWr"
      },
      "source": [
        "**Gdown**\n",
        "\n",
        "Ferramenta para baixar arquivos do Google Drive para o ambiente local"
      ]
    },
    {
      "cell_type": "code",
      "execution_count": 36,
      "metadata": {
        "id": "Py68dkl6TfkT"
      },
      "outputs": [],
      "source": [
        "import gdown"
      ]
    },
    {
      "cell_type": "markdown",
      "metadata": {
        "id": "Ei-VtybPSZUx"
      },
      "source": [
        "**Pickle**\n",
        "\n",
        "Permite salvar e carregar objetos python"
      ]
    },
    {
      "cell_type": "code",
      "execution_count": 37,
      "metadata": {
        "id": "Nm6wZ-e5ThlY"
      },
      "outputs": [],
      "source": [
        "import pickle"
      ]
    },
    {
      "cell_type": "markdown",
      "metadata": {
        "id": "h5BQFGpQ8G3m"
      },
      "source": [
        "**Biblioteca Spacy e Natural Language Toolkit (NLTK)**\n",
        "\n",
        "Utilizadas para processamento de linguagem natural"
      ]
    },
    {
      "cell_type": "code",
      "execution_count": 38,
      "metadata": {
        "colab": {
          "base_uri": "https://localhost:8080/"
        },
        "collapsed": true,
        "id": "SkjnQfx-60Mn",
        "outputId": "6b456921-950b-4235-93b6-ee0e551828da"
      },
      "outputs": [
        {
          "name": "stdout",
          "output_type": "stream",
          "text": [
            "\u001b[38;5;2m✔ Download and installation successful\u001b[0m\n",
            "You can now load the package via spacy.load('pt_core_news_lg')\n",
            "\u001b[38;5;3m⚠ Restart to reload dependencies\u001b[0m\n",
            "If you are in a Jupyter or Colab notebook, you may need to restart Python in\n",
            "order to load all the package's dependencies. You can do this by selecting the\n",
            "'Restart kernel' or 'Restart runtime' option.\n"
          ]
        }
      ],
      "source": [
        "import spacy\n",
        "\n",
        "spacy.cli.download('pt_core_news_lg')\n",
        "nlp = spacy.load('pt_core_news_lg')"
      ]
    },
    {
      "cell_type": "code",
      "execution_count": 39,
      "metadata": {
        "colab": {
          "base_uri": "https://localhost:8080/"
        },
        "id": "-BmsQFsZ6a0v",
        "outputId": "ede206df-119b-44f8-c5fd-9b4968e6efb5"
      },
      "outputs": [
        {
          "name": "stderr",
          "output_type": "stream",
          "text": [
            "[nltk_data] Downloading package punkt to /root/nltk_data...\n",
            "[nltk_data]   Package punkt is already up-to-date!\n",
            "[nltk_data] Downloading package stopwords to /root/nltk_data...\n",
            "[nltk_data]   Package stopwords is already up-to-date!\n"
          ]
        },
        {
          "data": {
            "text/plain": [
              "True"
            ]
          },
          "execution_count": 39,
          "metadata": {},
          "output_type": "execute_result"
        }
      ],
      "source": [
        "import nltk\n",
        "from nltk.tokenize import word_tokenize\n",
        "from nltk.corpus import stopwords\n",
        "from nltk import pos_tag, ne_chunk\n",
        "\n",
        "nltk.download('punkt')\n",
        "nltk.download('stopwords')"
      ]
    },
    {
      "cell_type": "markdown",
      "metadata": {
        "id": "UDLJzKio8KOF"
      },
      "source": [
        "**Regex**\n",
        "\n",
        "Ferramenta para manipulação e análise de strings"
      ]
    },
    {
      "cell_type": "code",
      "execution_count": 40,
      "metadata": {
        "id": "AFNMbBZ18FCp"
      },
      "outputs": [],
      "source": [
        "import re"
      ]
    },
    {
      "cell_type": "markdown",
      "metadata": {
        "id": "tuaxmhfAR6Zy"
      },
      "source": [
        "**Transformers**\n",
        "\n",
        "Biblioteca da Hugging Face para modelos de aprendizado profundo em NLP."
      ]
    },
    {
      "cell_type": "code",
      "execution_count": 41,
      "metadata": {
        "id": "U_6ZOIrVXwJe"
      },
      "outputs": [],
      "source": [
        "from transformers import BertTokenizer, BertForSequenceClassification, Trainer, TrainingArguments"
      ]
    },
    {
      "cell_type": "markdown",
      "metadata": {
        "id": "sysws1TUSqdI"
      },
      "source": [
        "**Torch**\n",
        "\n",
        "Biblioteca de aprendizado profundo desenvolvida pelo Facebook"
      ]
    },
    {
      "cell_type": "code",
      "execution_count": 42,
      "metadata": {
        "id": "pOmXxMmGhBkW"
      },
      "outputs": [],
      "source": [
        "import torch\n",
        "from torch.utils.data import Dataset"
      ]
    },
    {
      "cell_type": "markdown",
      "metadata": {
        "id": "TYFGwmNrS5KR"
      },
      "source": [
        "**Gensim**\n",
        "\n",
        "Utilizada para modelagem de tópicos e análise semântica"
      ]
    },
    {
      "cell_type": "code",
      "execution_count": 43,
      "metadata": {
        "id": "_38ZDX3RBusQ"
      },
      "outputs": [],
      "source": [
        "from gensim.models import KeyedVectors"
      ]
    },
    {
      "cell_type": "markdown",
      "metadata": {
        "id": "BkpIy_BeTUt1"
      },
      "source": [
        "Baixando o arquivo do modelo para o word2vec"
      ]
    },
    {
      "cell_type": "code",
      "execution_count": 44,
      "metadata": {
        "colab": {
          "base_uri": "https://localhost:8080/"
        },
        "id": "dC9RoIt0hMUS",
        "outputId": "bf44aabd-47dc-4f86-b75f-d4ee4089144f"
      },
      "outputs": [
        {
          "name": "stderr",
          "output_type": "stream",
          "text": [
            "Downloading...\n",
            "From (original): https://drive.google.com/uc?id=1htT3BRNWNPBkX965rgGNuvz7jShrebfH\n",
            "From (redirected): https://drive.google.com/uc?id=1htT3BRNWNPBkX965rgGNuvz7jShrebfH&confirm=t&uuid=ece70d03-ff18-4335-988f-66e7095b4bb9\n",
            "To: /content/slip_s300.txt\n",
            "100%|██████████| 2.66G/2.66G [00:50<00:00, 52.5MB/s]\n"
          ]
        }
      ],
      "source": [
        "gdown.download('https://drive.google.com/uc?id=1htT3BRNWNPBkX965rgGNuvz7jShrebfH', 'slip_s300.txt', quiet=False)\n",
        "\n",
        "caminho_modelo = 'slip_s300.txt'"
      ]
    },
    {
      "cell_type": "markdown",
      "metadata": {
        "id": "U0BeizWXq0Bd"
      },
      "source": [
        "Configuração da frase que será utilizada como input em todo o notebook."
      ]
    },
    {
      "cell_type": "code",
      "execution_count": 45,
      "metadata": {
        "id": "rNwPBTrk6pON"
      },
      "outputs": [],
      "source": [
        "texto = 'Todas regulamentações de comunhão de recuros destinados à aplicação de investimentos da Anbima de 23/02/2003'"
      ]
    },
    {
      "cell_type": "markdown",
      "metadata": {
        "id": "Kn6ycCvPn21d"
      },
      "source": [
        "# 2. Download do dataset"
      ]
    },
    {
      "cell_type": "markdown",
      "metadata": {
        "id": "5I_REoF7Ty8G"
      },
      "source": [
        "Download do dataset com dados sintéticos"
      ]
    },
    {
      "cell_type": "code",
      "execution_count": 46,
      "metadata": {
        "colab": {
          "base_uri": "https://localhost:8080/"
        },
        "id": "xcyoPILrSTaQ",
        "outputId": "584ab91e-90ab-4cc7-9c96-6f8055b560d3"
      },
      "outputs": [
        {
          "name": "stderr",
          "output_type": "stream",
          "text": [
            "Downloading...\n",
            "From: https://drive.google.com/uc?id=1W7iU_vqGMjWooWF4wpDy_vkfR2DjqmYq\n",
            "To: /content/dados.csv\n",
            "100%|██████████| 22.0k/22.0k [00:00<00:00, 32.8MB/s]\n"
          ]
        }
      ],
      "source": [
        "gdown.download('https://drive.google.com/uc?id=1W7iU_vqGMjWooWF4wpDy_vkfR2DjqmYq', 'dados.csv', quiet=False)\n",
        "dados = pd.read_csv('dados.csv')"
      ]
    },
    {
      "cell_type": "code",
      "execution_count": 47,
      "metadata": {
        "colab": {
          "base_uri": "https://localhost:8080/",
          "height": 206
        },
        "id": "Kx1QeZ-Ux9V4",
        "outputId": "d4d45319-6e0b-4ffd-a00e-53760c8e8a0f"
      },
      "outputs": [
        {
          "data": {
            "application/vnd.google.colaboratory.intrinsic+json": {
              "summary": "{\n  \"name\": \"df_dados\",\n  \"rows\": 274,\n  \"fields\": [\n    {\n      \"column\": \"frase\",\n      \"properties\": {\n        \"dtype\": \"string\",\n        \"num_unique_values\": 274,\n        \"samples\": [\n          \"Regulamenta\\u00e7\\u00f5es para fundos de investimento em telecomunica\\u00e7\\u00f5es.\",\n          \"Documentos sobre cr\\u00e9dito para turismo sustent\\u00e1vel.\",\n          \"Informa\\u00e7\\u00f5es sobre t\\u00edtulos de cr\\u00e9dito.\"\n        ],\n        \"semantic_type\": \"\",\n        \"description\": \"\"\n      }\n    },\n    {\n      \"column\": \"classificacao\",\n      \"properties\": {\n        \"dtype\": \"category\",\n        \"num_unique_values\": 3,\n        \"samples\": [\n          \"Fundos de investimento\",\n          \"Finan\\u00e7as\",\n          \"Aquisi\\u00e7\\u00e3o de Direitos Credit\\u00f3rios\"\n        ],\n        \"semantic_type\": \"\",\n        \"description\": \"\"\n      }\n    }\n  ]\n}",
              "type": "dataframe",
              "variable_name": "df_dados"
            },
            "text/html": [
              "\n",
              "  <div id=\"df-0c615989-c0e0-4f5c-8d25-56167ade64fd\" class=\"colab-df-container\">\n",
              "    <div>\n",
              "<style scoped>\n",
              "    .dataframe tbody tr th:only-of-type {\n",
              "        vertical-align: middle;\n",
              "    }\n",
              "\n",
              "    .dataframe tbody tr th {\n",
              "        vertical-align: top;\n",
              "    }\n",
              "\n",
              "    .dataframe thead th {\n",
              "        text-align: right;\n",
              "    }\n",
              "</style>\n",
              "<table border=\"1\" class=\"dataframe\">\n",
              "  <thead>\n",
              "    <tr style=\"text-align: right;\">\n",
              "      <th></th>\n",
              "      <th>frase</th>\n",
              "      <th>classificacao</th>\n",
              "    </tr>\n",
              "  </thead>\n",
              "  <tbody>\n",
              "    <tr>\n",
              "      <th>0</th>\n",
              "      <td>Quero todas as regulamentações sobre fundos de...</td>\n",
              "      <td>Fundos de investimento</td>\n",
              "    </tr>\n",
              "    <tr>\n",
              "      <th>1</th>\n",
              "      <td>Quais são as normas para criação de fundos de ...</td>\n",
              "      <td>Fundos de investimento</td>\n",
              "    </tr>\n",
              "    <tr>\n",
              "      <th>2</th>\n",
              "      <td>Preciso das regulamentações sobre fundos imobi...</td>\n",
              "      <td>Fundos de investimento</td>\n",
              "    </tr>\n",
              "    <tr>\n",
              "      <th>3</th>\n",
              "      <td>Informações sobre fundos de índice.</td>\n",
              "      <td>Fundos de investimento</td>\n",
              "    </tr>\n",
              "    <tr>\n",
              "      <th>4</th>\n",
              "      <td>Quero as regras para fundos de ações.</td>\n",
              "      <td>Fundos de investimento</td>\n",
              "    </tr>\n",
              "  </tbody>\n",
              "</table>\n",
              "</div>\n",
              "    <div class=\"colab-df-buttons\">\n",
              "\n",
              "  <div class=\"colab-df-container\">\n",
              "    <button class=\"colab-df-convert\" onclick=\"convertToInteractive('df-0c615989-c0e0-4f5c-8d25-56167ade64fd')\"\n",
              "            title=\"Convert this dataframe to an interactive table.\"\n",
              "            style=\"display:none;\">\n",
              "\n",
              "  <svg xmlns=\"http://www.w3.org/2000/svg\" height=\"24px\" viewBox=\"0 -960 960 960\">\n",
              "    <path d=\"M120-120v-720h720v720H120Zm60-500h600v-160H180v160Zm220 220h160v-160H400v160Zm0 220h160v-160H400v160ZM180-400h160v-160H180v160Zm440 0h160v-160H620v160ZM180-180h160v-160H180v160Zm440 0h160v-160H620v160Z\"/>\n",
              "  </svg>\n",
              "    </button>\n",
              "\n",
              "  <style>\n",
              "    .colab-df-container {\n",
              "      display:flex;\n",
              "      gap: 12px;\n",
              "    }\n",
              "\n",
              "    .colab-df-convert {\n",
              "      background-color: #E8F0FE;\n",
              "      border: none;\n",
              "      border-radius: 50%;\n",
              "      cursor: pointer;\n",
              "      display: none;\n",
              "      fill: #1967D2;\n",
              "      height: 32px;\n",
              "      padding: 0 0 0 0;\n",
              "      width: 32px;\n",
              "    }\n",
              "\n",
              "    .colab-df-convert:hover {\n",
              "      background-color: #E2EBFA;\n",
              "      box-shadow: 0px 1px 2px rgba(60, 64, 67, 0.3), 0px 1px 3px 1px rgba(60, 64, 67, 0.15);\n",
              "      fill: #174EA6;\n",
              "    }\n",
              "\n",
              "    .colab-df-buttons div {\n",
              "      margin-bottom: 4px;\n",
              "    }\n",
              "\n",
              "    [theme=dark] .colab-df-convert {\n",
              "      background-color: #3B4455;\n",
              "      fill: #D2E3FC;\n",
              "    }\n",
              "\n",
              "    [theme=dark] .colab-df-convert:hover {\n",
              "      background-color: #434B5C;\n",
              "      box-shadow: 0px 1px 3px 1px rgba(0, 0, 0, 0.15);\n",
              "      filter: drop-shadow(0px 1px 2px rgba(0, 0, 0, 0.3));\n",
              "      fill: #FFFFFF;\n",
              "    }\n",
              "  </style>\n",
              "\n",
              "    <script>\n",
              "      const buttonEl =\n",
              "        document.querySelector('#df-0c615989-c0e0-4f5c-8d25-56167ade64fd button.colab-df-convert');\n",
              "      buttonEl.style.display =\n",
              "        google.colab.kernel.accessAllowed ? 'block' : 'none';\n",
              "\n",
              "      async function convertToInteractive(key) {\n",
              "        const element = document.querySelector('#df-0c615989-c0e0-4f5c-8d25-56167ade64fd');\n",
              "        const dataTable =\n",
              "          await google.colab.kernel.invokeFunction('convertToInteractive',\n",
              "                                                    [key], {});\n",
              "        if (!dataTable) return;\n",
              "\n",
              "        const docLinkHtml = 'Like what you see? Visit the ' +\n",
              "          '<a target=\"_blank\" href=https://colab.research.google.com/notebooks/data_table.ipynb>data table notebook</a>'\n",
              "          + ' to learn more about interactive tables.';\n",
              "        element.innerHTML = '';\n",
              "        dataTable['output_type'] = 'display_data';\n",
              "        await google.colab.output.renderOutput(dataTable, element);\n",
              "        const docLink = document.createElement('div');\n",
              "        docLink.innerHTML = docLinkHtml;\n",
              "        element.appendChild(docLink);\n",
              "      }\n",
              "    </script>\n",
              "  </div>\n",
              "\n",
              "\n",
              "<div id=\"df-272751e0-471a-40e5-ac06-6495c0c7af41\">\n",
              "  <button class=\"colab-df-quickchart\" onclick=\"quickchart('df-272751e0-471a-40e5-ac06-6495c0c7af41')\"\n",
              "            title=\"Suggest charts\"\n",
              "            style=\"display:none;\">\n",
              "\n",
              "<svg xmlns=\"http://www.w3.org/2000/svg\" height=\"24px\"viewBox=\"0 0 24 24\"\n",
              "     width=\"24px\">\n",
              "    <g>\n",
              "        <path d=\"M19 3H5c-1.1 0-2 .9-2 2v14c0 1.1.9 2 2 2h14c1.1 0 2-.9 2-2V5c0-1.1-.9-2-2-2zM9 17H7v-7h2v7zm4 0h-2V7h2v10zm4 0h-2v-4h2v4z\"/>\n",
              "    </g>\n",
              "</svg>\n",
              "  </button>\n",
              "\n",
              "<style>\n",
              "  .colab-df-quickchart {\n",
              "      --bg-color: #E8F0FE;\n",
              "      --fill-color: #1967D2;\n",
              "      --hover-bg-color: #E2EBFA;\n",
              "      --hover-fill-color: #174EA6;\n",
              "      --disabled-fill-color: #AAA;\n",
              "      --disabled-bg-color: #DDD;\n",
              "  }\n",
              "\n",
              "  [theme=dark] .colab-df-quickchart {\n",
              "      --bg-color: #3B4455;\n",
              "      --fill-color: #D2E3FC;\n",
              "      --hover-bg-color: #434B5C;\n",
              "      --hover-fill-color: #FFFFFF;\n",
              "      --disabled-bg-color: #3B4455;\n",
              "      --disabled-fill-color: #666;\n",
              "  }\n",
              "\n",
              "  .colab-df-quickchart {\n",
              "    background-color: var(--bg-color);\n",
              "    border: none;\n",
              "    border-radius: 50%;\n",
              "    cursor: pointer;\n",
              "    display: none;\n",
              "    fill: var(--fill-color);\n",
              "    height: 32px;\n",
              "    padding: 0;\n",
              "    width: 32px;\n",
              "  }\n",
              "\n",
              "  .colab-df-quickchart:hover {\n",
              "    background-color: var(--hover-bg-color);\n",
              "    box-shadow: 0 1px 2px rgba(60, 64, 67, 0.3), 0 1px 3px 1px rgba(60, 64, 67, 0.15);\n",
              "    fill: var(--button-hover-fill-color);\n",
              "  }\n",
              "\n",
              "  .colab-df-quickchart-complete:disabled,\n",
              "  .colab-df-quickchart-complete:disabled:hover {\n",
              "    background-color: var(--disabled-bg-color);\n",
              "    fill: var(--disabled-fill-color);\n",
              "    box-shadow: none;\n",
              "  }\n",
              "\n",
              "  .colab-df-spinner {\n",
              "    border: 2px solid var(--fill-color);\n",
              "    border-color: transparent;\n",
              "    border-bottom-color: var(--fill-color);\n",
              "    animation:\n",
              "      spin 1s steps(1) infinite;\n",
              "  }\n",
              "\n",
              "  @keyframes spin {\n",
              "    0% {\n",
              "      border-color: transparent;\n",
              "      border-bottom-color: var(--fill-color);\n",
              "      border-left-color: var(--fill-color);\n",
              "    }\n",
              "    20% {\n",
              "      border-color: transparent;\n",
              "      border-left-color: var(--fill-color);\n",
              "      border-top-color: var(--fill-color);\n",
              "    }\n",
              "    30% {\n",
              "      border-color: transparent;\n",
              "      border-left-color: var(--fill-color);\n",
              "      border-top-color: var(--fill-color);\n",
              "      border-right-color: var(--fill-color);\n",
              "    }\n",
              "    40% {\n",
              "      border-color: transparent;\n",
              "      border-right-color: var(--fill-color);\n",
              "      border-top-color: var(--fill-color);\n",
              "    }\n",
              "    60% {\n",
              "      border-color: transparent;\n",
              "      border-right-color: var(--fill-color);\n",
              "    }\n",
              "    80% {\n",
              "      border-color: transparent;\n",
              "      border-right-color: var(--fill-color);\n",
              "      border-bottom-color: var(--fill-color);\n",
              "    }\n",
              "    90% {\n",
              "      border-color: transparent;\n",
              "      border-bottom-color: var(--fill-color);\n",
              "    }\n",
              "  }\n",
              "</style>\n",
              "\n",
              "  <script>\n",
              "    async function quickchart(key) {\n",
              "      const quickchartButtonEl =\n",
              "        document.querySelector('#' + key + ' button');\n",
              "      quickchartButtonEl.disabled = true;  // To prevent multiple clicks.\n",
              "      quickchartButtonEl.classList.add('colab-df-spinner');\n",
              "      try {\n",
              "        const charts = await google.colab.kernel.invokeFunction(\n",
              "            'suggestCharts', [key], {});\n",
              "      } catch (error) {\n",
              "        console.error('Error during call to suggestCharts:', error);\n",
              "      }\n",
              "      quickchartButtonEl.classList.remove('colab-df-spinner');\n",
              "      quickchartButtonEl.classList.add('colab-df-quickchart-complete');\n",
              "    }\n",
              "    (() => {\n",
              "      let quickchartButtonEl =\n",
              "        document.querySelector('#df-272751e0-471a-40e5-ac06-6495c0c7af41 button');\n",
              "      quickchartButtonEl.style.display =\n",
              "        google.colab.kernel.accessAllowed ? 'block' : 'none';\n",
              "    })();\n",
              "  </script>\n",
              "</div>\n",
              "\n",
              "    </div>\n",
              "  </div>\n"
            ],
            "text/plain": [
              "                                               frase           classificacao\n",
              "0  Quero todas as regulamentações sobre fundos de...  Fundos de investimento\n",
              "1  Quais são as normas para criação de fundos de ...  Fundos de investimento\n",
              "2  Preciso das regulamentações sobre fundos imobi...  Fundos de investimento\n",
              "3                Informações sobre fundos de índice.  Fundos de investimento\n",
              "4              Quero as regras para fundos de ações.  Fundos de investimento"
            ]
          },
          "execution_count": 47,
          "metadata": {},
          "output_type": "execute_result"
        }
      ],
      "source": [
        "df_dados = pd.DataFrame(dados)\n",
        "df_dados.head()"
      ]
    },
    {
      "cell_type": "markdown",
      "metadata": {
        "id": "ZEn49B3qDoaF"
      },
      "source": [
        "# 3. Modelo Random Forest\n"
      ]
    },
    {
      "cell_type": "markdown",
      "metadata": {
        "id": "SybnbIVAvcA1"
      },
      "source": [
        "## 3.1 Dataset"
      ]
    },
    {
      "cell_type": "markdown",
      "metadata": {
        "id": "JsAOaEoPT74o"
      },
      "source": [
        "Criando uma cópia do dataset anterior para utilizar no pré-processamento do modelo Random Forest"
      ]
    },
    {
      "cell_type": "code",
      "execution_count": 83,
      "metadata": {
        "colab": {
          "base_uri": "https://localhost:8080/",
          "height": 0
        },
        "id": "vO7SUPFt1bhf",
        "outputId": "b1e1b343-ee96-4294-8f07-86ceffd48442"
      },
      "outputs": [
        {
          "data": {
            "application/vnd.google.colaboratory.intrinsic+json": {
              "summary": "{\n  \"name\": \"df_modelo1\",\n  \"rows\": 274,\n  \"fields\": [\n    {\n      \"column\": \"frase\",\n      \"properties\": {\n        \"dtype\": \"string\",\n        \"num_unique_values\": 274,\n        \"samples\": [\n          \"Regulamenta\\u00e7\\u00f5es para fundos de investimento em telecomunica\\u00e7\\u00f5es.\",\n          \"Documentos sobre cr\\u00e9dito para turismo sustent\\u00e1vel.\",\n          \"Informa\\u00e7\\u00f5es sobre t\\u00edtulos de cr\\u00e9dito.\"\n        ],\n        \"semantic_type\": \"\",\n        \"description\": \"\"\n      }\n    },\n    {\n      \"column\": \"classificacao\",\n      \"properties\": {\n        \"dtype\": \"category\",\n        \"num_unique_values\": 3,\n        \"samples\": [\n          \"Fundos de investimento\",\n          \"Finan\\u00e7as\",\n          \"Aquisi\\u00e7\\u00e3o de Direitos Credit\\u00f3rios\"\n        ],\n        \"semantic_type\": \"\",\n        \"description\": \"\"\n      }\n    }\n  ]\n}",
              "type": "dataframe",
              "variable_name": "df_modelo1"
            },
            "text/html": [
              "\n",
              "  <div id=\"df-273d4a5e-6003-4d0f-9bb4-f00e305452b2\" class=\"colab-df-container\">\n",
              "    <div>\n",
              "<style scoped>\n",
              "    .dataframe tbody tr th:only-of-type {\n",
              "        vertical-align: middle;\n",
              "    }\n",
              "\n",
              "    .dataframe tbody tr th {\n",
              "        vertical-align: top;\n",
              "    }\n",
              "\n",
              "    .dataframe thead th {\n",
              "        text-align: right;\n",
              "    }\n",
              "</style>\n",
              "<table border=\"1\" class=\"dataframe\">\n",
              "  <thead>\n",
              "    <tr style=\"text-align: right;\">\n",
              "      <th></th>\n",
              "      <th>frase</th>\n",
              "      <th>classificacao</th>\n",
              "    </tr>\n",
              "  </thead>\n",
              "  <tbody>\n",
              "    <tr>\n",
              "      <th>0</th>\n",
              "      <td>Quero todas as regulamentações sobre fundos de...</td>\n",
              "      <td>Fundos de investimento</td>\n",
              "    </tr>\n",
              "    <tr>\n",
              "      <th>1</th>\n",
              "      <td>Quais são as normas para criação de fundos de ...</td>\n",
              "      <td>Fundos de investimento</td>\n",
              "    </tr>\n",
              "    <tr>\n",
              "      <th>2</th>\n",
              "      <td>Preciso das regulamentações sobre fundos imobi...</td>\n",
              "      <td>Fundos de investimento</td>\n",
              "    </tr>\n",
              "    <tr>\n",
              "      <th>3</th>\n",
              "      <td>Informações sobre fundos de índice.</td>\n",
              "      <td>Fundos de investimento</td>\n",
              "    </tr>\n",
              "    <tr>\n",
              "      <th>4</th>\n",
              "      <td>Quero as regras para fundos de ações.</td>\n",
              "      <td>Fundos de investimento</td>\n",
              "    </tr>\n",
              "  </tbody>\n",
              "</table>\n",
              "</div>\n",
              "    <div class=\"colab-df-buttons\">\n",
              "\n",
              "  <div class=\"colab-df-container\">\n",
              "    <button class=\"colab-df-convert\" onclick=\"convertToInteractive('df-273d4a5e-6003-4d0f-9bb4-f00e305452b2')\"\n",
              "            title=\"Convert this dataframe to an interactive table.\"\n",
              "            style=\"display:none;\">\n",
              "\n",
              "  <svg xmlns=\"http://www.w3.org/2000/svg\" height=\"24px\" viewBox=\"0 -960 960 960\">\n",
              "    <path d=\"M120-120v-720h720v720H120Zm60-500h600v-160H180v160Zm220 220h160v-160H400v160Zm0 220h160v-160H400v160ZM180-400h160v-160H180v160Zm440 0h160v-160H620v160ZM180-180h160v-160H180v160Zm440 0h160v-160H620v160Z\"/>\n",
              "  </svg>\n",
              "    </button>\n",
              "\n",
              "  <style>\n",
              "    .colab-df-container {\n",
              "      display:flex;\n",
              "      gap: 12px;\n",
              "    }\n",
              "\n",
              "    .colab-df-convert {\n",
              "      background-color: #E8F0FE;\n",
              "      border: none;\n",
              "      border-radius: 50%;\n",
              "      cursor: pointer;\n",
              "      display: none;\n",
              "      fill: #1967D2;\n",
              "      height: 32px;\n",
              "      padding: 0 0 0 0;\n",
              "      width: 32px;\n",
              "    }\n",
              "\n",
              "    .colab-df-convert:hover {\n",
              "      background-color: #E2EBFA;\n",
              "      box-shadow: 0px 1px 2px rgba(60, 64, 67, 0.3), 0px 1px 3px 1px rgba(60, 64, 67, 0.15);\n",
              "      fill: #174EA6;\n",
              "    }\n",
              "\n",
              "    .colab-df-buttons div {\n",
              "      margin-bottom: 4px;\n",
              "    }\n",
              "\n",
              "    [theme=dark] .colab-df-convert {\n",
              "      background-color: #3B4455;\n",
              "      fill: #D2E3FC;\n",
              "    }\n",
              "\n",
              "    [theme=dark] .colab-df-convert:hover {\n",
              "      background-color: #434B5C;\n",
              "      box-shadow: 0px 1px 3px 1px rgba(0, 0, 0, 0.15);\n",
              "      filter: drop-shadow(0px 1px 2px rgba(0, 0, 0, 0.3));\n",
              "      fill: #FFFFFF;\n",
              "    }\n",
              "  </style>\n",
              "\n",
              "    <script>\n",
              "      const buttonEl =\n",
              "        document.querySelector('#df-273d4a5e-6003-4d0f-9bb4-f00e305452b2 button.colab-df-convert');\n",
              "      buttonEl.style.display =\n",
              "        google.colab.kernel.accessAllowed ? 'block' : 'none';\n",
              "\n",
              "      async function convertToInteractive(key) {\n",
              "        const element = document.querySelector('#df-273d4a5e-6003-4d0f-9bb4-f00e305452b2');\n",
              "        const dataTable =\n",
              "          await google.colab.kernel.invokeFunction('convertToInteractive',\n",
              "                                                    [key], {});\n",
              "        if (!dataTable) return;\n",
              "\n",
              "        const docLinkHtml = 'Like what you see? Visit the ' +\n",
              "          '<a target=\"_blank\" href=https://colab.research.google.com/notebooks/data_table.ipynb>data table notebook</a>'\n",
              "          + ' to learn more about interactive tables.';\n",
              "        element.innerHTML = '';\n",
              "        dataTable['output_type'] = 'display_data';\n",
              "        await google.colab.output.renderOutput(dataTable, element);\n",
              "        const docLink = document.createElement('div');\n",
              "        docLink.innerHTML = docLinkHtml;\n",
              "        element.appendChild(docLink);\n",
              "      }\n",
              "    </script>\n",
              "  </div>\n",
              "\n",
              "\n",
              "<div id=\"df-f1a878e5-12a9-41bf-bda0-1b16d4fcc62f\">\n",
              "  <button class=\"colab-df-quickchart\" onclick=\"quickchart('df-f1a878e5-12a9-41bf-bda0-1b16d4fcc62f')\"\n",
              "            title=\"Suggest charts\"\n",
              "            style=\"display:none;\">\n",
              "\n",
              "<svg xmlns=\"http://www.w3.org/2000/svg\" height=\"24px\"viewBox=\"0 0 24 24\"\n",
              "     width=\"24px\">\n",
              "    <g>\n",
              "        <path d=\"M19 3H5c-1.1 0-2 .9-2 2v14c0 1.1.9 2 2 2h14c1.1 0 2-.9 2-2V5c0-1.1-.9-2-2-2zM9 17H7v-7h2v7zm4 0h-2V7h2v10zm4 0h-2v-4h2v4z\"/>\n",
              "    </g>\n",
              "</svg>\n",
              "  </button>\n",
              "\n",
              "<style>\n",
              "  .colab-df-quickchart {\n",
              "      --bg-color: #E8F0FE;\n",
              "      --fill-color: #1967D2;\n",
              "      --hover-bg-color: #E2EBFA;\n",
              "      --hover-fill-color: #174EA6;\n",
              "      --disabled-fill-color: #AAA;\n",
              "      --disabled-bg-color: #DDD;\n",
              "  }\n",
              "\n",
              "  [theme=dark] .colab-df-quickchart {\n",
              "      --bg-color: #3B4455;\n",
              "      --fill-color: #D2E3FC;\n",
              "      --hover-bg-color: #434B5C;\n",
              "      --hover-fill-color: #FFFFFF;\n",
              "      --disabled-bg-color: #3B4455;\n",
              "      --disabled-fill-color: #666;\n",
              "  }\n",
              "\n",
              "  .colab-df-quickchart {\n",
              "    background-color: var(--bg-color);\n",
              "    border: none;\n",
              "    border-radius: 50%;\n",
              "    cursor: pointer;\n",
              "    display: none;\n",
              "    fill: var(--fill-color);\n",
              "    height: 32px;\n",
              "    padding: 0;\n",
              "    width: 32px;\n",
              "  }\n",
              "\n",
              "  .colab-df-quickchart:hover {\n",
              "    background-color: var(--hover-bg-color);\n",
              "    box-shadow: 0 1px 2px rgba(60, 64, 67, 0.3), 0 1px 3px 1px rgba(60, 64, 67, 0.15);\n",
              "    fill: var(--button-hover-fill-color);\n",
              "  }\n",
              "\n",
              "  .colab-df-quickchart-complete:disabled,\n",
              "  .colab-df-quickchart-complete:disabled:hover {\n",
              "    background-color: var(--disabled-bg-color);\n",
              "    fill: var(--disabled-fill-color);\n",
              "    box-shadow: none;\n",
              "  }\n",
              "\n",
              "  .colab-df-spinner {\n",
              "    border: 2px solid var(--fill-color);\n",
              "    border-color: transparent;\n",
              "    border-bottom-color: var(--fill-color);\n",
              "    animation:\n",
              "      spin 1s steps(1) infinite;\n",
              "  }\n",
              "\n",
              "  @keyframes spin {\n",
              "    0% {\n",
              "      border-color: transparent;\n",
              "      border-bottom-color: var(--fill-color);\n",
              "      border-left-color: var(--fill-color);\n",
              "    }\n",
              "    20% {\n",
              "      border-color: transparent;\n",
              "      border-left-color: var(--fill-color);\n",
              "      border-top-color: var(--fill-color);\n",
              "    }\n",
              "    30% {\n",
              "      border-color: transparent;\n",
              "      border-left-color: var(--fill-color);\n",
              "      border-top-color: var(--fill-color);\n",
              "      border-right-color: var(--fill-color);\n",
              "    }\n",
              "    40% {\n",
              "      border-color: transparent;\n",
              "      border-right-color: var(--fill-color);\n",
              "      border-top-color: var(--fill-color);\n",
              "    }\n",
              "    60% {\n",
              "      border-color: transparent;\n",
              "      border-right-color: var(--fill-color);\n",
              "    }\n",
              "    80% {\n",
              "      border-color: transparent;\n",
              "      border-right-color: var(--fill-color);\n",
              "      border-bottom-color: var(--fill-color);\n",
              "    }\n",
              "    90% {\n",
              "      border-color: transparent;\n",
              "      border-bottom-color: var(--fill-color);\n",
              "    }\n",
              "  }\n",
              "</style>\n",
              "\n",
              "  <script>\n",
              "    async function quickchart(key) {\n",
              "      const quickchartButtonEl =\n",
              "        document.querySelector('#' + key + ' button');\n",
              "      quickchartButtonEl.disabled = true;  // To prevent multiple clicks.\n",
              "      quickchartButtonEl.classList.add('colab-df-spinner');\n",
              "      try {\n",
              "        const charts = await google.colab.kernel.invokeFunction(\n",
              "            'suggestCharts', [key], {});\n",
              "      } catch (error) {\n",
              "        console.error('Error during call to suggestCharts:', error);\n",
              "      }\n",
              "      quickchartButtonEl.classList.remove('colab-df-spinner');\n",
              "      quickchartButtonEl.classList.add('colab-df-quickchart-complete');\n",
              "    }\n",
              "    (() => {\n",
              "      let quickchartButtonEl =\n",
              "        document.querySelector('#df-f1a878e5-12a9-41bf-bda0-1b16d4fcc62f button');\n",
              "      quickchartButtonEl.style.display =\n",
              "        google.colab.kernel.accessAllowed ? 'block' : 'none';\n",
              "    })();\n",
              "  </script>\n",
              "</div>\n",
              "\n",
              "    </div>\n",
              "  </div>\n"
            ],
            "text/plain": [
              "                                               frase           classificacao\n",
              "0  Quero todas as regulamentações sobre fundos de...  Fundos de investimento\n",
              "1  Quais são as normas para criação de fundos de ...  Fundos de investimento\n",
              "2  Preciso das regulamentações sobre fundos imobi...  Fundos de investimento\n",
              "3                Informações sobre fundos de índice.  Fundos de investimento\n",
              "4              Quero as regras para fundos de ações.  Fundos de investimento"
            ]
          },
          "execution_count": 83,
          "metadata": {},
          "output_type": "execute_result"
        }
      ],
      "source": [
        "df_modelo1 = df_dados.copy()\n",
        "df_modelo1.head()"
      ]
    },
    {
      "cell_type": "markdown",
      "metadata": {
        "id": "LXRnaxXt8PLe"
      },
      "source": [
        "## 3.2 Pré-Processamento\n",
        "\n",
        "O pré-processamento é a etapa em que envolve transformar os dados em um formato adequado para o modelo preditivo processar."
      ]
    },
    {
      "cell_type": "markdown",
      "metadata": {
        "id": "ydpiLnRkjoMf"
      },
      "source": [
        "### 3.2.1 Filtro\n",
        "Esta etapa remove datas e pontuações do texto. Primeiro, é utilizada uma expressão regular para encontrar e remover datas no formato dd/mm/aaaa. Em seguida, são removidas as pontuações, resultando em um texto somente com letras."
      ]
    },
    {
      "cell_type": "code",
      "execution_count": 49,
      "metadata": {
        "id": "q-DEuT5YiZkE"
      },
      "outputs": [],
      "source": [
        "import string\n",
        "def remover_pontuacao_e_datas(texto):\n",
        "    padrao_data = r'\\b\\d{1,2}/\\d{1,2}(?:/\\d{2,4})?\\b'\n",
        "\n",
        "    texto_sem_datas = re.sub(padrao_data, '', texto)\n",
        "\n",
        "    texto_sem_pontuacao = texto_sem_datas.translate(str.maketrans('', '', string.punctuation))\n",
        "\n",
        "    somente_texto = ' '.join(texto_sem_pontuacao.split())\n",
        "\n",
        "    return somente_texto"
      ]
    },
    {
      "cell_type": "markdown",
      "metadata": {
        "id": "l9UrtW2obC7D"
      },
      "source": [
        "#### Teste da função de filtro"
      ]
    },
    {
      "cell_type": "code",
      "execution_count": 50,
      "metadata": {
        "colab": {
          "base_uri": "https://localhost:8080/"
        },
        "id": "aD00zt7wjAZ2",
        "outputId": "cb36d7dd-b0ea-46d3-f588-a8c5b1de3255"
      },
      "outputs": [
        {
          "name": "stdout",
          "output_type": "stream",
          "text": [
            "O rato roeu a roupa do rei de Roma em\n",
            "Teste passou!\n"
          ]
        }
      ],
      "source": [
        "teste_somente_texto = remover_pontuacao_e_datas('O rato roeu a roupa do rei de Roma em 14/04/2004.')\n",
        "print(teste_somente_texto)\n",
        "\n",
        "if teste_somente_texto == 'O rato roeu a roupa do rei de Roma em':\n",
        "    print(\"Teste passou!\")\n",
        "else:\n",
        "    print(\"Teste falhou.\")"
      ]
    },
    {
      "cell_type": "markdown",
      "metadata": {
        "id": "VbpWB-r_DzXM"
      },
      "source": [
        "### 3.2.2 Minúsculo\n",
        "\n",
        "Esta etapa transforma todo o texto em letras minúsculas, garantindo consistência no tratamento das palavras."
      ]
    },
    {
      "cell_type": "code",
      "execution_count": 51,
      "metadata": {
        "id": "saGmxnXb8ZWF"
      },
      "outputs": [],
      "source": [
        "def texto_para_minusculo(texto):\n",
        "    return texto.lower()"
      ]
    },
    {
      "cell_type": "markdown",
      "metadata": {
        "id": "7l_1-NWmvtpa"
      },
      "source": [
        "####Teste da etapa"
      ]
    },
    {
      "cell_type": "code",
      "execution_count": 52,
      "metadata": {
        "colab": {
          "base_uri": "https://localhost:8080/"
        },
        "id": "eRHU2TtBEAHs",
        "outputId": "16cda7c2-c7f1-4c15-d70a-85fc934d7bb8"
      },
      "outputs": [
        {
          "name": "stdout",
          "output_type": "stream",
          "text": [
            "Teste passou!\n"
          ]
        }
      ],
      "source": [
        "resultado_minusculo = texto_para_minusculo('O rato roeu a roupa do rei de Roma')\n",
        "\n",
        "if resultado_minusculo == \"o rato roeu a roupa do rei de roma\":\n",
        "    print(\"Teste passou!\")\n",
        "else:\n",
        "    print(\"Teste falhou.\")"
      ]
    },
    {
      "cell_type": "markdown",
      "metadata": {
        "id": "AzcI3NnkD5QG"
      },
      "source": [
        "### 3.2.3 Tokenização\n",
        "\n",
        " Etapa para realizar a tokenização do texto, dividindo-o em uma lista de palavras (tokens), que facilita o processamento de forma individual"
      ]
    },
    {
      "cell_type": "code",
      "execution_count": 53,
      "metadata": {
        "id": "7OV-aSVM6iBo"
      },
      "outputs": [],
      "source": [
        "def tokenizar_texto(texto):\n",
        "    return word_tokenize(texto)"
      ]
    },
    {
      "cell_type": "markdown",
      "metadata": {
        "id": "yocNyxFxv3Yu"
      },
      "source": [
        "####Teste da etapa"
      ]
    },
    {
      "cell_type": "code",
      "execution_count": 54,
      "metadata": {
        "colab": {
          "base_uri": "https://localhost:8080/"
        },
        "id": "mOJk25jFFgwv",
        "outputId": "fc975375-3c4c-4ee7-e6b1-d62f374fd8c3"
      },
      "outputs": [
        {
          "name": "stdout",
          "output_type": "stream",
          "text": [
            "['O', 'rato', 'roeu', 'a', 'roupa', 'do', 'rei', 'de', 'Roma']\n",
            "Teste passou!\n"
          ]
        }
      ],
      "source": [
        "teste_tokens = tokenizar_texto('O rato roeu a roupa do rei de Roma')\n",
        "print(teste_tokens)\n",
        "\n",
        "if teste_tokens == ['O', 'rato', 'roeu', 'a', 'roupa', 'do', 'rei', 'de', 'Roma']:\n",
        "    print(\"Teste passou!\")\n",
        "else:\n",
        "    print(\"Teste falhou.\")"
      ]
    },
    {
      "cell_type": "markdown",
      "metadata": {
        "id": "XLmTpDk5EEpo"
      },
      "source": [
        "### 3.2.4 StopWords\n",
        "\n",
        "Etapa que remove stopwords do texto, eliminando palavras comuns e irrelevantes como \"e\", \"o\", \"de\"."
      ]
    },
    {
      "cell_type": "code",
      "execution_count": 55,
      "metadata": {
        "id": "nacwSdhg9gL1"
      },
      "outputs": [],
      "source": [
        "def remover_stopwords(texto):\n",
        "  stop_words = set(stopwords.words('portuguese'))\n",
        "  return [word for word in texto if word.lower() not in stop_words]"
      ]
    },
    {
      "cell_type": "markdown",
      "metadata": {
        "id": "z1yZpFEjv7wu"
      },
      "source": [
        "#### Teste da etapa"
      ]
    },
    {
      "cell_type": "code",
      "execution_count": 56,
      "metadata": {
        "colab": {
          "base_uri": "https://localhost:8080/"
        },
        "id": "O3XUDwDfHKIO",
        "outputId": "870a88f1-cc2b-42b0-dc9b-f073f00f892a"
      },
      "outputs": [
        {
          "name": "stdout",
          "output_type": "stream",
          "text": [
            "Sem stopwords: ['rato', 'roeu', 'roupa', 'rei', 'Roma']\n",
            "Teste passou!\n"
          ]
        }
      ],
      "source": [
        "teste_stopwords = remover_stopwords(teste_tokens)\n",
        "print('Sem stopwords:', teste_stopwords)\n",
        "\n",
        "if teste_stopwords == ['rato', 'roeu', 'roupa', 'rei', 'Roma']:\n",
        "    print(\"Teste passou!\")\n",
        "else:\n",
        "    print(\"Teste falhou.\")"
      ]
    },
    {
      "cell_type": "markdown",
      "metadata": {
        "id": "U2roUA_CEIIF"
      },
      "source": [
        "### 3.2.5 Extrair Entidades Regulamentadoras\n",
        "\n",
        "Identificação de tokens que correspondem aos nomes dos reguladores financeiros."
      ]
    },
    {
      "cell_type": "markdown",
      "metadata": {
        "id": "zOUHmrZFl659"
      },
      "source": [
        "A identificação dos reguladores é realizada através de uma expressão regularque é gerada para encontrar termos específicos que corrrespondem ao dicionário criado, retornando os reguladores encontrados no texto."
      ]
    },
    {
      "cell_type": "code",
      "execution_count": 57,
      "metadata": {
        "id": "UjSUVosp63XS"
      },
      "outputs": [],
      "source": [
        "def extrair_reguladores(tokens):\n",
        "    dicionario = {\"anbima\", \"nuclea\", \"bacen\", \"cvm\", \"b3\", \"selic\", \"banco do brasil\", \"anpd\", \"bsm\", \"febraban\", \"apimec\", \"abbc\", \"coaf\"}\n",
        "    padrao = r'\\b(?:' + '|'.join(re.escape(palavra) for palavra in dicionario) + r')\\b'\n",
        "\n",
        "    if isinstance(tokens, str):\n",
        "        doc = nlp(tokens)\n",
        "        tokens = [token.text for token in doc]\n",
        "\n",
        "    reguladores_encontrados = [token for token in tokens if re.search(padrao, token.lower())]\n",
        "\n",
        "    return reguladores_encontrados"
      ]
    },
    {
      "cell_type": "markdown",
      "metadata": {
        "id": "Hj_jbQbpwAaf"
      },
      "source": [
        "####Teste da etapa"
      ]
    },
    {
      "cell_type": "markdown",
      "metadata": {
        "id": "WFhmoJSTwKid"
      },
      "source": [
        "Teste com tokens"
      ]
    },
    {
      "cell_type": "code",
      "execution_count": 58,
      "metadata": {
        "colab": {
          "base_uri": "https://localhost:8080/"
        },
        "id": "scKXS2Yj2VQl",
        "outputId": "c8187100-6160-49a2-dbf9-f3866ef27e44"
      },
      "outputs": [
        {
          "name": "stdout",
          "output_type": "stream",
          "text": [
            "Reguladores: ['bacen']\n",
            "Teste passou!\n"
          ]
        }
      ],
      "source": [
        "teste_reguladores_tokens = extrair_reguladores(['todas', 'as', 'regulamentações', 'do', 'bacen'])\n",
        "print('Reguladores:', teste_reguladores_tokens)\n",
        "\n",
        "if teste_reguladores_tokens == ['bacen']:\n",
        "    print(\"Teste passou!\")\n",
        "else:\n",
        "    print(\"Teste falhou.\")"
      ]
    },
    {
      "cell_type": "markdown",
      "metadata": {
        "id": "J2QpHu02wDjl"
      },
      "source": [
        "Teste com frase"
      ]
    },
    {
      "cell_type": "code",
      "execution_count": 59,
      "metadata": {
        "colab": {
          "base_uri": "https://localhost:8080/"
        },
        "id": "BWsTCQuMTF96",
        "outputId": "8dafef35-3710-4286-c79f-39a50ae3c33c"
      },
      "outputs": [
        {
          "name": "stdout",
          "output_type": "stream",
          "text": [
            "Reguladores: ['bacen']\n",
            "Teste passou!\n"
          ]
        }
      ],
      "source": [
        "teste_reguladores_string = extrair_reguladores('todas as regulamentações do bacen')\n",
        "print('Reguladores:', teste_reguladores_string)\n",
        "\n",
        "if teste_reguladores_string == ['bacen']:\n",
        "    print(\"Teste passou!\")\n",
        "else:\n",
        "    print(\"Teste falhou.\")"
      ]
    },
    {
      "cell_type": "markdown",
      "metadata": {
        "id": "ZWJb684aEDjX"
      },
      "source": [
        "### 3.2.6 Extrair Datas\n",
        "\n",
        "Etapa para encontras as datas citadas no texto"
      ]
    },
    {
      "cell_type": "markdown",
      "metadata": {
        "id": "Ow2BR1OImM-u"
      },
      "source": [
        " Utiliza uma expressão regular para encontrar todas as datas no formato dd/mm/aaaa ou dd/mm em um texto."
      ]
    },
    {
      "cell_type": "code",
      "execution_count": 60,
      "metadata": {
        "id": "TuVwcNZz-COL"
      },
      "outputs": [],
      "source": [
        "def encontrar_datas(texto):\n",
        "    padrao_data = r'\\b\\d{1,2}/\\d{1,2}(?:/\\d{2,4})?\\b'\n",
        "    datas = re.findall(padrao_data, texto)\n",
        "    return datas"
      ]
    },
    {
      "cell_type": "markdown",
      "metadata": {
        "id": "K8xa3mihwPZ3"
      },
      "source": [
        "#### Teste da etapa"
      ]
    },
    {
      "cell_type": "code",
      "execution_count": 61,
      "metadata": {
        "colab": {
          "base_uri": "https://localhost:8080/"
        },
        "id": "1TTGF-oCzUZO",
        "outputId": "0abb6c07-1356-4f84-ed7c-7ca205d06a50"
      },
      "outputs": [
        {
          "name": "stdout",
          "output_type": "stream",
          "text": [
            "Datas: ['14/04/2004', '12/08']\n",
            "Teste passou!\n"
          ]
        }
      ],
      "source": [
        "teste_datas = encontrar_datas('O rato roeu a roupa do rei de Roma em 14/04/2004 e depois em 12/08 do mesmo ano.')\n",
        "print('Datas:', teste_datas)\n",
        "\n",
        "if teste_datas == ['14/04/2004', '12/08']:\n",
        "    print(\"Teste passou!\")\n",
        "else:\n",
        "    print(\"Teste falhou.\")"
      ]
    },
    {
      "cell_type": "markdown",
      "metadata": {
        "id": "Em86zxKkXKeB"
      },
      "source": [
        "### 3.2.7 Vetorização\n",
        "Etapa para encontrar o vetor das frases, utilizando um modelo pré-treinado Word2Vec, que mapeia palavras para seus vetores correspondentes.\n"
      ]
    },
    {
      "cell_type": "markdown",
      "metadata": {
        "id": "rD_Ond5DnVxN"
      },
      "source": [
        "Carregando o modelo:"
      ]
    },
    {
      "cell_type": "code",
      "execution_count": 63,
      "metadata": {
        "id": "RLABjBN38nc8"
      },
      "outputs": [],
      "source": [
        "model_w2v = KeyedVectors.load_word2vec_format('slip_s300.txt', binary=False)"
      ]
    },
    {
      "cell_type": "markdown",
      "metadata": {
        "id": "QB4PpWOOnPa6"
      },
      "source": [
        "Salva o modelo Word2Vec em um arquivo, permitindo que o modelo seja carregado posteriormente"
      ]
    },
    {
      "cell_type": "code",
      "execution_count": 64,
      "metadata": {
        "id": "kMDQm-eWEY2V"
      },
      "outputs": [],
      "source": [
        "with open('model_w2v.pkl', 'wb') as f:\n",
        "    pickle.dump(model_w2v, f)"
      ]
    },
    {
      "cell_type": "markdown",
      "metadata": {
        "id": "fcF6nRmhniZt"
      },
      "source": [
        "A lógica encontrada na função gera a média dos vetores de palavras (tokens) de um texto usando o modelo. Se nenhuma palavra for encontrada no modelo, é retornado um vetor nulo."
      ]
    },
    {
      "cell_type": "code",
      "execution_count": 65,
      "metadata": {
        "id": "yAnev9GYlWsS"
      },
      "outputs": [],
      "source": [
        "def vetorizar(tokens, model):\n",
        "    vectors = [model[token] for token in tokens if token in model]\n",
        "\n",
        "    if len(vectors) > 0:\n",
        "        return np.mean(vectors, axis=0)\n",
        "    else:\n",
        "        return np.zeros(model.vector_size)"
      ]
    },
    {
      "cell_type": "markdown",
      "metadata": {
        "id": "Pbj1l8qhwV9G"
      },
      "source": [
        "####Teste da etapa"
      ]
    },
    {
      "cell_type": "code",
      "execution_count": 66,
      "metadata": {
        "colab": {
          "base_uri": "https://localhost:8080/"
        },
        "id": "QZqKkE1ue5sL",
        "outputId": "f2717127-35da-4656-e63f-ff9826b0f7f0"
      },
      "outputs": [
        {
          "name": "stdout",
          "output_type": "stream",
          "text": [
            "Teste passou!\n"
          ]
        }
      ],
      "source": [
        "teste_vetorizar = vetorizar(['rato', 'roeu', 'roupa', 'rei', 'roma'], model_w2v)\n",
        "\n",
        "vetor_esperado = np.array([0.011315, -0.0205364, -0.17001821, 0.0281516, -0.0009176, 0.0048138,\n",
        " 0.18003121, -0.080958, 0.10080741, 0.0004238, -0.1151844, -0.19962598,\n",
        " 0.0086752, 0.1176168, -0.1799024, -0.0301898, -0.0458002, 0.13258919,\n",
        " -0.2186378, -0.0577094, -0.0155758, -0.1074546, 0.0311892, 0.0110948,\n",
        " -0.0331072, -0.0066584, -0.0006306, 0.0363484, -0.03908, -0.0272782,\n",
        " 0.0033082, 0.12251041, -0.0291818, -0.0924454, 0.1087174, -0.0194612,\n",
        " -0.1306488, -0.0064442, -0.14920822, 0.0102678, 0.0451484, 0.12865861,\n",
        " 0.0048968, 0.0209104, 0.1455828, 0.1445082, 0.0672162, -0.14650841,\n",
        " 0.0122242, 0.0641984, -0.14387742, -0.12351298, -0.0743102, 0.010645,\n",
        " -0.0058324, 0.1283564, 0.17453358, -0.0113002, 0.07685401, -0.0293362,\n",
        " 0.235621, 0.1729084, -0.0046264, 0.2931738, 0.0711944, 0.1012754,\n",
        " 0.0191284, -0.0504944, -0.056211, 0.11169519, -0.001861, -0.0183702,\n",
        " -0.1344516, -0.0805426, 0.071469, 0.09303741, 0.152423, 0.18703242,\n",
        " 0.0747038, -0.0508168, 0.1444946, -0.0035698, -0.08759481, -0.076339,\n",
        " 0.12213258, 0.0536314, 0.0848024, -0.0126872, 0.0621534, -0.0136734,\n",
        " 0.0460204, 0.0165238, -0.0114024, 0.0789194, -0.12512961, -0.0599654,\n",
        " 0.0271274, 0.135197, 0.1203802, 0.012631, -0.10814039, -0.001666,\n",
        " 0.102235, 0.1412142, -0.1432326, 0.0364698, -0.0405188, -0.0619444,\n",
        " -0.0492014, -0.0717724, -0.1767314, 0.0941186, -0.0390486, 0.00346881,\n",
        " -0.0504774, -0.1277366, -0.1068394, -0.016379, 0.08483, 0.0436618,\n",
        " -0.0290356, -0.1612932, -0.1624266, 0.0509808, -0.0009336, -0.06578721,\n",
        " 0.064263, 0.0331882, -0.0223034, 0.15584101, 0.0763886, 0.167244,\n",
        " 0.0055764, -0.0992348, 0.0563692, 0.0334334, 0.0829898, -0.0114544,\n",
        " 0.0827342, 0.003771, 0.11818061, -0.1387858, -0.16577761, -0.0435748,\n",
        " -0.0652956, 0.1459164, -0.092326, 0.0457522, 0.1035466, 0.11414399,\n",
        " 0.0691928, -0.07784601, 0.0418476, 0.0170276, 0.0658464, -0.0077656,\n",
        " 0.0068582, 0.0546224, 0.09042339, -0.0248642, 0.12831381, -0.07216899,\n",
        " -0.0140408, 0.0875768, -0.1052142, -0.0194332, -0.010973, -0.0451834,\n",
        " -0.0675572, 0.0428458, -0.0641458, 0.12179039, 0.0664384, -0.107638,\n",
        " 0.17734359, -0.053135, 0.0106202, -0.0647184, -0.053587, 0.0073988,\n",
        " 0.1080248, -0.0046844, -0.0360702, -0.0523194, -0.0375274, -0.0285122,\n",
        " 0.0196288, 0.041194, 0.1889396, -0.096296, 0.0562956, 0.02518399,\n",
        " -0.0009708, -0.0854838, 0.1022352, 0.062502, -0.0499102, 0.1525736,\n",
        " 0.1061274, 0.0242386, 0.0211244, -0.0302766, 0.18772559, -0.0856622,\n",
        " 0.207165, 0.0609228, -0.0187748, -0.0456716, 0.12414519, 0.109781,\n",
        " 0.0735934, 0.16670501, -0.0586932, -0.2012252, 0.06886339, 0.0472362,\n",
        " -0.24177119, 0.1424724, -0.0371788, 0.0703512, -0.0885094, -0.0168308,\n",
        " 0.0459068, 0.1166916, -0.01727881, 0.0551434, 0.0373472, -0.0564362,\n",
        " 0.1323012, 0.0090224, 0.1767146, 0.19905919, -0.0011484, 0.09186,\n",
        " -0.0228936, 0.0593226, 0.1362142, -0.0113414, -0.0417284, 0.08379,\n",
        " -0.0330084, -0.03994419, -0.0810144, 0.106915, 0.18364678, -0.0166938,\n",
        " -0.13166079, -0.0920856, 0.059012, 0.1711318, -0.08764941, -0.0141916,\n",
        " -0.11621161, -0.006381, 0.06006581, -0.1001544, -0.05137841, 0.1269888,\n",
        " 0.052793, 0.23856762, 0.073796, 0.0570218, -0.0531292, -0.16851,\n",
        " 0.0124098, -0.0032158, 0.053224, -0.0349538, 0.0697724, -0.2481112,\n",
        " -0.12974378, 0.0010186, -0.11761081, 0.13135299, -0.0193144, -0.0770366,\n",
        " 0.070598, -0.0012104, -0.1015162, 0.05923041, 0.11690021, -0.13229279,\n",
        " 0.0367152, -0.11344141, 0.1702454, 0.0231894, 0.0874332, 0.04045121,\n",
        " -0.0516392, -0.0322326, 0.0095716, -0.0441072, 0.0474756, -0.0242582,\n",
        " 0.0439002, 0.0247672, 0.0913422, 0.01262119, 0.1575518, -0.039768  ])\n",
        "\n",
        "if np.allclose(teste_vetorizar, vetor_esperado):\n",
        "    print(\"Teste passou!\")\n",
        "else:\n",
        "    print(\"Teste falhou.\")"
      ]
    },
    {
      "cell_type": "markdown",
      "metadata": {
        "id": "RAWwcNTwXsGE"
      },
      "source": [
        "### 3.2.8 Label Encoder\n",
        "Etapa para realizar a conversão dos valores categóricos das em numéricos."
      ]
    },
    {
      "cell_type": "code",
      "execution_count": 67,
      "metadata": {
        "id": "gNOlNCFlk8Xa"
      },
      "outputs": [],
      "source": [
        "def label_encoding(df, coluna):\n",
        "    le = LabelEncoder()\n",
        "    df[coluna] = le.fit_transform(df[coluna])\n",
        "    return df, le"
      ]
    },
    {
      "cell_type": "markdown",
      "metadata": {
        "id": "6JJEm3pwwkTg"
      },
      "source": [
        "####Teste da etapa"
      ]
    },
    {
      "cell_type": "code",
      "execution_count": 68,
      "metadata": {
        "colab": {
          "base_uri": "https://localhost:8080/"
        },
        "id": "eDWfzgJLcCCM",
        "outputId": "eb5a202b-8c40-4efa-9e86-efcef6740d63"
      },
      "outputs": [
        {
          "name": "stdout",
          "output_type": "stream",
          "text": [
            "(   classificacao\n",
            "0              1\n",
            "1              0\n",
            "2              1\n",
            "3              0\n",
            "4              1, LabelEncoder())\n",
            "Teste falhou.\n"
          ]
        }
      ],
      "source": [
        "dados_teste = {'classificacao': ['positivo', 'negativo', 'positivo', 'negativo', 'positivo']}\n",
        "df_teste = pd.DataFrame(dados_teste)\n",
        "\n",
        "teste_label_encoder = label_encoding(df_teste, 'classificacao')\n",
        "print(teste_label_encoder)\n",
        "\n",
        "classes_esperadas = np.array([1, 0, 1, 0, 1])\n",
        "\n",
        "if np.array_equal(teste_label_encoder, classes_esperadas):\n",
        "    print(\"Teste passou!\")\n",
        "else:\n",
        "    print(\"Teste falhou.\")\n"
      ]
    },
    {
      "cell_type": "markdown",
      "metadata": {
        "id": "YcTPbthOuDv6"
      },
      "source": [
        "### 3.2.9 Pipeline de pré-processamento\n",
        "Apresenta as etapas em sequência, automatizando o fluxo de pré-processamento dos inputs e dataset.\n",
        "\n",
        "Isso é realizado combinando as funções definidas anteriormente: remover pontuação e datas, converter o texto para minúsculas, tokenizar, remover stopwords, e vetorizar os tokens. Para o dataset, é também aplicado a codificação das colunas categóricas."
      ]
    },
    {
      "cell_type": "code",
      "execution_count": 69,
      "metadata": {
        "id": "0fjRzBgQjvYF"
      },
      "outputs": [],
      "source": [
        "def pipeline_frases(texto, model):\n",
        "    somente_texto = remover_pontuacao_e_datas(texto)\n",
        "\n",
        "    texto_minusculo = texto_para_minusculo(somente_texto)\n",
        "\n",
        "    tokens = tokenizar_texto(texto_minusculo)\n",
        "\n",
        "    texto_sem_stopwords = remover_stopwords(tokens)\n",
        "\n",
        "    vetor = vetorizar(texto_sem_stopwords, model)\n",
        "\n",
        "    return vetor"
      ]
    },
    {
      "cell_type": "code",
      "execution_count": 80,
      "metadata": {
        "id": "Lr23SgaGlJQ0"
      },
      "outputs": [],
      "source": [
        "def pipeline_modelo(df, coluna_frase, coluna_classe, model):\n",
        "    df[coluna_frase] = df[coluna_frase].apply(lambda frase: pipeline_frases(frase, model))\n",
        "\n",
        "    df, le = label_encoding(df, coluna_classe)\n",
        "\n",
        "    return df, le\n"
      ]
    },
    {
      "cell_type": "markdown",
      "metadata": {
        "id": "eMSQhw9Owr_J"
      },
      "source": [
        "####Teste da etapa"
      ]
    },
    {
      "cell_type": "code",
      "execution_count": 81,
      "metadata": {
        "colab": {
          "base_uri": "https://localhost:8080/"
        },
        "id": "A14TXClK671W",
        "outputId": "0bba3d67-a37c-4572-bb0a-2bdf89fe5e2c"
      },
      "outputs": [
        {
          "name": "stdout",
          "output_type": "stream",
          "text": [
            "Teste passou!\n"
          ]
        }
      ],
      "source": [
        "pipeline_frase_teste = pipeline_frases('O rato roeu a roupa do rei de Roma', model_w2v)\n",
        "\n",
        "vetor_esperado = np.array([0.011315, -0.0205364, -0.17001821, 0.0281516, -0.0009176, 0.0048138,\n",
        " 0.18003121, -0.080958, 0.10080741, 0.0004238, -0.1151844, -0.19962598,\n",
        " 0.0086752, 0.1176168, -0.1799024, -0.0301898, -0.0458002, 0.13258919,\n",
        " -0.2186378, -0.0577094, -0.0155758, -0.1074546, 0.0311892, 0.0110948,\n",
        " -0.0331072, -0.0066584, -0.0006306, 0.0363484, -0.03908, -0.0272782,\n",
        " 0.0033082, 0.12251041, -0.0291818, -0.0924454, 0.1087174, -0.0194612,\n",
        " -0.1306488, -0.0064442, -0.14920822, 0.0102678, 0.0451484, 0.12865861,\n",
        " 0.0048968, 0.0209104, 0.1455828, 0.1445082, 0.0672162, -0.14650841,\n",
        " 0.0122242, 0.0641984, -0.14387742, -0.12351298, -0.0743102, 0.010645,\n",
        " -0.0058324, 0.1283564, 0.17453358, -0.0113002, 0.07685401, -0.0293362,\n",
        " 0.235621, 0.1729084, -0.0046264, 0.2931738, 0.0711944, 0.1012754,\n",
        " 0.0191284, -0.0504944, -0.056211, 0.11169519, -0.001861, -0.0183702,\n",
        " -0.1344516, -0.0805426, 0.071469, 0.09303741, 0.152423, 0.18703242,\n",
        " 0.0747038, -0.0508168, 0.1444946, -0.0035698, -0.08759481, -0.076339,\n",
        " 0.12213258, 0.0536314, 0.0848024, -0.0126872, 0.0621534, -0.0136734,\n",
        " 0.0460204, 0.0165238, -0.0114024, 0.0789194, -0.12512961, -0.0599654,\n",
        " 0.0271274, 0.135197, 0.1203802, 0.012631, -0.10814039, -0.001666,\n",
        " 0.102235, 0.1412142, -0.1432326, 0.0364698, -0.0405188, -0.0619444,\n",
        " -0.0492014, -0.0717724, -0.1767314, 0.0941186, -0.0390486, 0.00346881,\n",
        " -0.0504774, -0.1277366, -0.1068394, -0.016379, 0.08483, 0.0436618,\n",
        " -0.0290356, -0.1612932, -0.1624266, 0.0509808, -0.0009336, -0.06578721,\n",
        " 0.064263, 0.0331882, -0.0223034, 0.15584101, 0.0763886, 0.167244,\n",
        " 0.0055764, -0.0992348, 0.0563692, 0.0334334, 0.0829898, -0.0114544,\n",
        " 0.0827342, 0.003771, 0.11818061, -0.1387858, -0.16577761, -0.0435748,\n",
        " -0.0652956, 0.1459164, -0.092326, 0.0457522, 0.1035466, 0.11414399,\n",
        " 0.0691928, -0.07784601, 0.0418476, 0.0170276, 0.0658464, -0.0077656,\n",
        " 0.0068582, 0.0546224, 0.09042339, -0.0248642, 0.12831381, -0.07216899,\n",
        " -0.0140408, 0.0875768, -0.1052142, -0.0194332, -0.010973, -0.0451834,\n",
        " -0.0675572, 0.0428458, -0.0641458, 0.12179039, 0.0664384, -0.107638,\n",
        " 0.17734359, -0.053135, 0.0106202, -0.0647184, -0.053587, 0.0073988,\n",
        " 0.1080248, -0.0046844, -0.0360702, -0.0523194, -0.0375274, -0.0285122,\n",
        " 0.0196288, 0.041194, 0.1889396, -0.096296, 0.0562956, 0.02518399,\n",
        " -0.0009708, -0.0854838, 0.1022352, 0.062502, -0.0499102, 0.1525736,\n",
        " 0.1061274, 0.0242386, 0.0211244, -0.0302766, 0.18772559, -0.0856622,\n",
        " 0.207165, 0.0609228, -0.0187748, -0.0456716, 0.12414519, 0.109781,\n",
        " 0.0735934, 0.16670501, -0.0586932, -0.2012252, 0.06886339, 0.0472362,\n",
        " -0.24177119, 0.1424724, -0.0371788, 0.0703512, -0.0885094, -0.0168308,\n",
        " 0.0459068, 0.1166916, -0.01727881, 0.0551434, 0.0373472, -0.0564362,\n",
        " 0.1323012, 0.0090224, 0.1767146, 0.19905919, -0.0011484, 0.09186,\n",
        " -0.0228936, 0.0593226, 0.1362142, -0.0113414, -0.0417284, 0.08379,\n",
        " -0.0330084, -0.03994419, -0.0810144, 0.106915, 0.18364678, -0.0166938,\n",
        " -0.13166079, -0.0920856, 0.059012, 0.1711318, -0.08764941, -0.0141916,\n",
        " -0.11621161, -0.006381, 0.06006581, -0.1001544, -0.05137841, 0.1269888,\n",
        " 0.052793, 0.23856762, 0.073796, 0.0570218, -0.0531292, -0.16851,\n",
        " 0.0124098, -0.0032158, 0.053224, -0.0349538, 0.0697724, -0.2481112,\n",
        " -0.12974378, 0.0010186, -0.11761081, 0.13135299, -0.0193144, -0.0770366,\n",
        " 0.070598, -0.0012104, -0.1015162, 0.05923041, 0.11690021, -0.13229279,\n",
        " 0.0367152, -0.11344141, 0.1702454, 0.0231894, 0.0874332, 0.04045121,\n",
        " -0.0516392, -0.0322326, 0.0095716, -0.0441072, 0.0474756, -0.0242582,\n",
        " 0.0439002, 0.0247672, 0.0913422, 0.01262119, 0.1575518, -0.039768  ])\n",
        "if np.allclose(pipeline_frase_teste, vetor_esperado):\n",
        "    print(\"Teste passou!\")\n",
        "else:\n",
        "    print(\"Teste falhou.\")"
      ]
    },
    {
      "cell_type": "markdown",
      "metadata": {
        "id": "g9mzAkoMApW4"
      },
      "source": [
        "### 3.2.10 Processamento da base de dados\n",
        "\n",
        "Essa etapa aplica o pré-processamento da base de dados"
      ]
    },
    {
      "cell_type": "code",
      "execution_count": 84,
      "metadata": {
        "id": "xUBQtzymx8ID"
      },
      "outputs": [],
      "source": [
        "df_processado, le = pipeline_modelo(df_modelo1, 'frase', 'classificacao', model_w2v)"
      ]
    },
    {
      "cell_type": "code",
      "execution_count": 86,
      "metadata": {
        "colab": {
          "base_uri": "https://localhost:8080/",
          "height": 206
        },
        "id": "oJ-hcVn70Gbw",
        "outputId": "09abc966-ed21-4cd5-d87b-031588ade864"
      },
      "outputs": [
        {
          "data": {
            "application/vnd.google.colaboratory.intrinsic+json": {
              "summary": "{\n  \"name\": \"df_processado\",\n  \"rows\": 274,\n  \"fields\": [\n    {\n      \"column\": \"frase\",\n      \"properties\": {\n        \"dtype\": \"object\",\n        \"semantic_type\": \"\",\n        \"description\": \"\"\n      }\n    },\n    {\n      \"column\": \"classificacao\",\n      \"properties\": {\n        \"dtype\": \"number\",\n        \"std\": 0,\n        \"min\": 0,\n        \"max\": 2,\n        \"num_unique_values\": 3,\n        \"samples\": [\n          2,\n          1,\n          0\n        ],\n        \"semantic_type\": \"\",\n        \"description\": \"\"\n      }\n    }\n  ]\n}",
              "type": "dataframe",
              "variable_name": "df_processado"
            },
            "text/html": [
              "\n",
              "  <div id=\"df-cf92df5f-554f-403c-a7b1-6d813b7689b3\" class=\"colab-df-container\">\n",
              "    <div>\n",
              "<style scoped>\n",
              "    .dataframe tbody tr th:only-of-type {\n",
              "        vertical-align: middle;\n",
              "    }\n",
              "\n",
              "    .dataframe tbody tr th {\n",
              "        vertical-align: top;\n",
              "    }\n",
              "\n",
              "    .dataframe thead th {\n",
              "        text-align: right;\n",
              "    }\n",
              "</style>\n",
              "<table border=\"1\" class=\"dataframe\">\n",
              "  <thead>\n",
              "    <tr style=\"text-align: right;\">\n",
              "      <th></th>\n",
              "      <th>frase</th>\n",
              "      <th>classificacao</th>\n",
              "    </tr>\n",
              "  </thead>\n",
              "  <tbody>\n",
              "    <tr>\n",
              "      <th>0</th>\n",
              "      <td>[0.041368168, -0.09500485, -0.0861235, -0.0280...</td>\n",
              "      <td>2</td>\n",
              "    </tr>\n",
              "    <tr>\n",
              "      <th>1</th>\n",
              "      <td>[0.019412603, 0.050926, 0.012795602, 0.0225042...</td>\n",
              "      <td>2</td>\n",
              "    </tr>\n",
              "    <tr>\n",
              "      <th>2</th>\n",
              "      <td>[0.16175881, -0.1330094, -0.0760382, 0.0141349...</td>\n",
              "      <td>2</td>\n",
              "    </tr>\n",
              "    <tr>\n",
              "      <th>3</th>\n",
              "      <td>[0.02117625, -0.18160576, -0.041077998, 0.0855...</td>\n",
              "      <td>2</td>\n",
              "    </tr>\n",
              "    <tr>\n",
              "      <th>4</th>\n",
              "      <td>[0.0429665, 0.020914251, -0.13752425, 0.089154...</td>\n",
              "      <td>2</td>\n",
              "    </tr>\n",
              "  </tbody>\n",
              "</table>\n",
              "</div>\n",
              "    <div class=\"colab-df-buttons\">\n",
              "\n",
              "  <div class=\"colab-df-container\">\n",
              "    <button class=\"colab-df-convert\" onclick=\"convertToInteractive('df-cf92df5f-554f-403c-a7b1-6d813b7689b3')\"\n",
              "            title=\"Convert this dataframe to an interactive table.\"\n",
              "            style=\"display:none;\">\n",
              "\n",
              "  <svg xmlns=\"http://www.w3.org/2000/svg\" height=\"24px\" viewBox=\"0 -960 960 960\">\n",
              "    <path d=\"M120-120v-720h720v720H120Zm60-500h600v-160H180v160Zm220 220h160v-160H400v160Zm0 220h160v-160H400v160ZM180-400h160v-160H180v160Zm440 0h160v-160H620v160ZM180-180h160v-160H180v160Zm440 0h160v-160H620v160Z\"/>\n",
              "  </svg>\n",
              "    </button>\n",
              "\n",
              "  <style>\n",
              "    .colab-df-container {\n",
              "      display:flex;\n",
              "      gap: 12px;\n",
              "    }\n",
              "\n",
              "    .colab-df-convert {\n",
              "      background-color: #E8F0FE;\n",
              "      border: none;\n",
              "      border-radius: 50%;\n",
              "      cursor: pointer;\n",
              "      display: none;\n",
              "      fill: #1967D2;\n",
              "      height: 32px;\n",
              "      padding: 0 0 0 0;\n",
              "      width: 32px;\n",
              "    }\n",
              "\n",
              "    .colab-df-convert:hover {\n",
              "      background-color: #E2EBFA;\n",
              "      box-shadow: 0px 1px 2px rgba(60, 64, 67, 0.3), 0px 1px 3px 1px rgba(60, 64, 67, 0.15);\n",
              "      fill: #174EA6;\n",
              "    }\n",
              "\n",
              "    .colab-df-buttons div {\n",
              "      margin-bottom: 4px;\n",
              "    }\n",
              "\n",
              "    [theme=dark] .colab-df-convert {\n",
              "      background-color: #3B4455;\n",
              "      fill: #D2E3FC;\n",
              "    }\n",
              "\n",
              "    [theme=dark] .colab-df-convert:hover {\n",
              "      background-color: #434B5C;\n",
              "      box-shadow: 0px 1px 3px 1px rgba(0, 0, 0, 0.15);\n",
              "      filter: drop-shadow(0px 1px 2px rgba(0, 0, 0, 0.3));\n",
              "      fill: #FFFFFF;\n",
              "    }\n",
              "  </style>\n",
              "\n",
              "    <script>\n",
              "      const buttonEl =\n",
              "        document.querySelector('#df-cf92df5f-554f-403c-a7b1-6d813b7689b3 button.colab-df-convert');\n",
              "      buttonEl.style.display =\n",
              "        google.colab.kernel.accessAllowed ? 'block' : 'none';\n",
              "\n",
              "      async function convertToInteractive(key) {\n",
              "        const element = document.querySelector('#df-cf92df5f-554f-403c-a7b1-6d813b7689b3');\n",
              "        const dataTable =\n",
              "          await google.colab.kernel.invokeFunction('convertToInteractive',\n",
              "                                                    [key], {});\n",
              "        if (!dataTable) return;\n",
              "\n",
              "        const docLinkHtml = 'Like what you see? Visit the ' +\n",
              "          '<a target=\"_blank\" href=https://colab.research.google.com/notebooks/data_table.ipynb>data table notebook</a>'\n",
              "          + ' to learn more about interactive tables.';\n",
              "        element.innerHTML = '';\n",
              "        dataTable['output_type'] = 'display_data';\n",
              "        await google.colab.output.renderOutput(dataTable, element);\n",
              "        const docLink = document.createElement('div');\n",
              "        docLink.innerHTML = docLinkHtml;\n",
              "        element.appendChild(docLink);\n",
              "      }\n",
              "    </script>\n",
              "  </div>\n",
              "\n",
              "\n",
              "<div id=\"df-3a438376-091e-427a-a42f-26f921389f5f\">\n",
              "  <button class=\"colab-df-quickchart\" onclick=\"quickchart('df-3a438376-091e-427a-a42f-26f921389f5f')\"\n",
              "            title=\"Suggest charts\"\n",
              "            style=\"display:none;\">\n",
              "\n",
              "<svg xmlns=\"http://www.w3.org/2000/svg\" height=\"24px\"viewBox=\"0 0 24 24\"\n",
              "     width=\"24px\">\n",
              "    <g>\n",
              "        <path d=\"M19 3H5c-1.1 0-2 .9-2 2v14c0 1.1.9 2 2 2h14c1.1 0 2-.9 2-2V5c0-1.1-.9-2-2-2zM9 17H7v-7h2v7zm4 0h-2V7h2v10zm4 0h-2v-4h2v4z\"/>\n",
              "    </g>\n",
              "</svg>\n",
              "  </button>\n",
              "\n",
              "<style>\n",
              "  .colab-df-quickchart {\n",
              "      --bg-color: #E8F0FE;\n",
              "      --fill-color: #1967D2;\n",
              "      --hover-bg-color: #E2EBFA;\n",
              "      --hover-fill-color: #174EA6;\n",
              "      --disabled-fill-color: #AAA;\n",
              "      --disabled-bg-color: #DDD;\n",
              "  }\n",
              "\n",
              "  [theme=dark] .colab-df-quickchart {\n",
              "      --bg-color: #3B4455;\n",
              "      --fill-color: #D2E3FC;\n",
              "      --hover-bg-color: #434B5C;\n",
              "      --hover-fill-color: #FFFFFF;\n",
              "      --disabled-bg-color: #3B4455;\n",
              "      --disabled-fill-color: #666;\n",
              "  }\n",
              "\n",
              "  .colab-df-quickchart {\n",
              "    background-color: var(--bg-color);\n",
              "    border: none;\n",
              "    border-radius: 50%;\n",
              "    cursor: pointer;\n",
              "    display: none;\n",
              "    fill: var(--fill-color);\n",
              "    height: 32px;\n",
              "    padding: 0;\n",
              "    width: 32px;\n",
              "  }\n",
              "\n",
              "  .colab-df-quickchart:hover {\n",
              "    background-color: var(--hover-bg-color);\n",
              "    box-shadow: 0 1px 2px rgba(60, 64, 67, 0.3), 0 1px 3px 1px rgba(60, 64, 67, 0.15);\n",
              "    fill: var(--button-hover-fill-color);\n",
              "  }\n",
              "\n",
              "  .colab-df-quickchart-complete:disabled,\n",
              "  .colab-df-quickchart-complete:disabled:hover {\n",
              "    background-color: var(--disabled-bg-color);\n",
              "    fill: var(--disabled-fill-color);\n",
              "    box-shadow: none;\n",
              "  }\n",
              "\n",
              "  .colab-df-spinner {\n",
              "    border: 2px solid var(--fill-color);\n",
              "    border-color: transparent;\n",
              "    border-bottom-color: var(--fill-color);\n",
              "    animation:\n",
              "      spin 1s steps(1) infinite;\n",
              "  }\n",
              "\n",
              "  @keyframes spin {\n",
              "    0% {\n",
              "      border-color: transparent;\n",
              "      border-bottom-color: var(--fill-color);\n",
              "      border-left-color: var(--fill-color);\n",
              "    }\n",
              "    20% {\n",
              "      border-color: transparent;\n",
              "      border-left-color: var(--fill-color);\n",
              "      border-top-color: var(--fill-color);\n",
              "    }\n",
              "    30% {\n",
              "      border-color: transparent;\n",
              "      border-left-color: var(--fill-color);\n",
              "      border-top-color: var(--fill-color);\n",
              "      border-right-color: var(--fill-color);\n",
              "    }\n",
              "    40% {\n",
              "      border-color: transparent;\n",
              "      border-right-color: var(--fill-color);\n",
              "      border-top-color: var(--fill-color);\n",
              "    }\n",
              "    60% {\n",
              "      border-color: transparent;\n",
              "      border-right-color: var(--fill-color);\n",
              "    }\n",
              "    80% {\n",
              "      border-color: transparent;\n",
              "      border-right-color: var(--fill-color);\n",
              "      border-bottom-color: var(--fill-color);\n",
              "    }\n",
              "    90% {\n",
              "      border-color: transparent;\n",
              "      border-bottom-color: var(--fill-color);\n",
              "    }\n",
              "  }\n",
              "</style>\n",
              "\n",
              "  <script>\n",
              "    async function quickchart(key) {\n",
              "      const quickchartButtonEl =\n",
              "        document.querySelector('#' + key + ' button');\n",
              "      quickchartButtonEl.disabled = true;  // To prevent multiple clicks.\n",
              "      quickchartButtonEl.classList.add('colab-df-spinner');\n",
              "      try {\n",
              "        const charts = await google.colab.kernel.invokeFunction(\n",
              "            'suggestCharts', [key], {});\n",
              "      } catch (error) {\n",
              "        console.error('Error during call to suggestCharts:', error);\n",
              "      }\n",
              "      quickchartButtonEl.classList.remove('colab-df-spinner');\n",
              "      quickchartButtonEl.classList.add('colab-df-quickchart-complete');\n",
              "    }\n",
              "    (() => {\n",
              "      let quickchartButtonEl =\n",
              "        document.querySelector('#df-3a438376-091e-427a-a42f-26f921389f5f button');\n",
              "      quickchartButtonEl.style.display =\n",
              "        google.colab.kernel.accessAllowed ? 'block' : 'none';\n",
              "    })();\n",
              "  </script>\n",
              "</div>\n",
              "\n",
              "    </div>\n",
              "  </div>\n"
            ],
            "text/plain": [
              "                                               frase  classificacao\n",
              "0  [0.041368168, -0.09500485, -0.0861235, -0.0280...              2\n",
              "1  [0.019412603, 0.050926, 0.012795602, 0.0225042...              2\n",
              "2  [0.16175881, -0.1330094, -0.0760382, 0.0141349...              2\n",
              "3  [0.02117625, -0.18160576, -0.041077998, 0.0855...              2\n",
              "4  [0.0429665, 0.020914251, -0.13752425, 0.089154...              2"
            ]
          },
          "execution_count": 86,
          "metadata": {},
          "output_type": "execute_result"
        }
      ],
      "source": [
        "df_processado.head()"
      ]
    },
    {
      "cell_type": "markdown",
      "metadata": {
        "id": "0D1Bt0vdb14O"
      },
      "source": [
        "## 3.3 Treinamento do modelo\n",
        "\n",
        "Etapa em que o modelo identifica padrões para aprender a receber entradas e mapear as saídas corretas."
      ]
    },
    {
      "cell_type": "markdown",
      "metadata": {
        "id": "aba0rbx8yIn_"
      },
      "source": [
        "O código separa as entradas e saídas esperadas, e em seguida divide o conjunto em dados de treino e teste."
      ]
    },
    {
      "cell_type": "code",
      "execution_count": 87,
      "metadata": {
        "colab": {
          "base_uri": "https://localhost:8080/",
          "height": 74
        },
        "id": "wKjlyjVZukD4",
        "outputId": "959f407d-d493-47f7-d926-e4ec9b8e93c8"
      },
      "outputs": [
        {
          "data": {
            "text/html": [
              "<style>#sk-container-id-1 {color: black;}#sk-container-id-1 pre{padding: 0;}#sk-container-id-1 div.sk-toggleable {background-color: white;}#sk-container-id-1 label.sk-toggleable__label {cursor: pointer;display: block;width: 100%;margin-bottom: 0;padding: 0.3em;box-sizing: border-box;text-align: center;}#sk-container-id-1 label.sk-toggleable__label-arrow:before {content: \"▸\";float: left;margin-right: 0.25em;color: #696969;}#sk-container-id-1 label.sk-toggleable__label-arrow:hover:before {color: black;}#sk-container-id-1 div.sk-estimator:hover label.sk-toggleable__label-arrow:before {color: black;}#sk-container-id-1 div.sk-toggleable__content {max-height: 0;max-width: 0;overflow: hidden;text-align: left;background-color: #f0f8ff;}#sk-container-id-1 div.sk-toggleable__content pre {margin: 0.2em;color: black;border-radius: 0.25em;background-color: #f0f8ff;}#sk-container-id-1 input.sk-toggleable__control:checked~div.sk-toggleable__content {max-height: 200px;max-width: 100%;overflow: auto;}#sk-container-id-1 input.sk-toggleable__control:checked~label.sk-toggleable__label-arrow:before {content: \"▾\";}#sk-container-id-1 div.sk-estimator input.sk-toggleable__control:checked~label.sk-toggleable__label {background-color: #d4ebff;}#sk-container-id-1 div.sk-label input.sk-toggleable__control:checked~label.sk-toggleable__label {background-color: #d4ebff;}#sk-container-id-1 input.sk-hidden--visually {border: 0;clip: rect(1px 1px 1px 1px);clip: rect(1px, 1px, 1px, 1px);height: 1px;margin: -1px;overflow: hidden;padding: 0;position: absolute;width: 1px;}#sk-container-id-1 div.sk-estimator {font-family: monospace;background-color: #f0f8ff;border: 1px dotted black;border-radius: 0.25em;box-sizing: border-box;margin-bottom: 0.5em;}#sk-container-id-1 div.sk-estimator:hover {background-color: #d4ebff;}#sk-container-id-1 div.sk-parallel-item::after {content: \"\";width: 100%;border-bottom: 1px solid gray;flex-grow: 1;}#sk-container-id-1 div.sk-label:hover label.sk-toggleable__label {background-color: #d4ebff;}#sk-container-id-1 div.sk-serial::before {content: \"\";position: absolute;border-left: 1px solid gray;box-sizing: border-box;top: 0;bottom: 0;left: 50%;z-index: 0;}#sk-container-id-1 div.sk-serial {display: flex;flex-direction: column;align-items: center;background-color: white;padding-right: 0.2em;padding-left: 0.2em;position: relative;}#sk-container-id-1 div.sk-item {position: relative;z-index: 1;}#sk-container-id-1 div.sk-parallel {display: flex;align-items: stretch;justify-content: center;background-color: white;position: relative;}#sk-container-id-1 div.sk-item::before, #sk-container-id-1 div.sk-parallel-item::before {content: \"\";position: absolute;border-left: 1px solid gray;box-sizing: border-box;top: 0;bottom: 0;left: 50%;z-index: -1;}#sk-container-id-1 div.sk-parallel-item {display: flex;flex-direction: column;z-index: 1;position: relative;background-color: white;}#sk-container-id-1 div.sk-parallel-item:first-child::after {align-self: flex-end;width: 50%;}#sk-container-id-1 div.sk-parallel-item:last-child::after {align-self: flex-start;width: 50%;}#sk-container-id-1 div.sk-parallel-item:only-child::after {width: 0;}#sk-container-id-1 div.sk-dashed-wrapped {border: 1px dashed gray;margin: 0 0.4em 0.5em 0.4em;box-sizing: border-box;padding-bottom: 0.4em;background-color: white;}#sk-container-id-1 div.sk-label label {font-family: monospace;font-weight: bold;display: inline-block;line-height: 1.2em;}#sk-container-id-1 div.sk-label-container {text-align: center;}#sk-container-id-1 div.sk-container {/* jupyter's `normalize.less` sets `[hidden] { display: none; }` but bootstrap.min.css set `[hidden] { display: none !important; }` so we also need the `!important` here to be able to override the default hidden behavior on the sphinx rendered scikit-learn.org. See: https://github.com/scikit-learn/scikit-learn/issues/21755 */display: inline-block !important;position: relative;}#sk-container-id-1 div.sk-text-repr-fallback {display: none;}</style><div id=\"sk-container-id-1\" class=\"sk-top-container\"><div class=\"sk-text-repr-fallback\"><pre>RandomForestClassifier()</pre><b>In a Jupyter environment, please rerun this cell to show the HTML representation or trust the notebook. <br />On GitHub, the HTML representation is unable to render, please try loading this page with nbviewer.org.</b></div><div class=\"sk-container\" hidden><div class=\"sk-item\"><div class=\"sk-estimator sk-toggleable\"><input class=\"sk-toggleable__control sk-hidden--visually\" id=\"sk-estimator-id-1\" type=\"checkbox\" checked><label for=\"sk-estimator-id-1\" class=\"sk-toggleable__label sk-toggleable__label-arrow\">RandomForestClassifier</label><div class=\"sk-toggleable__content\"><pre>RandomForestClassifier()</pre></div></div></div></div></div>"
            ],
            "text/plain": [
              "RandomForestClassifier()"
            ]
          },
          "execution_count": 87,
          "metadata": {},
          "output_type": "execute_result"
        }
      ],
      "source": [
        "X = np.vstack(df_processado['frase'])\n",
        "y = df_processado['classificacao']\n",
        "\n",
        "X_train, X_test, y_train, y_test = train_test_split(X, y, test_size=0.2, random_state=42)\n",
        "\n",
        "clf = RandomForestClassifier()\n",
        "clf.fit(X_train, y_train)\n"
      ]
    },
    {
      "cell_type": "markdown",
      "metadata": {
        "id": "kEGCVXobyYn1"
      },
      "source": [
        "O modelo prevê as classes para os dados de teste.\n",
        "\n",
        "As métricas do modelo revelam um overfitting, situação esperada devido ao dataset com dados artificiais, demonstrando pouca variabilidade e consequentemente aumento da previsibilidade.\n",
        "\n",
        "Um relatório completo das métricas pode ser encontrado na documentação do projeto (index.md)."
      ]
    },
    {
      "cell_type": "code",
      "execution_count": 88,
      "metadata": {
        "colab": {
          "base_uri": "https://localhost:8080/"
        },
        "id": "Hq0lcUaJuunV",
        "outputId": "7b05d6fa-7b47-49e8-f292-14885add4874"
      },
      "outputs": [
        {
          "name": "stdout",
          "output_type": "stream",
          "text": [
            "              precision    recall  f1-score   support\n",
            "\n",
            "           0       1.00      0.95      0.97        19\n",
            "           1       0.94      1.00      0.97        17\n",
            "           2       1.00      1.00      1.00        19\n",
            "\n",
            "    accuracy                           0.98        55\n",
            "   macro avg       0.98      0.98      0.98        55\n",
            "weighted avg       0.98      0.98      0.98        55\n",
            "\n"
          ]
        }
      ],
      "source": [
        "y_pred = clf.predict(X_test)\n",
        "\n",
        "print(classification_report(y_test, y_pred))"
      ]
    },
    {
      "cell_type": "markdown",
      "metadata": {
        "id": "LlCf3fMYb5SJ"
      },
      "source": [
        "## 3.4 Previsão\n",
        "Etapa responsável por inferenciar uma classe (rótulo) em novos dados."
      ]
    },
    {
      "cell_type": "code",
      "execution_count": 89,
      "metadata": {
        "id": "C5Km1Es8u47i"
      },
      "outputs": [],
      "source": [
        "def prever(input):\n",
        "    classe_prevista = clf.predict(input.reshape(1, -1))\n",
        "    classe_original = le.inverse_transform(classe_prevista)\n",
        "\n",
        "    return classe_original.tolist() if isinstance(classe_original, np.ndarray) else classe_original"
      ]
    },
    {
      "cell_type": "markdown",
      "metadata": {
        "id": "NHjYxtLh0Nnq"
      },
      "source": [
        "A função `pesquisa` atua como pipeline, reunindo o pipeline de pré-processamento, extração de datas, reguladores e função de previsão.\n",
        "\n",
        "É a sequência de todas as etapas que o input passa até ocorrer a previsão."
      ]
    },
    {
      "cell_type": "code",
      "execution_count": 90,
      "metadata": {
        "id": "0zfL4ITVh1Hi"
      },
      "outputs": [],
      "source": [
        "def pesquisa(input):\n",
        "  input_processado = pipeline_frases(input, model_w2v)\n",
        "  datas = encontrar_datas(input)\n",
        "  texto_minusculo = texto_para_minusculo(input)\n",
        "  reguladores = extrair_reguladores(texto_minusculo)\n",
        "  previsao = prever(input_processado)\n",
        "\n",
        "  return previsao, datas, reguladores"
      ]
    },
    {
      "cell_type": "markdown",
      "metadata": {
        "id": "fNMTllP90iz4"
      },
      "source": [
        "###Teste da etapa"
      ]
    },
    {
      "cell_type": "code",
      "execution_count": 91,
      "metadata": {
        "colab": {
          "base_uri": "https://localhost:8080/"
        },
        "id": "OrAR87-MjrfI",
        "outputId": "657cf667-624b-4bed-cdaf-63c94d67d91d"
      },
      "outputs": [
        {
          "name": "stdout",
          "output_type": "stream",
          "text": [
            "(['Fundos de investimento'], ['20/08/2003'], ['anbima'])\n",
            "Teste falhou.\n"
          ]
        }
      ],
      "source": [
        "teste_pesquisa = pesquisa('Leis sobre comunhão de recursos da anbima de 20/08/2003')\n",
        "print(teste_pesquisa)\n",
        "\n",
        "if teste_pesquisa == (['Finanças'], ['20/08/2003'], ['anbima']):\n",
        "    print(\"Teste passou!\")\n",
        "else:\n",
        "    print(\"Teste falhou.\")"
      ]
    },
    {
      "cell_type": "markdown",
      "metadata": {
        "id": "PiCNAkKKu4XC"
      },
      "source": [
        "# 4. Modelo BERT\n",
        "\n"
      ]
    },
    {
      "cell_type": "markdown",
      "metadata": {
        "id": "ACSuCJYx3ofg"
      },
      "source": [
        "## 4.1 Dataset"
      ]
    },
    {
      "cell_type": "code",
      "execution_count": 92,
      "metadata": {
        "colab": {
          "base_uri": "https://localhost:8080/",
          "height": 206
        },
        "id": "nHOZWrB11fs5",
        "outputId": "f4910e72-81c6-4088-acfa-d2737a6e5dc0"
      },
      "outputs": [
        {
          "data": {
            "application/vnd.google.colaboratory.intrinsic+json": {
              "summary": "{\n  \"name\": \"df_modelo2\",\n  \"rows\": 274,\n  \"fields\": [\n    {\n      \"column\": \"frase\",\n      \"properties\": {\n        \"dtype\": \"string\",\n        \"num_unique_values\": 274,\n        \"samples\": [\n          \"Regulamenta\\u00e7\\u00f5es para fundos de investimento em telecomunica\\u00e7\\u00f5es.\",\n          \"Documentos sobre cr\\u00e9dito para turismo sustent\\u00e1vel.\",\n          \"Informa\\u00e7\\u00f5es sobre t\\u00edtulos de cr\\u00e9dito.\"\n        ],\n        \"semantic_type\": \"\",\n        \"description\": \"\"\n      }\n    },\n    {\n      \"column\": \"classificacao\",\n      \"properties\": {\n        \"dtype\": \"category\",\n        \"num_unique_values\": 3,\n        \"samples\": [\n          \"Fundos de investimento\",\n          \"Finan\\u00e7as\",\n          \"Aquisi\\u00e7\\u00e3o de Direitos Credit\\u00f3rios\"\n        ],\n        \"semantic_type\": \"\",\n        \"description\": \"\"\n      }\n    }\n  ]\n}",
              "type": "dataframe",
              "variable_name": "df_modelo2"
            },
            "text/html": [
              "\n",
              "  <div id=\"df-f0d36cc2-746f-4722-a24a-96ad91f9a2bc\" class=\"colab-df-container\">\n",
              "    <div>\n",
              "<style scoped>\n",
              "    .dataframe tbody tr th:only-of-type {\n",
              "        vertical-align: middle;\n",
              "    }\n",
              "\n",
              "    .dataframe tbody tr th {\n",
              "        vertical-align: top;\n",
              "    }\n",
              "\n",
              "    .dataframe thead th {\n",
              "        text-align: right;\n",
              "    }\n",
              "</style>\n",
              "<table border=\"1\" class=\"dataframe\">\n",
              "  <thead>\n",
              "    <tr style=\"text-align: right;\">\n",
              "      <th></th>\n",
              "      <th>frase</th>\n",
              "      <th>classificacao</th>\n",
              "    </tr>\n",
              "  </thead>\n",
              "  <tbody>\n",
              "    <tr>\n",
              "      <th>0</th>\n",
              "      <td>Quero todas as regulamentações sobre fundos de...</td>\n",
              "      <td>Fundos de investimento</td>\n",
              "    </tr>\n",
              "    <tr>\n",
              "      <th>1</th>\n",
              "      <td>Quais são as normas para criação de fundos de ...</td>\n",
              "      <td>Fundos de investimento</td>\n",
              "    </tr>\n",
              "    <tr>\n",
              "      <th>2</th>\n",
              "      <td>Preciso das regulamentações sobre fundos imobi...</td>\n",
              "      <td>Fundos de investimento</td>\n",
              "    </tr>\n",
              "    <tr>\n",
              "      <th>3</th>\n",
              "      <td>Informações sobre fundos de índice.</td>\n",
              "      <td>Fundos de investimento</td>\n",
              "    </tr>\n",
              "    <tr>\n",
              "      <th>4</th>\n",
              "      <td>Quero as regras para fundos de ações.</td>\n",
              "      <td>Fundos de investimento</td>\n",
              "    </tr>\n",
              "  </tbody>\n",
              "</table>\n",
              "</div>\n",
              "    <div class=\"colab-df-buttons\">\n",
              "\n",
              "  <div class=\"colab-df-container\">\n",
              "    <button class=\"colab-df-convert\" onclick=\"convertToInteractive('df-f0d36cc2-746f-4722-a24a-96ad91f9a2bc')\"\n",
              "            title=\"Convert this dataframe to an interactive table.\"\n",
              "            style=\"display:none;\">\n",
              "\n",
              "  <svg xmlns=\"http://www.w3.org/2000/svg\" height=\"24px\" viewBox=\"0 -960 960 960\">\n",
              "    <path d=\"M120-120v-720h720v720H120Zm60-500h600v-160H180v160Zm220 220h160v-160H400v160Zm0 220h160v-160H400v160ZM180-400h160v-160H180v160Zm440 0h160v-160H620v160ZM180-180h160v-160H180v160Zm440 0h160v-160H620v160Z\"/>\n",
              "  </svg>\n",
              "    </button>\n",
              "\n",
              "  <style>\n",
              "    .colab-df-container {\n",
              "      display:flex;\n",
              "      gap: 12px;\n",
              "    }\n",
              "\n",
              "    .colab-df-convert {\n",
              "      background-color: #E8F0FE;\n",
              "      border: none;\n",
              "      border-radius: 50%;\n",
              "      cursor: pointer;\n",
              "      display: none;\n",
              "      fill: #1967D2;\n",
              "      height: 32px;\n",
              "      padding: 0 0 0 0;\n",
              "      width: 32px;\n",
              "    }\n",
              "\n",
              "    .colab-df-convert:hover {\n",
              "      background-color: #E2EBFA;\n",
              "      box-shadow: 0px 1px 2px rgba(60, 64, 67, 0.3), 0px 1px 3px 1px rgba(60, 64, 67, 0.15);\n",
              "      fill: #174EA6;\n",
              "    }\n",
              "\n",
              "    .colab-df-buttons div {\n",
              "      margin-bottom: 4px;\n",
              "    }\n",
              "\n",
              "    [theme=dark] .colab-df-convert {\n",
              "      background-color: #3B4455;\n",
              "      fill: #D2E3FC;\n",
              "    }\n",
              "\n",
              "    [theme=dark] .colab-df-convert:hover {\n",
              "      background-color: #434B5C;\n",
              "      box-shadow: 0px 1px 3px 1px rgba(0, 0, 0, 0.15);\n",
              "      filter: drop-shadow(0px 1px 2px rgba(0, 0, 0, 0.3));\n",
              "      fill: #FFFFFF;\n",
              "    }\n",
              "  </style>\n",
              "\n",
              "    <script>\n",
              "      const buttonEl =\n",
              "        document.querySelector('#df-f0d36cc2-746f-4722-a24a-96ad91f9a2bc button.colab-df-convert');\n",
              "      buttonEl.style.display =\n",
              "        google.colab.kernel.accessAllowed ? 'block' : 'none';\n",
              "\n",
              "      async function convertToInteractive(key) {\n",
              "        const element = document.querySelector('#df-f0d36cc2-746f-4722-a24a-96ad91f9a2bc');\n",
              "        const dataTable =\n",
              "          await google.colab.kernel.invokeFunction('convertToInteractive',\n",
              "                                                    [key], {});\n",
              "        if (!dataTable) return;\n",
              "\n",
              "        const docLinkHtml = 'Like what you see? Visit the ' +\n",
              "          '<a target=\"_blank\" href=https://colab.research.google.com/notebooks/data_table.ipynb>data table notebook</a>'\n",
              "          + ' to learn more about interactive tables.';\n",
              "        element.innerHTML = '';\n",
              "        dataTable['output_type'] = 'display_data';\n",
              "        await google.colab.output.renderOutput(dataTable, element);\n",
              "        const docLink = document.createElement('div');\n",
              "        docLink.innerHTML = docLinkHtml;\n",
              "        element.appendChild(docLink);\n",
              "      }\n",
              "    </script>\n",
              "  </div>\n",
              "\n",
              "\n",
              "<div id=\"df-49ea43dd-da30-40fb-891d-5f7045092416\">\n",
              "  <button class=\"colab-df-quickchart\" onclick=\"quickchart('df-49ea43dd-da30-40fb-891d-5f7045092416')\"\n",
              "            title=\"Suggest charts\"\n",
              "            style=\"display:none;\">\n",
              "\n",
              "<svg xmlns=\"http://www.w3.org/2000/svg\" height=\"24px\"viewBox=\"0 0 24 24\"\n",
              "     width=\"24px\">\n",
              "    <g>\n",
              "        <path d=\"M19 3H5c-1.1 0-2 .9-2 2v14c0 1.1.9 2 2 2h14c1.1 0 2-.9 2-2V5c0-1.1-.9-2-2-2zM9 17H7v-7h2v7zm4 0h-2V7h2v10zm4 0h-2v-4h2v4z\"/>\n",
              "    </g>\n",
              "</svg>\n",
              "  </button>\n",
              "\n",
              "<style>\n",
              "  .colab-df-quickchart {\n",
              "      --bg-color: #E8F0FE;\n",
              "      --fill-color: #1967D2;\n",
              "      --hover-bg-color: #E2EBFA;\n",
              "      --hover-fill-color: #174EA6;\n",
              "      --disabled-fill-color: #AAA;\n",
              "      --disabled-bg-color: #DDD;\n",
              "  }\n",
              "\n",
              "  [theme=dark] .colab-df-quickchart {\n",
              "      --bg-color: #3B4455;\n",
              "      --fill-color: #D2E3FC;\n",
              "      --hover-bg-color: #434B5C;\n",
              "      --hover-fill-color: #FFFFFF;\n",
              "      --disabled-bg-color: #3B4455;\n",
              "      --disabled-fill-color: #666;\n",
              "  }\n",
              "\n",
              "  .colab-df-quickchart {\n",
              "    background-color: var(--bg-color);\n",
              "    border: none;\n",
              "    border-radius: 50%;\n",
              "    cursor: pointer;\n",
              "    display: none;\n",
              "    fill: var(--fill-color);\n",
              "    height: 32px;\n",
              "    padding: 0;\n",
              "    width: 32px;\n",
              "  }\n",
              "\n",
              "  .colab-df-quickchart:hover {\n",
              "    background-color: var(--hover-bg-color);\n",
              "    box-shadow: 0 1px 2px rgba(60, 64, 67, 0.3), 0 1px 3px 1px rgba(60, 64, 67, 0.15);\n",
              "    fill: var(--button-hover-fill-color);\n",
              "  }\n",
              "\n",
              "  .colab-df-quickchart-complete:disabled,\n",
              "  .colab-df-quickchart-complete:disabled:hover {\n",
              "    background-color: var(--disabled-bg-color);\n",
              "    fill: var(--disabled-fill-color);\n",
              "    box-shadow: none;\n",
              "  }\n",
              "\n",
              "  .colab-df-spinner {\n",
              "    border: 2px solid var(--fill-color);\n",
              "    border-color: transparent;\n",
              "    border-bottom-color: var(--fill-color);\n",
              "    animation:\n",
              "      spin 1s steps(1) infinite;\n",
              "  }\n",
              "\n",
              "  @keyframes spin {\n",
              "    0% {\n",
              "      border-color: transparent;\n",
              "      border-bottom-color: var(--fill-color);\n",
              "      border-left-color: var(--fill-color);\n",
              "    }\n",
              "    20% {\n",
              "      border-color: transparent;\n",
              "      border-left-color: var(--fill-color);\n",
              "      border-top-color: var(--fill-color);\n",
              "    }\n",
              "    30% {\n",
              "      border-color: transparent;\n",
              "      border-left-color: var(--fill-color);\n",
              "      border-top-color: var(--fill-color);\n",
              "      border-right-color: var(--fill-color);\n",
              "    }\n",
              "    40% {\n",
              "      border-color: transparent;\n",
              "      border-right-color: var(--fill-color);\n",
              "      border-top-color: var(--fill-color);\n",
              "    }\n",
              "    60% {\n",
              "      border-color: transparent;\n",
              "      border-right-color: var(--fill-color);\n",
              "    }\n",
              "    80% {\n",
              "      border-color: transparent;\n",
              "      border-right-color: var(--fill-color);\n",
              "      border-bottom-color: var(--fill-color);\n",
              "    }\n",
              "    90% {\n",
              "      border-color: transparent;\n",
              "      border-bottom-color: var(--fill-color);\n",
              "    }\n",
              "  }\n",
              "</style>\n",
              "\n",
              "  <script>\n",
              "    async function quickchart(key) {\n",
              "      const quickchartButtonEl =\n",
              "        document.querySelector('#' + key + ' button');\n",
              "      quickchartButtonEl.disabled = true;  // To prevent multiple clicks.\n",
              "      quickchartButtonEl.classList.add('colab-df-spinner');\n",
              "      try {\n",
              "        const charts = await google.colab.kernel.invokeFunction(\n",
              "            'suggestCharts', [key], {});\n",
              "      } catch (error) {\n",
              "        console.error('Error during call to suggestCharts:', error);\n",
              "      }\n",
              "      quickchartButtonEl.classList.remove('colab-df-spinner');\n",
              "      quickchartButtonEl.classList.add('colab-df-quickchart-complete');\n",
              "    }\n",
              "    (() => {\n",
              "      let quickchartButtonEl =\n",
              "        document.querySelector('#df-49ea43dd-da30-40fb-891d-5f7045092416 button');\n",
              "      quickchartButtonEl.style.display =\n",
              "        google.colab.kernel.accessAllowed ? 'block' : 'none';\n",
              "    })();\n",
              "  </script>\n",
              "</div>\n",
              "\n",
              "    </div>\n",
              "  </div>\n"
            ],
            "text/plain": [
              "                                               frase           classificacao\n",
              "0  Quero todas as regulamentações sobre fundos de...  Fundos de investimento\n",
              "1  Quais são as normas para criação de fundos de ...  Fundos de investimento\n",
              "2  Preciso das regulamentações sobre fundos imobi...  Fundos de investimento\n",
              "3                Informações sobre fundos de índice.  Fundos de investimento\n",
              "4              Quero as regras para fundos de ações.  Fundos de investimento"
            ]
          },
          "execution_count": 92,
          "metadata": {},
          "output_type": "execute_result"
        }
      ],
      "source": [
        "df_modelo2 = df_dados.copy()\n",
        "df_modelo2.head()"
      ]
    },
    {
      "cell_type": "markdown",
      "metadata": {
        "id": "mpA--dKau4XM"
      },
      "source": [
        "\n",
        "## 4.2 Pré-processamento do modelo BERT"
      ]
    },
    {
      "cell_type": "markdown",
      "metadata": {
        "id": "0SYWJ2G2u4XM"
      },
      "source": [
        "Com a base de dados pronta, agora é necessário carregar o tokenizador BERT pré-treinado. O modelo utilizado nessa caso é o `bert-base-portuguese-cased`, que é específico para o português.\n",
        "\n",
        "O tokenizador é responsável por converter as frases em tokens, que vão ser utilizados pelo modelo."
      ]
    },
    {
      "cell_type": "code",
      "execution_count": 93,
      "metadata": {
        "id": "SVAOu4OMu4XN"
      },
      "outputs": [],
      "source": [
        "def get_tokenizer(model_name='neuralmind/bert-base-portuguese-cased'):\n",
        "    return BertTokenizer.from_pretrained(model_name)"
      ]
    },
    {
      "cell_type": "markdown",
      "metadata": {
        "id": "xysBrqPLu4XN"
      },
      "source": [
        "É necessário criar uma classe personalizada para criar um dataset compatível com o PyTorch, criado a partir das codificações e labels, e retornando os itens em formato de tensor. Para isso, utilizamos a classe `Dataset` do PyTorch, que garantirá que os dados estejam na maneira esperada para iteração no treinamento."
      ]
    },
    {
      "cell_type": "code",
      "execution_count": 94,
      "metadata": {
        "id": "-GAFlObSu4XN"
      },
      "outputs": [],
      "source": [
        "class CustomTextDataset(Dataset):\n",
        "    def __init__(self, encodings, labels=None):\n",
        "        self.encodings = encodings\n",
        "        self.labels = labels\n",
        "\n",
        "    def __getitem__(self, idx):\n",
        "        item = {key: torch.tensor(val[idx]) for key, val in self.encodings.items()}\n",
        "        if self.labels:\n",
        "            item['labels'] = torch.tensor(self.labels[idx])\n",
        "        return item\n",
        "\n",
        "    def __len__(self):\n",
        "        return len(self.encodings['input_ids'])"
      ]
    },
    {
      "cell_type": "markdown",
      "metadata": {
        "id": "XT5ggTC0u4XN"
      },
      "source": [
        "A função `tokenize_function` serve para aplicar a tokenização nos textos. O uso de truncamento e padding é feito para garantir que todas as sequências de tokens tenham o mesmo comprimento (128)."
      ]
    },
    {
      "cell_type": "code",
      "execution_count": 95,
      "metadata": {
        "id": "eDMQo2kXu4XN"
      },
      "outputs": [],
      "source": [
        "def tokenize_texts(tokenizer, texts, max_length=128):\n",
        "    return tokenizer(texts, padding='max_length', truncation=True, max_length=max_length)"
      ]
    },
    {
      "cell_type": "markdown",
      "metadata": {
        "id": "zloPanqv323_"
      },
      "source": [
        "Já é importante ter um meio para transformar os dados categóricos em numéricos, que será utilizado nos próximos passos."
      ]
    },
    {
      "cell_type": "code",
      "execution_count": 96,
      "metadata": {
        "id": "sh3eF3oIu4XO"
      },
      "outputs": [],
      "source": [
        "def map_labels(labels):\n",
        "    label_to_idx = {label: idx for idx, label in enumerate(set(labels))}\n",
        "    labels_idx = [label_to_idx[label] for label in labels]\n",
        "    return labels_idx, label_to_idx"
      ]
    },
    {
      "cell_type": "markdown",
      "metadata": {
        "id": "XnawQ_lIu4XN"
      },
      "source": [
        "O próximo passo é dividir o dataset em conjunto de treino e teste, tomando o cuidado para manter a proporção das classes. Pelo tamanho do dataset, apenas 10% dos dados serão usados para validação. Dessa forma, é possível tokenizar as frases dos conjuntos que foram divididos.\n",
        "\n",
        "Agora que os dados foram preparados, podemos criar o dataset utilizado para o treinamento. Para isso, os conjuntos de treino e teste serão transformados em instâncias da classe `CustomTextDataset`."
      ]
    },
    {
      "cell_type": "code",
      "execution_count": 97,
      "metadata": {
        "id": "8m3OVE1pwcUK"
      },
      "outputs": [],
      "source": [
        "def prepare_dataset(df, tokenizer, test_size=0.1, max_length=128):\n",
        "    train_texts, val_texts, train_labels, val_labels = train_test_split(\n",
        "        df['frase'].tolist(), df['classificacao'].tolist(),\n",
        "        test_size=test_size, stratify=df['classificacao']\n",
        "    )\n",
        "\n",
        "    train_encodings = tokenize_texts(tokenizer, train_texts, max_length)\n",
        "    val_encodings = tokenize_texts(tokenizer, val_texts, max_length)\n",
        "\n",
        "    train_labels, label_to_idx = map_labels(train_labels)\n",
        "    val_labels = [label_to_idx[label] for label in val_labels]\n",
        "\n",
        "    train_dataset = CustomTextDataset(train_encodings, train_labels)\n",
        "    val_dataset = CustomTextDataset(val_encodings, val_labels)\n",
        "\n",
        "    return train_dataset, val_dataset, label_to_idx\n"
      ]
    },
    {
      "cell_type": "markdown",
      "metadata": {
        "id": "b-T3Kpl3u4XO"
      },
      "source": [
        "## 4.3 Treinamento do modelo BERT"
      ]
    },
    {
      "cell_type": "markdown",
      "metadata": {
        "id": "Xd7kHYQBu4XP"
      },
      "source": [
        "É preciso carregar o modelo BERT pré-treinado para classificação de sequências, em que é indicado o número de classes no dataset."
      ]
    },
    {
      "cell_type": "markdown",
      "metadata": {
        "id": "Tfo6aH_yu4XP"
      },
      "source": [
        "Durante o treinamento, o modelo consumirá o dataset dividido em vários batches menores. Um **batch** é um grupo de amostras que é processado de uma vez.\n",
        "\n",
        "Uma **época** é um ciclo completo pelo dataset, ou seja, quando todas as amostras forem processadas.\n",
        "\n",
        "Nesta célula, são definidos os argumentos de treinamento, como o tamanho do batch, o número de épocas, e os diretórios para salvar os resultados e logs.\n",
        "\n",
        "\n"
      ]
    },
    {
      "cell_type": "markdown",
      "metadata": {
        "id": "YW7zPpOqu4XQ"
      },
      "source": [
        "É criado o objeto `Trainer`, que será responsável por dirigir o treinamento do modelos, usando os datasets de treino e testes."
      ]
    },
    {
      "cell_type": "markdown",
      "metadata": {
        "id": "iiguwQqau4XQ"
      },
      "source": [
        "Por fim, o modelo é treinado com os dados de treino, utilizando os parâmentros e datasets definidos, ajustando o BERT para a tarefa específica."
      ]
    },
    {
      "cell_type": "code",
      "execution_count": 98,
      "metadata": {
        "id": "JzhgiNT8u4XQ"
      },
      "outputs": [],
      "source": [
        "def train_model(train_dataset, val_dataset, num_labels, model_name='neuralmind/bert-base-portuguese-cased', epochs=2):\n",
        "    model = BertForSequenceClassification.from_pretrained(model_name, num_labels=num_labels)\n",
        "\n",
        "    training_args = TrainingArguments(\n",
        "        per_device_train_batch_size=8,\n",
        "        per_device_eval_batch_size=8,\n",
        "        output_dir='./results',\n",
        "        num_train_epochs=epochs,\n",
        "        logging_dir='./logs',\n",
        "    )\n",
        "\n",
        "    trainer = Trainer(\n",
        "        model=model,\n",
        "        args=training_args,\n",
        "        train_dataset=train_dataset,\n",
        "        eval_dataset=val_dataset,\n",
        "    )\n",
        "\n",
        "    trainer.train()\n",
        "\n",
        "    return model, trainer"
      ]
    },
    {
      "cell_type": "markdown",
      "metadata": {
        "id": "KRJ-_jkgu4XR"
      },
      "source": [
        "O modelo treinado é avaliado utilizando o conjunto de teste e retornando as métricas de desempenho.\n",
        "\n",
        "O `eval_loss` indica a perda no conjunto de avaliação. Quanto menor a perda, melhor o desempenho do modelo.\n",
        "\n",
        "Como o dataset foi construído com dados artificiais, o indicador baixo do eval_loss pode indicar que o conjunto de validação é muito fácil.\n",
        "\n",
        "O restante das métricas `eval_runtime`, `eval_samples_per_second` e  `eval_steps_per_second` informam o número de amostras e épocas procesadas por segundo e o tempo total para avaliação do modelo. Devido ao tamanho do dataset, esses números foram relativamente baixos, informando que o modelo está avaliando os dados de forma rápida."
      ]
    },
    {
      "cell_type": "code",
      "execution_count": 99,
      "metadata": {
        "id": "iD4jkTZVu4XR"
      },
      "outputs": [],
      "source": [
        "def evaluate_model(trainer, val_dataset):\n",
        "    eval_results = trainer.evaluate(eval_dataset=val_dataset)\n",
        "    return eval_results\n"
      ]
    },
    {
      "cell_type": "markdown",
      "metadata": {
        "id": "YXqsweSB1MHE"
      },
      "source": [
        "### 4.3.1 Pipeline de treinamento\n",
        "\n",
        "Sequencia as etapas de treinamento do modelo, apresenta as métricas do modelo e configura o salvamento."
      ]
    },
    {
      "cell_type": "code",
      "execution_count": 100,
      "metadata": {
        "id": "r4uJ1sL5zhFZ"
      },
      "outputs": [],
      "source": [
        "def pipeline_treino(df):\n",
        "  tokenizer = get_tokenizer()\n",
        "  train_dataset, val_dataset, label_to_idx = prepare_dataset(df, tokenizer)\n",
        "  model, trainer = train_model(train_dataset, val_dataset, num_labels=len(label_to_idx))\n",
        "\n",
        "  model.save_pretrained('./saved_model')\n",
        "  tokenizer.save_pretrained('./saved_model')\n",
        "\n",
        "  with open('label_to_idx.pkl', 'wb') as f:\n",
        "        pickle.dump(label_to_idx, f)\n",
        "\n",
        "  return model, trainer, label_to_idx, val_dataset"
      ]
    },
    {
      "cell_type": "markdown",
      "metadata": {
        "id": "kTMAl8ZEFeGF"
      },
      "source": [
        "### 4.3.2 Treinando, salvando e apresentando métricas do modelo"
      ]
    },
    {
      "cell_type": "code",
      "execution_count": 101,
      "metadata": {
        "colab": {
          "base_uri": "https://localhost:8080/",
          "height": 0,
          "referenced_widgets": [
            "3112a4ea1dc243ebb5bc849ce1098598",
            "60d3abf625854d2fbd528fee60863607",
            "459553640e6b41af916a8d327b00b82a",
            "a9a9071969ab4760983f545d5c5d0905",
            "ec6a657dc47c459eb8d3e34184806476",
            "0d6a46bafe154b23bb0c612f7b7fbabf",
            "0e4689739ccc421f8bac2194982ca034",
            "82cfb9bc331a4e10bd8c59a227d300f1",
            "e80a842b56b04a8ead1e61174bc90676",
            "182a3bab7e38462aa8272a8665e9c193",
            "1e649b7f8e294ce4b7342f10b82d4c04",
            "9eb96084da144af2bdd5738116c2704b",
            "c64e4e47d65f4dc8b143d21d041f5def",
            "3d8344d9a9614d5193c0abcbbcbb23a7",
            "6059d4c99a844b6ca2d7e6ff98ee82cd",
            "4b4848735fc3431a9b147470cd8f98a5",
            "5c74abd6b3b6410cae09c3428a50ca2b",
            "d0339d66e815441380edb3f3cb6ab244",
            "2271b27aac9c422eac06b784d8ceac13",
            "483de09d57ea47228d3a3e3a1d0738b5",
            "3f9c9ce9fcfc4a69a186b2051daf35e3",
            "9b49083a98054a46a69f8e4d7f46673e",
            "b7d2e02a1d034704bdacbbae4662ec67",
            "69ea459bdbfb4c508330da3b9252d312",
            "c0b44f7f213d47e28d45cd33160baddc",
            "7081bf451f7a4e63b900283ef818f391",
            "5e85294c264041e9a4489275dc3664c8",
            "1c954359a54a477c901899c55a6fe945",
            "a7cbb8aa5c2d4a309da4b9f4cc4cba03",
            "6cf2168504484f2ba5c58bea5e5555b4",
            "a322028aa9f24788873cf700540ebb4d",
            "d7773850c9f1466e8517d3be2726eef6",
            "1f199e9ed40f44ddad97a560d3977a32",
            "507fd478b12e40ecaf6719bec8396636",
            "c67c4314c7f546fb891d37c9b22db425",
            "5541a960329a4f31a9728a7f6e5a0f9c",
            "96dc1f498ae242cd8488daba03b77542",
            "659d61ed483d4dbba78ea7a431813d3e",
            "53b867095e684d59af89355a9942b298",
            "a8a023fc73794d9ab088afa1fdea67d3",
            "0a198f20eb51442891517b2d6bf93e41",
            "380dcf34323949ec94e6cd0cca2f7c17",
            "b09244d7c061483aa36f4df4744f4bdb",
            "6358a7d72e7242979307aa3052e0d791",
            "37ed6e23316645a9af65b197057ddadb",
            "eca259f584d44119b74395b0cb1a9066",
            "eb2ce5ce26ac4ec6a0ff25ad2e2d04f0",
            "9baa25ee11844306a1ba5fba1f0a402e",
            "b0853ed1703f4d24b91396f1c8e5182d",
            "a82212ff13b645dc847f68a88b3cf3d9",
            "fba0a7235fe84d5e90165546b73f5daf",
            "51ae4a595a1e4706abf3f756fdc55cdf",
            "d7df677b01c845ed98ee952c835080b4",
            "ac27867dbee24348a07b2c0daae5cb6c",
            "a1e7a1aad1b74f69b06916f452c9130f",
            "c83a3c4bd6fa4debac637c859d90bc51",
            "47c009bb73c14695ad8a60c03bba5116",
            "ac67fa1027ac48f39ff016aa4cdbd449",
            "458f393380fb4b5c9aec91e5734f80e6",
            "cf3abe741a214640ad37bdaf913a379f",
            "7fe8b2f14da644878450f6aa0f0b25f0",
            "9de56fc1855b4fa6a36d651ccea3327c",
            "03bd9a2810fc40898d7bb835b2d0e03c",
            "616c28a472484c4db599b34b2896bae4",
            "606809b8dab44aa1ad1c8b791db2bd61",
            "c04c474840554d788402ea19a1c85bdc"
          ]
        },
        "id": "WdlsoCF81OJJ",
        "outputId": "b077e9dc-e8b8-468a-a20f-8bd16257d7b4"
      },
      "outputs": [
        {
          "name": "stderr",
          "output_type": "stream",
          "text": [
            "/usr/local/lib/python3.10/dist-packages/huggingface_hub/utils/_token.py:89: UserWarning: \n",
            "The secret `HF_TOKEN` does not exist in your Colab secrets.\n",
            "To authenticate with the Hugging Face Hub, create a token in your settings tab (https://huggingface.co/settings/tokens), set it as secret in your Google Colab and restart your session.\n",
            "You will be able to reuse this secret in all of your notebooks.\n",
            "Please note that authentication is recommended but still optional to access public models or datasets.\n",
            "  warnings.warn(\n"
          ]
        },
        {
          "data": {
            "application/vnd.jupyter.widget-view+json": {
              "model_id": "3112a4ea1dc243ebb5bc849ce1098598",
              "version_major": 2,
              "version_minor": 0
            },
            "text/plain": [
              "tokenizer_config.json:   0%|          | 0.00/43.0 [00:00<?, ?B/s]"
            ]
          },
          "metadata": {},
          "output_type": "display_data"
        },
        {
          "data": {
            "application/vnd.jupyter.widget-view+json": {
              "model_id": "9eb96084da144af2bdd5738116c2704b",
              "version_major": 2,
              "version_minor": 0
            },
            "text/plain": [
              "vocab.txt:   0%|          | 0.00/210k [00:00<?, ?B/s]"
            ]
          },
          "metadata": {},
          "output_type": "display_data"
        },
        {
          "data": {
            "application/vnd.jupyter.widget-view+json": {
              "model_id": "b7d2e02a1d034704bdacbbae4662ec67",
              "version_major": 2,
              "version_minor": 0
            },
            "text/plain": [
              "added_tokens.json:   0%|          | 0.00/2.00 [00:00<?, ?B/s]"
            ]
          },
          "metadata": {},
          "output_type": "display_data"
        },
        {
          "data": {
            "application/vnd.jupyter.widget-view+json": {
              "model_id": "507fd478b12e40ecaf6719bec8396636",
              "version_major": 2,
              "version_minor": 0
            },
            "text/plain": [
              "special_tokens_map.json:   0%|          | 0.00/112 [00:00<?, ?B/s]"
            ]
          },
          "metadata": {},
          "output_type": "display_data"
        },
        {
          "data": {
            "application/vnd.jupyter.widget-view+json": {
              "model_id": "37ed6e23316645a9af65b197057ddadb",
              "version_major": 2,
              "version_minor": 0
            },
            "text/plain": [
              "config.json:   0%|          | 0.00/647 [00:00<?, ?B/s]"
            ]
          },
          "metadata": {},
          "output_type": "display_data"
        },
        {
          "name": "stderr",
          "output_type": "stream",
          "text": [
            "/usr/local/lib/python3.10/dist-packages/transformers/tokenization_utils_base.py:1601: FutureWarning: `clean_up_tokenization_spaces` was not set. It will be set to `True` by default. This behavior will be depracted in transformers v4.45, and will be then set to `False` by default. For more details check this issue: https://github.com/huggingface/transformers/issues/31884\n",
            "  warnings.warn(\n"
          ]
        },
        {
          "data": {
            "application/vnd.jupyter.widget-view+json": {
              "model_id": "c83a3c4bd6fa4debac637c859d90bc51",
              "version_major": 2,
              "version_minor": 0
            },
            "text/plain": [
              "pytorch_model.bin:   0%|          | 0.00/438M [00:00<?, ?B/s]"
            ]
          },
          "metadata": {},
          "output_type": "display_data"
        },
        {
          "name": "stderr",
          "output_type": "stream",
          "text": [
            "Some weights of BertForSequenceClassification were not initialized from the model checkpoint at neuralmind/bert-base-portuguese-cased and are newly initialized: ['classifier.bias', 'classifier.weight']\n",
            "You should probably TRAIN this model on a down-stream task to be able to use it for predictions and inference.\n"
          ]
        },
        {
          "data": {
            "text/html": [
              "\n",
              "    <div>\n",
              "      \n",
              "      <progress value='62' max='62' style='width:300px; height:20px; vertical-align: middle;'></progress>\n",
              "      [62/62 16:15, Epoch 2/2]\n",
              "    </div>\n",
              "    <table border=\"1\" class=\"dataframe\">\n",
              "  <thead>\n",
              " <tr style=\"text-align: left;\">\n",
              "      <th>Step</th>\n",
              "      <th>Training Loss</th>\n",
              "    </tr>\n",
              "  </thead>\n",
              "  <tbody>\n",
              "  </tbody>\n",
              "</table><p>"
            ],
            "text/plain": [
              "<IPython.core.display.HTML object>"
            ]
          },
          "metadata": {},
          "output_type": "display_data"
        }
      ],
      "source": [
        "model, trainer, label_to_idx, val_dataset = pipeline_treino(df_modelo2)"
      ]
    },
    {
      "cell_type": "code",
      "execution_count": 102,
      "metadata": {
        "colab": {
          "base_uri": "https://localhost:8080/",
          "height": 0
        },
        "id": "7muRJA7peDh1",
        "outputId": "3593ec53-8228-4291-c608-2b627c70732a"
      },
      "outputs": [
        {
          "data": {
            "text/html": [
              "\n",
              "    <div>\n",
              "      \n",
              "      <progress value='4' max='4' style='width:300px; height:20px; vertical-align: middle;'></progress>\n",
              "      [4/4 00:12]\n",
              "    </div>\n",
              "    "
            ],
            "text/plain": [
              "<IPython.core.display.HTML object>"
            ]
          },
          "metadata": {},
          "output_type": "display_data"
        },
        {
          "name": "stdout",
          "output_type": "stream",
          "text": [
            "{'eval_loss': 0.0406285859644413, 'eval_runtime': 15.4962, 'eval_samples_per_second': 1.807, 'eval_steps_per_second': 0.258, 'epoch': 2.0}\n"
          ]
        }
      ],
      "source": [
        "eval_results = evaluate_model(trainer, val_dataset)\n",
        "print(eval_results)"
      ]
    },
    {
      "cell_type": "markdown",
      "metadata": {
        "id": "wt-lOFhtu4XR"
      },
      "source": [
        "## 4.5 Previsão\n",
        "Etapa responsável por inferenciar uma classe (rótulo) em novos dados."
      ]
    },
    {
      "cell_type": "markdown",
      "metadata": {
        "id": "p3HQvbrLu4XS"
      },
      "source": [
        "Para preparar os novos dados de entrada, os que não foram vistos durante o treinamento, é necessário definir uma nova classe para organizar os dados para serem processados. Utilizamos o tokenizador no input (inserido na seção 'input' desse notebook) para novamente preparar os dados para passar no modelo."
      ]
    },
    {
      "cell_type": "markdown",
      "metadata": {
        "id": "Z9z10linu4XS"
      },
      "source": [
        "O input tokenizado agora é encapsulado em uma instância da classe `RealDataDataset`, semelhante ao passo realizado com os dados de treinamento."
      ]
    },
    {
      "cell_type": "markdown",
      "metadata": {
        "id": "vGz2ZsTmu4XT"
      },
      "source": [
        "O `model.eval()` é utilizado para colocar o modelo em modo de avaliação, desativando algumas operações que são utilizadas no treinamento.\n",
        "\n",
        "Em seguida, o modelo faz as previsões sobre o input e a classe com maior probabilidade é selecionada."
      ]
    },
    {
      "cell_type": "markdown",
      "metadata": {
        "id": "UmJ-adPPu4XT"
      },
      "source": [
        "Por fim, as previsões numéricas são convertidas de volta para texto utilizando o mapeamento que foi criado anteriormente."
      ]
    },
    {
      "cell_type": "code",
      "execution_count": 103,
      "metadata": {
        "id": "l1774yP8u4XS"
      },
      "outputs": [],
      "source": [
        "def bert_prever(model, tokenizer, texto, label_to_idx, max_length=128):\n",
        "    class RealDataDataset(Dataset):\n",
        "        def __init__(self, encodings):\n",
        "            self.encodings = encodings\n",
        "\n",
        "        def __getitem__(self, idx):\n",
        "            item = {key: torch.tensor(val[idx]) for key, val in self.encodings.items()}\n",
        "            return item\n",
        "\n",
        "        def __len__(self):\n",
        "            return len(self.encodings['input_ids'])\n",
        "\n",
        "    real_encodings = tokenizer(texto, truncation=True, padding=True, max_length=max_length, return_tensors='pt')\n",
        "    real_dataset = RealDataDataset(real_encodings)\n",
        "\n",
        "    model.eval()\n",
        "    with torch.no_grad():\n",
        "        predictions = model(**real_encodings).logits\n",
        "        predicted_labels = torch.argmax(predictions, dim=1)\n",
        "\n",
        "    idx_to_label = {idx: label for label, idx in label_to_idx.items()}\n",
        "    decoded_predictions = [idx_to_label[pred.item()] for pred in predicted_labels]\n",
        "\n",
        "    return decoded_predictions"
      ]
    },
    {
      "cell_type": "markdown",
      "metadata": {
        "id": "2-C-iZPh1vYp"
      },
      "source": [
        "## 4.6 Extração de datas e entidades\n",
        "\n",
        "Etapa responsável por extrair as datas e reguladores do input."
      ]
    },
    {
      "cell_type": "markdown",
      "metadata": {
        "id": "wiEmbECJ1yHP"
      },
      "source": [
        "### 4.6.1 Minúsculo"
      ]
    },
    {
      "cell_type": "code",
      "execution_count": 104,
      "metadata": {
        "id": "ssi6HSC91yHP"
      },
      "outputs": [],
      "source": [
        "def texto_para_minusculo(texto):\n",
        "    return texto.lower()"
      ]
    },
    {
      "cell_type": "markdown",
      "metadata": {
        "id": "C7vV8QuOGPkf"
      },
      "source": [
        "####Teste da etapa"
      ]
    },
    {
      "cell_type": "code",
      "execution_count": 105,
      "metadata": {
        "colab": {
          "base_uri": "https://localhost:8080/"
        },
        "id": "85L5kPJR1yHP",
        "outputId": "35ef12af-0b05-4866-c5ef-bd8f780e42a4"
      },
      "outputs": [
        {
          "name": "stdout",
          "output_type": "stream",
          "text": [
            "Teste passou!\n"
          ]
        }
      ],
      "source": [
        "resultado_minusculo = texto_para_minusculo('O rato roeu a roupa do rei de Roma')\n",
        "\n",
        "if resultado_minusculo == \"o rato roeu a roupa do rei de roma\":\n",
        "    print(\"Teste passou!\")\n",
        "else:\n",
        "    print(\"Teste falhou.\")"
      ]
    },
    {
      "cell_type": "markdown",
      "metadata": {
        "id": "B5-wb-wO1yHP"
      },
      "source": [
        "### 4.6.2 Extrair Entidades Regulamentadoras"
      ]
    },
    {
      "cell_type": "code",
      "execution_count": 106,
      "metadata": {
        "id": "Zp5SKkCJ1yHP"
      },
      "outputs": [],
      "source": [
        "def extrair_reguladores(tokens):\n",
        "    dicionario = {\"anbima\", \"nuclea\", \"bacen\", \"cvm\", \"b3\", \"selic\", \"banco do brasil\", \"anpd\", \"bsm\", \"febraban\", \"apimec\", \"abbc\", \"coaf\"}\n",
        "    padrao = r'\\b(?:' + '|'.join(re.escape(palavra) for palavra in dicionario) + r')\\b'\n",
        "\n",
        "    if isinstance(tokens, str):\n",
        "        doc = nlp(tokens)\n",
        "        tokens = [token.text for token in doc]\n",
        "\n",
        "    reguladores_encontrados = [token for token in tokens if re.search(padrao, token.lower())]\n",
        "\n",
        "    return reguladores_encontrados"
      ]
    },
    {
      "cell_type": "markdown",
      "metadata": {
        "id": "DyNgQRFtGZGd"
      },
      "source": [
        "####Testes da etapa"
      ]
    },
    {
      "cell_type": "markdown",
      "metadata": {
        "id": "A5dodnIAGffg"
      },
      "source": [
        "Teste com tokens"
      ]
    },
    {
      "cell_type": "code",
      "execution_count": 107,
      "metadata": {
        "colab": {
          "base_uri": "https://localhost:8080/"
        },
        "id": "K-Gxd2--1yHP",
        "outputId": "168e29b9-3b43-4f0b-b086-efe4f9f4adfe"
      },
      "outputs": [
        {
          "name": "stdout",
          "output_type": "stream",
          "text": [
            "Reguladores: ['bacen']\n",
            "Teste passou!\n"
          ]
        }
      ],
      "source": [
        "teste_reguladores_tokens = extrair_reguladores(['todas', 'as', 'regulamentações', 'do', 'bacen'])\n",
        "print('Reguladores:', teste_reguladores_tokens)\n",
        "\n",
        "if teste_reguladores_tokens == ['bacen']:\n",
        "    print(\"Teste passou!\")\n",
        "else:\n",
        "    print(\"Teste falhou.\")"
      ]
    },
    {
      "cell_type": "markdown",
      "metadata": {
        "id": "ElEpndUaGb-y"
      },
      "source": [
        "Teste com frase"
      ]
    },
    {
      "cell_type": "code",
      "execution_count": 108,
      "metadata": {
        "colab": {
          "base_uri": "https://localhost:8080/"
        },
        "id": "mLaEJAq61yHQ",
        "outputId": "36c4e134-35e1-42a7-a066-17e05be81dbe"
      },
      "outputs": [
        {
          "name": "stdout",
          "output_type": "stream",
          "text": [
            "Reguladores: ['bacen']\n",
            "Teste passou!\n"
          ]
        }
      ],
      "source": [
        "teste_reguladores_string = extrair_reguladores('todas as regulamentações do bacen')\n",
        "print('Reguladores:', teste_reguladores_string)\n",
        "\n",
        "if teste_reguladores_string == ['bacen']:\n",
        "    print(\"Teste passou!\")\n",
        "else:\n",
        "    print(\"Teste falhou.\")"
      ]
    },
    {
      "cell_type": "markdown",
      "metadata": {
        "id": "2Dof3J3T1yHQ"
      },
      "source": [
        "### 4.6.3 Extrair Datas"
      ]
    },
    {
      "cell_type": "code",
      "execution_count": 109,
      "metadata": {
        "id": "kit5z77k1yHQ"
      },
      "outputs": [],
      "source": [
        "def encontrar_datas(texto):\n",
        "    padrao_data = r'\\b\\d{1,2}/\\d{1,2}(?:/\\d{2,4})?\\b'\n",
        "    datas = re.findall(padrao_data, texto)\n",
        "    return datas"
      ]
    },
    {
      "cell_type": "markdown",
      "metadata": {
        "id": "89fQhiV5GimD"
      },
      "source": [
        "####Testes da etapa"
      ]
    },
    {
      "cell_type": "code",
      "execution_count": 110,
      "metadata": {
        "colab": {
          "base_uri": "https://localhost:8080/"
        },
        "id": "z2WgOHYD1yHQ",
        "outputId": "bcba8cc6-0fee-4e8c-d7c3-6dd391f2f16e"
      },
      "outputs": [
        {
          "name": "stdout",
          "output_type": "stream",
          "text": [
            "Datas: ['14/04/2004', '12/08']\n",
            "Teste passou!\n"
          ]
        }
      ],
      "source": [
        "teste_datas = encontrar_datas('O rato roeu a roupa do rei de Roma em 14/04/2004 e depois em 12/08 do mesmo ano.')\n",
        "print('Datas:', teste_datas)\n",
        "\n",
        "if teste_datas == ['14/04/2004', '12/08']:\n",
        "    print(\"Teste passou!\")\n",
        "else:\n",
        "    print(\"Teste falhou.\")"
      ]
    },
    {
      "cell_type": "markdown",
      "metadata": {
        "id": "E8r-li85kXEo"
      },
      "source": [
        "## 4.7 Encontrar tags similares\n",
        "\n",
        "Encontra as tags mais similares à classe prevista"
      ]
    },
    {
      "cell_type": "markdown",
      "metadata": {
        "id": "CRvtQHBuhnXT"
      },
      "source": [
        "Define as tags que existem"
      ]
    },
    {
      "cell_type": "code",
      "execution_count": 111,
      "metadata": {
        "id": "2NPRRmCcfK72"
      },
      "outputs": [],
      "source": [
        "tags = ['crédito', 'custódia', 'Resolução CVM 175', 'investidores profissionais', 'cedente', 'Banking as a Service', 'CCBs', 'gestão de fundos', 'supervisão de securitização']"
      ]
    },
    {
      "cell_type": "markdown",
      "metadata": {
        "id": "yrOd6jSJhqJd"
      },
      "source": [
        "Função para configurar a vetorização. Utiliza o modelo Word2Vec carregado anteriormente nesse notebook (seção 3.2.7)"
      ]
    },
    {
      "cell_type": "code",
      "execution_count": 112,
      "metadata": {
        "id": "tNoUzrF2XVG_"
      },
      "outputs": [],
      "source": [
        "def vetorizar(tokens, modelo):\n",
        "    vetores = [modelo[token] for token in tokens if token in modelo]\n",
        "\n",
        "    if len(vetores) > 0:\n",
        "        return np.mean(vetores, axis=0)\n",
        "    else:\n",
        "        return np.zeros(modelo.vector_size)"
      ]
    },
    {
      "cell_type": "markdown",
      "metadata": {
        "id": "P0XH9_AdhsbU"
      },
      "source": [
        "Essa função aplica a vetorização na classe prevista e nas tags."
      ]
    },
    {
      "cell_type": "code",
      "execution_count": 113,
      "metadata": {
        "id": "IIsy7MV7XVG_"
      },
      "outputs": [],
      "source": [
        "def check_vectors(modelo, prediction, tags):\n",
        "  class_vetor = vetorizar(prediction[0], modelo)\n",
        "\n",
        "  tags_vetors = np.array([vetorizar(tag, modelo) for tag in tags])\n",
        "\n",
        "  if np.all(class_vetor == 0):\n",
        "      print(\"Erro: o vetor da classe é um vetor de zeros. A palavra pode não estar no vocabulário.\")\n",
        "\n",
        "  for tag, vetor in zip(tags, tags_vetors):\n",
        "      if np.all(vetor == 0):\n",
        "          print(f\"Erro: o vetor da tag '{tag}' é um vetor de zeros. A palavra pode não estar no vocabulário.\")\n",
        "  return class_vetor, tags_vetors"
      ]
    },
    {
      "cell_type": "markdown",
      "metadata": {
        "id": "ZArUUkMrhxf7"
      },
      "source": [
        "Com as tags e a previsao vetorizadas, é possível calcular a similaridade do cosseno para encontrar as n tags mais similar à classe prevista. Isso auxiliará em uma resposta de regulamentações mais abrangente para as pesquisas realizadas."
      ]
    },
    {
      "cell_type": "code",
      "execution_count": 114,
      "metadata": {
        "id": "Y3DK15pKXVHA"
      },
      "outputs": [],
      "source": [
        "def pegar_similaridades(class_vetor, tags_vetors, tags, n=5):\n",
        "    similaridades = cosine_similarity([class_vetor], tags_vetors)[0]\n",
        "\n",
        "    top_indices = np.argsort(similaridades)[-n:][::-1]\n",
        "\n",
        "    top_tags = [tags[i] for i in top_indices]\n",
        "    top_similaridades = [similaridades[i] for i in top_indices]\n",
        "\n",
        "    return list(zip(top_tags, top_similaridades))"
      ]
    },
    {
      "cell_type": "markdown",
      "metadata": {
        "id": "mSigcVtse33X"
      },
      "source": [
        "## 4.8 Pipeline pesquisa\n",
        "\n",
        "Sequencia as etapas para receber um input e obter a previsão, datas, reguladores e tags similares com o modelo BERT."
      ]
    },
    {
      "cell_type": "markdown",
      "metadata": {
        "id": "R--yXJ7KiKKW"
      },
      "source": [
        "A função `resultado` atua como pipeline, novamente condensando as funções apresentadas anteriormente, com o objetivo de automatizar o processo."
      ]
    },
    {
      "cell_type": "code",
      "execution_count": 115,
      "metadata": {
        "id": "LvAFBoF9fXxJ"
      },
      "outputs": [],
      "source": [
        "def resultado(texto, tags):\n",
        "\n",
        "    tokenizer = get_tokenizer()\n",
        "    previsao = bert_prever(model, tokenizer, texto, label_to_idx)\n",
        "\n",
        "    class_vetor, tags_vetors = check_vectors(model_w2v, previsao, tags)\n",
        "    top_similaridades = pegar_similaridades(class_vetor, tags_vetors, tags)\n",
        "\n",
        "    datas = encontrar_datas(texto)\n",
        "    texto_minusculo = texto_para_minusculo(texto)\n",
        "    reguladores = extrair_reguladores(texto_minusculo)\n",
        "\n",
        "    return previsao, datas, reguladores, top_similaridades"
      ]
    },
    {
      "cell_type": "markdown",
      "metadata": {
        "id": "UrKvJ7S3Iqja"
      },
      "source": [
        "### Teste da etapa"
      ]
    },
    {
      "cell_type": "code",
      "execution_count": 116,
      "metadata": {
        "colab": {
          "base_uri": "https://localhost:8080/"
        },
        "id": "LkQezKddgNbO",
        "outputId": "f436380a-9d75-4e1a-96c8-ddbfe09208da"
      },
      "outputs": [
        {
          "name": "stderr",
          "output_type": "stream",
          "text": [
            "/usr/local/lib/python3.10/dist-packages/transformers/tokenization_utils_base.py:1601: FutureWarning: `clean_up_tokenization_spaces` was not set. It will be set to `True` by default. This behavior will be depracted in transformers v4.45, and will be then set to `False` by default. For more details check this issue: https://github.com/huggingface/transformers/issues/31884\n",
            "  warnings.warn(\n"
          ]
        },
        {
          "name": "stdout",
          "output_type": "stream",
          "text": [
            "(['Finanças'], ['20/09/2003'], ['bacen'], [('Banking as a Service', 0.89681077), ('investidores profissionais', 0.8259202), ('gestão de fundos', 0.80301666), ('cedente', 0.7928282), ('supervisão de securitização', 0.7379688)])\n",
            "Teste falhou.\n"
          ]
        }
      ],
      "source": [
        "resultado_teste = resultado('textos de dinheiro do bacen de 20/09/2003', tags)\n",
        "print(resultado_teste)\n",
        "\n",
        "if resultado_teste == (['Finanças'], ['20/09/2003'], ['bacen'], [('Banking as a Service', 0.94539165), ('supervisão de securitização', 0.8893843), ('custódia', 0.8556227), ('investidores profissionais', 0.85392517), ('gestão de fundos', 0.84931135)]):\n",
        "    print(\"Teste passou!\")\n",
        "else:\n",
        "    print(\"Teste falhou.\")"
      ]
    }
  ],
  "metadata": {
    "colab": {
      "provenance": [],
      "toc_visible": true
    },
    "kernelspec": {
      "display_name": "Python 3",
      "name": "python3"
    },
    "language_info": {
      "name": "python"
    },
    "widgets": {
      "application/vnd.jupyter.widget-state+json": {
        "03bd9a2810fc40898d7bb835b2d0e03c": {
          "model_module": "@jupyter-widgets/base",
          "model_module_version": "1.2.0",
          "model_name": "LayoutModel",
          "state": {
            "_model_module": "@jupyter-widgets/base",
            "_model_module_version": "1.2.0",
            "_model_name": "LayoutModel",
            "_view_count": null,
            "_view_module": "@jupyter-widgets/base",
            "_view_module_version": "1.2.0",
            "_view_name": "LayoutView",
            "align_content": null,
            "align_items": null,
            "align_self": null,
            "border": null,
            "bottom": null,
            "display": null,
            "flex": null,
            "flex_flow": null,
            "grid_area": null,
            "grid_auto_columns": null,
            "grid_auto_flow": null,
            "grid_auto_rows": null,
            "grid_column": null,
            "grid_gap": null,
            "grid_row": null,
            "grid_template_areas": null,
            "grid_template_columns": null,
            "grid_template_rows": null,
            "height": null,
            "justify_content": null,
            "justify_items": null,
            "left": null,
            "margin": null,
            "max_height": null,
            "max_width": null,
            "min_height": null,
            "min_width": null,
            "object_fit": null,
            "object_position": null,
            "order": null,
            "overflow": null,
            "overflow_x": null,
            "overflow_y": null,
            "padding": null,
            "right": null,
            "top": null,
            "visibility": null,
            "width": null
          }
        },
        "0a198f20eb51442891517b2d6bf93e41": {
          "model_module": "@jupyter-widgets/base",
          "model_module_version": "1.2.0",
          "model_name": "LayoutModel",
          "state": {
            "_model_module": "@jupyter-widgets/base",
            "_model_module_version": "1.2.0",
            "_model_name": "LayoutModel",
            "_view_count": null,
            "_view_module": "@jupyter-widgets/base",
            "_view_module_version": "1.2.0",
            "_view_name": "LayoutView",
            "align_content": null,
            "align_items": null,
            "align_self": null,
            "border": null,
            "bottom": null,
            "display": null,
            "flex": null,
            "flex_flow": null,
            "grid_area": null,
            "grid_auto_columns": null,
            "grid_auto_flow": null,
            "grid_auto_rows": null,
            "grid_column": null,
            "grid_gap": null,
            "grid_row": null,
            "grid_template_areas": null,
            "grid_template_columns": null,
            "grid_template_rows": null,
            "height": null,
            "justify_content": null,
            "justify_items": null,
            "left": null,
            "margin": null,
            "max_height": null,
            "max_width": null,
            "min_height": null,
            "min_width": null,
            "object_fit": null,
            "object_position": null,
            "order": null,
            "overflow": null,
            "overflow_x": null,
            "overflow_y": null,
            "padding": null,
            "right": null,
            "top": null,
            "visibility": null,
            "width": null
          }
        },
        "0d6a46bafe154b23bb0c612f7b7fbabf": {
          "model_module": "@jupyter-widgets/base",
          "model_module_version": "1.2.0",
          "model_name": "LayoutModel",
          "state": {
            "_model_module": "@jupyter-widgets/base",
            "_model_module_version": "1.2.0",
            "_model_name": "LayoutModel",
            "_view_count": null,
            "_view_module": "@jupyter-widgets/base",
            "_view_module_version": "1.2.0",
            "_view_name": "LayoutView",
            "align_content": null,
            "align_items": null,
            "align_self": null,
            "border": null,
            "bottom": null,
            "display": null,
            "flex": null,
            "flex_flow": null,
            "grid_area": null,
            "grid_auto_columns": null,
            "grid_auto_flow": null,
            "grid_auto_rows": null,
            "grid_column": null,
            "grid_gap": null,
            "grid_row": null,
            "grid_template_areas": null,
            "grid_template_columns": null,
            "grid_template_rows": null,
            "height": null,
            "justify_content": null,
            "justify_items": null,
            "left": null,
            "margin": null,
            "max_height": null,
            "max_width": null,
            "min_height": null,
            "min_width": null,
            "object_fit": null,
            "object_position": null,
            "order": null,
            "overflow": null,
            "overflow_x": null,
            "overflow_y": null,
            "padding": null,
            "right": null,
            "top": null,
            "visibility": null,
            "width": null
          }
        },
        "0e4689739ccc421f8bac2194982ca034": {
          "model_module": "@jupyter-widgets/controls",
          "model_module_version": "1.5.0",
          "model_name": "DescriptionStyleModel",
          "state": {
            "_model_module": "@jupyter-widgets/controls",
            "_model_module_version": "1.5.0",
            "_model_name": "DescriptionStyleModel",
            "_view_count": null,
            "_view_module": "@jupyter-widgets/base",
            "_view_module_version": "1.2.0",
            "_view_name": "StyleView",
            "description_width": ""
          }
        },
        "182a3bab7e38462aa8272a8665e9c193": {
          "model_module": "@jupyter-widgets/base",
          "model_module_version": "1.2.0",
          "model_name": "LayoutModel",
          "state": {
            "_model_module": "@jupyter-widgets/base",
            "_model_module_version": "1.2.0",
            "_model_name": "LayoutModel",
            "_view_count": null,
            "_view_module": "@jupyter-widgets/base",
            "_view_module_version": "1.2.0",
            "_view_name": "LayoutView",
            "align_content": null,
            "align_items": null,
            "align_self": null,
            "border": null,
            "bottom": null,
            "display": null,
            "flex": null,
            "flex_flow": null,
            "grid_area": null,
            "grid_auto_columns": null,
            "grid_auto_flow": null,
            "grid_auto_rows": null,
            "grid_column": null,
            "grid_gap": null,
            "grid_row": null,
            "grid_template_areas": null,
            "grid_template_columns": null,
            "grid_template_rows": null,
            "height": null,
            "justify_content": null,
            "justify_items": null,
            "left": null,
            "margin": null,
            "max_height": null,
            "max_width": null,
            "min_height": null,
            "min_width": null,
            "object_fit": null,
            "object_position": null,
            "order": null,
            "overflow": null,
            "overflow_x": null,
            "overflow_y": null,
            "padding": null,
            "right": null,
            "top": null,
            "visibility": null,
            "width": null
          }
        },
        "1c954359a54a477c901899c55a6fe945": {
          "model_module": "@jupyter-widgets/base",
          "model_module_version": "1.2.0",
          "model_name": "LayoutModel",
          "state": {
            "_model_module": "@jupyter-widgets/base",
            "_model_module_version": "1.2.0",
            "_model_name": "LayoutModel",
            "_view_count": null,
            "_view_module": "@jupyter-widgets/base",
            "_view_module_version": "1.2.0",
            "_view_name": "LayoutView",
            "align_content": null,
            "align_items": null,
            "align_self": null,
            "border": null,
            "bottom": null,
            "display": null,
            "flex": null,
            "flex_flow": null,
            "grid_area": null,
            "grid_auto_columns": null,
            "grid_auto_flow": null,
            "grid_auto_rows": null,
            "grid_column": null,
            "grid_gap": null,
            "grid_row": null,
            "grid_template_areas": null,
            "grid_template_columns": null,
            "grid_template_rows": null,
            "height": null,
            "justify_content": null,
            "justify_items": null,
            "left": null,
            "margin": null,
            "max_height": null,
            "max_width": null,
            "min_height": null,
            "min_width": null,
            "object_fit": null,
            "object_position": null,
            "order": null,
            "overflow": null,
            "overflow_x": null,
            "overflow_y": null,
            "padding": null,
            "right": null,
            "top": null,
            "visibility": null,
            "width": null
          }
        },
        "1e649b7f8e294ce4b7342f10b82d4c04": {
          "model_module": "@jupyter-widgets/controls",
          "model_module_version": "1.5.0",
          "model_name": "DescriptionStyleModel",
          "state": {
            "_model_module": "@jupyter-widgets/controls",
            "_model_module_version": "1.5.0",
            "_model_name": "DescriptionStyleModel",
            "_view_count": null,
            "_view_module": "@jupyter-widgets/base",
            "_view_module_version": "1.2.0",
            "_view_name": "StyleView",
            "description_width": ""
          }
        },
        "1f199e9ed40f44ddad97a560d3977a32": {
          "model_module": "@jupyter-widgets/controls",
          "model_module_version": "1.5.0",
          "model_name": "DescriptionStyleModel",
          "state": {
            "_model_module": "@jupyter-widgets/controls",
            "_model_module_version": "1.5.0",
            "_model_name": "DescriptionStyleModel",
            "_view_count": null,
            "_view_module": "@jupyter-widgets/base",
            "_view_module_version": "1.2.0",
            "_view_name": "StyleView",
            "description_width": ""
          }
        },
        "2271b27aac9c422eac06b784d8ceac13": {
          "model_module": "@jupyter-widgets/base",
          "model_module_version": "1.2.0",
          "model_name": "LayoutModel",
          "state": {
            "_model_module": "@jupyter-widgets/base",
            "_model_module_version": "1.2.0",
            "_model_name": "LayoutModel",
            "_view_count": null,
            "_view_module": "@jupyter-widgets/base",
            "_view_module_version": "1.2.0",
            "_view_name": "LayoutView",
            "align_content": null,
            "align_items": null,
            "align_self": null,
            "border": null,
            "bottom": null,
            "display": null,
            "flex": null,
            "flex_flow": null,
            "grid_area": null,
            "grid_auto_columns": null,
            "grid_auto_flow": null,
            "grid_auto_rows": null,
            "grid_column": null,
            "grid_gap": null,
            "grid_row": null,
            "grid_template_areas": null,
            "grid_template_columns": null,
            "grid_template_rows": null,
            "height": null,
            "justify_content": null,
            "justify_items": null,
            "left": null,
            "margin": null,
            "max_height": null,
            "max_width": null,
            "min_height": null,
            "min_width": null,
            "object_fit": null,
            "object_position": null,
            "order": null,
            "overflow": null,
            "overflow_x": null,
            "overflow_y": null,
            "padding": null,
            "right": null,
            "top": null,
            "visibility": null,
            "width": null
          }
        },
        "3112a4ea1dc243ebb5bc849ce1098598": {
          "model_module": "@jupyter-widgets/controls",
          "model_module_version": "1.5.0",
          "model_name": "HBoxModel",
          "state": {
            "_dom_classes": [],
            "_model_module": "@jupyter-widgets/controls",
            "_model_module_version": "1.5.0",
            "_model_name": "HBoxModel",
            "_view_count": null,
            "_view_module": "@jupyter-widgets/controls",
            "_view_module_version": "1.5.0",
            "_view_name": "HBoxView",
            "box_style": "",
            "children": [
              "IPY_MODEL_60d3abf625854d2fbd528fee60863607",
              "IPY_MODEL_459553640e6b41af916a8d327b00b82a",
              "IPY_MODEL_a9a9071969ab4760983f545d5c5d0905"
            ],
            "layout": "IPY_MODEL_ec6a657dc47c459eb8d3e34184806476"
          }
        },
        "37ed6e23316645a9af65b197057ddadb": {
          "model_module": "@jupyter-widgets/controls",
          "model_module_version": "1.5.0",
          "model_name": "HBoxModel",
          "state": {
            "_dom_classes": [],
            "_model_module": "@jupyter-widgets/controls",
            "_model_module_version": "1.5.0",
            "_model_name": "HBoxModel",
            "_view_count": null,
            "_view_module": "@jupyter-widgets/controls",
            "_view_module_version": "1.5.0",
            "_view_name": "HBoxView",
            "box_style": "",
            "children": [
              "IPY_MODEL_eca259f584d44119b74395b0cb1a9066",
              "IPY_MODEL_eb2ce5ce26ac4ec6a0ff25ad2e2d04f0",
              "IPY_MODEL_9baa25ee11844306a1ba5fba1f0a402e"
            ],
            "layout": "IPY_MODEL_b0853ed1703f4d24b91396f1c8e5182d"
          }
        },
        "380dcf34323949ec94e6cd0cca2f7c17": {
          "model_module": "@jupyter-widgets/controls",
          "model_module_version": "1.5.0",
          "model_name": "ProgressStyleModel",
          "state": {
            "_model_module": "@jupyter-widgets/controls",
            "_model_module_version": "1.5.0",
            "_model_name": "ProgressStyleModel",
            "_view_count": null,
            "_view_module": "@jupyter-widgets/base",
            "_view_module_version": "1.2.0",
            "_view_name": "StyleView",
            "bar_color": null,
            "description_width": ""
          }
        },
        "3d8344d9a9614d5193c0abcbbcbb23a7": {
          "model_module": "@jupyter-widgets/controls",
          "model_module_version": "1.5.0",
          "model_name": "FloatProgressModel",
          "state": {
            "_dom_classes": [],
            "_model_module": "@jupyter-widgets/controls",
            "_model_module_version": "1.5.0",
            "_model_name": "FloatProgressModel",
            "_view_count": null,
            "_view_module": "@jupyter-widgets/controls",
            "_view_module_version": "1.5.0",
            "_view_name": "ProgressView",
            "bar_style": "success",
            "description": "",
            "description_tooltip": null,
            "layout": "IPY_MODEL_2271b27aac9c422eac06b784d8ceac13",
            "max": 209528,
            "min": 0,
            "orientation": "horizontal",
            "style": "IPY_MODEL_483de09d57ea47228d3a3e3a1d0738b5",
            "value": 209528
          }
        },
        "3f9c9ce9fcfc4a69a186b2051daf35e3": {
          "model_module": "@jupyter-widgets/base",
          "model_module_version": "1.2.0",
          "model_name": "LayoutModel",
          "state": {
            "_model_module": "@jupyter-widgets/base",
            "_model_module_version": "1.2.0",
            "_model_name": "LayoutModel",
            "_view_count": null,
            "_view_module": "@jupyter-widgets/base",
            "_view_module_version": "1.2.0",
            "_view_name": "LayoutView",
            "align_content": null,
            "align_items": null,
            "align_self": null,
            "border": null,
            "bottom": null,
            "display": null,
            "flex": null,
            "flex_flow": null,
            "grid_area": null,
            "grid_auto_columns": null,
            "grid_auto_flow": null,
            "grid_auto_rows": null,
            "grid_column": null,
            "grid_gap": null,
            "grid_row": null,
            "grid_template_areas": null,
            "grid_template_columns": null,
            "grid_template_rows": null,
            "height": null,
            "justify_content": null,
            "justify_items": null,
            "left": null,
            "margin": null,
            "max_height": null,
            "max_width": null,
            "min_height": null,
            "min_width": null,
            "object_fit": null,
            "object_position": null,
            "order": null,
            "overflow": null,
            "overflow_x": null,
            "overflow_y": null,
            "padding": null,
            "right": null,
            "top": null,
            "visibility": null,
            "width": null
          }
        },
        "458f393380fb4b5c9aec91e5734f80e6": {
          "model_module": "@jupyter-widgets/controls",
          "model_module_version": "1.5.0",
          "model_name": "HTMLModel",
          "state": {
            "_dom_classes": [],
            "_model_module": "@jupyter-widgets/controls",
            "_model_module_version": "1.5.0",
            "_model_name": "HTMLModel",
            "_view_count": null,
            "_view_module": "@jupyter-widgets/controls",
            "_view_module_version": "1.5.0",
            "_view_name": "HTMLView",
            "description": "",
            "description_tooltip": null,
            "layout": "IPY_MODEL_606809b8dab44aa1ad1c8b791db2bd61",
            "placeholder": "​",
            "style": "IPY_MODEL_c04c474840554d788402ea19a1c85bdc",
            "value": " 438M/438M [00:05&lt;00:00, 86.4MB/s]"
          }
        },
        "459553640e6b41af916a8d327b00b82a": {
          "model_module": "@jupyter-widgets/controls",
          "model_module_version": "1.5.0",
          "model_name": "FloatProgressModel",
          "state": {
            "_dom_classes": [],
            "_model_module": "@jupyter-widgets/controls",
            "_model_module_version": "1.5.0",
            "_model_name": "FloatProgressModel",
            "_view_count": null,
            "_view_module": "@jupyter-widgets/controls",
            "_view_module_version": "1.5.0",
            "_view_name": "ProgressView",
            "bar_style": "success",
            "description": "",
            "description_tooltip": null,
            "layout": "IPY_MODEL_82cfb9bc331a4e10bd8c59a227d300f1",
            "max": 43,
            "min": 0,
            "orientation": "horizontal",
            "style": "IPY_MODEL_e80a842b56b04a8ead1e61174bc90676",
            "value": 43
          }
        },
        "47c009bb73c14695ad8a60c03bba5116": {
          "model_module": "@jupyter-widgets/controls",
          "model_module_version": "1.5.0",
          "model_name": "HTMLModel",
          "state": {
            "_dom_classes": [],
            "_model_module": "@jupyter-widgets/controls",
            "_model_module_version": "1.5.0",
            "_model_name": "HTMLModel",
            "_view_count": null,
            "_view_module": "@jupyter-widgets/controls",
            "_view_module_version": "1.5.0",
            "_view_name": "HTMLView",
            "description": "",
            "description_tooltip": null,
            "layout": "IPY_MODEL_7fe8b2f14da644878450f6aa0f0b25f0",
            "placeholder": "​",
            "style": "IPY_MODEL_9de56fc1855b4fa6a36d651ccea3327c",
            "value": "pytorch_model.bin: 100%"
          }
        },
        "483de09d57ea47228d3a3e3a1d0738b5": {
          "model_module": "@jupyter-widgets/controls",
          "model_module_version": "1.5.0",
          "model_name": "ProgressStyleModel",
          "state": {
            "_model_module": "@jupyter-widgets/controls",
            "_model_module_version": "1.5.0",
            "_model_name": "ProgressStyleModel",
            "_view_count": null,
            "_view_module": "@jupyter-widgets/base",
            "_view_module_version": "1.2.0",
            "_view_name": "StyleView",
            "bar_color": null,
            "description_width": ""
          }
        },
        "4b4848735fc3431a9b147470cd8f98a5": {
          "model_module": "@jupyter-widgets/base",
          "model_module_version": "1.2.0",
          "model_name": "LayoutModel",
          "state": {
            "_model_module": "@jupyter-widgets/base",
            "_model_module_version": "1.2.0",
            "_model_name": "LayoutModel",
            "_view_count": null,
            "_view_module": "@jupyter-widgets/base",
            "_view_module_version": "1.2.0",
            "_view_name": "LayoutView",
            "align_content": null,
            "align_items": null,
            "align_self": null,
            "border": null,
            "bottom": null,
            "display": null,
            "flex": null,
            "flex_flow": null,
            "grid_area": null,
            "grid_auto_columns": null,
            "grid_auto_flow": null,
            "grid_auto_rows": null,
            "grid_column": null,
            "grid_gap": null,
            "grid_row": null,
            "grid_template_areas": null,
            "grid_template_columns": null,
            "grid_template_rows": null,
            "height": null,
            "justify_content": null,
            "justify_items": null,
            "left": null,
            "margin": null,
            "max_height": null,
            "max_width": null,
            "min_height": null,
            "min_width": null,
            "object_fit": null,
            "object_position": null,
            "order": null,
            "overflow": null,
            "overflow_x": null,
            "overflow_y": null,
            "padding": null,
            "right": null,
            "top": null,
            "visibility": null,
            "width": null
          }
        },
        "507fd478b12e40ecaf6719bec8396636": {
          "model_module": "@jupyter-widgets/controls",
          "model_module_version": "1.5.0",
          "model_name": "HBoxModel",
          "state": {
            "_dom_classes": [],
            "_model_module": "@jupyter-widgets/controls",
            "_model_module_version": "1.5.0",
            "_model_name": "HBoxModel",
            "_view_count": null,
            "_view_module": "@jupyter-widgets/controls",
            "_view_module_version": "1.5.0",
            "_view_name": "HBoxView",
            "box_style": "",
            "children": [
              "IPY_MODEL_c67c4314c7f546fb891d37c9b22db425",
              "IPY_MODEL_5541a960329a4f31a9728a7f6e5a0f9c",
              "IPY_MODEL_96dc1f498ae242cd8488daba03b77542"
            ],
            "layout": "IPY_MODEL_659d61ed483d4dbba78ea7a431813d3e"
          }
        },
        "51ae4a595a1e4706abf3f756fdc55cdf": {
          "model_module": "@jupyter-widgets/base",
          "model_module_version": "1.2.0",
          "model_name": "LayoutModel",
          "state": {
            "_model_module": "@jupyter-widgets/base",
            "_model_module_version": "1.2.0",
            "_model_name": "LayoutModel",
            "_view_count": null,
            "_view_module": "@jupyter-widgets/base",
            "_view_module_version": "1.2.0",
            "_view_name": "LayoutView",
            "align_content": null,
            "align_items": null,
            "align_self": null,
            "border": null,
            "bottom": null,
            "display": null,
            "flex": null,
            "flex_flow": null,
            "grid_area": null,
            "grid_auto_columns": null,
            "grid_auto_flow": null,
            "grid_auto_rows": null,
            "grid_column": null,
            "grid_gap": null,
            "grid_row": null,
            "grid_template_areas": null,
            "grid_template_columns": null,
            "grid_template_rows": null,
            "height": null,
            "justify_content": null,
            "justify_items": null,
            "left": null,
            "margin": null,
            "max_height": null,
            "max_width": null,
            "min_height": null,
            "min_width": null,
            "object_fit": null,
            "object_position": null,
            "order": null,
            "overflow": null,
            "overflow_x": null,
            "overflow_y": null,
            "padding": null,
            "right": null,
            "top": null,
            "visibility": null,
            "width": null
          }
        },
        "53b867095e684d59af89355a9942b298": {
          "model_module": "@jupyter-widgets/base",
          "model_module_version": "1.2.0",
          "model_name": "LayoutModel",
          "state": {
            "_model_module": "@jupyter-widgets/base",
            "_model_module_version": "1.2.0",
            "_model_name": "LayoutModel",
            "_view_count": null,
            "_view_module": "@jupyter-widgets/base",
            "_view_module_version": "1.2.0",
            "_view_name": "LayoutView",
            "align_content": null,
            "align_items": null,
            "align_self": null,
            "border": null,
            "bottom": null,
            "display": null,
            "flex": null,
            "flex_flow": null,
            "grid_area": null,
            "grid_auto_columns": null,
            "grid_auto_flow": null,
            "grid_auto_rows": null,
            "grid_column": null,
            "grid_gap": null,
            "grid_row": null,
            "grid_template_areas": null,
            "grid_template_columns": null,
            "grid_template_rows": null,
            "height": null,
            "justify_content": null,
            "justify_items": null,
            "left": null,
            "margin": null,
            "max_height": null,
            "max_width": null,
            "min_height": null,
            "min_width": null,
            "object_fit": null,
            "object_position": null,
            "order": null,
            "overflow": null,
            "overflow_x": null,
            "overflow_y": null,
            "padding": null,
            "right": null,
            "top": null,
            "visibility": null,
            "width": null
          }
        },
        "5541a960329a4f31a9728a7f6e5a0f9c": {
          "model_module": "@jupyter-widgets/controls",
          "model_module_version": "1.5.0",
          "model_name": "FloatProgressModel",
          "state": {
            "_dom_classes": [],
            "_model_module": "@jupyter-widgets/controls",
            "_model_module_version": "1.5.0",
            "_model_name": "FloatProgressModel",
            "_view_count": null,
            "_view_module": "@jupyter-widgets/controls",
            "_view_module_version": "1.5.0",
            "_view_name": "ProgressView",
            "bar_style": "success",
            "description": "",
            "description_tooltip": null,
            "layout": "IPY_MODEL_0a198f20eb51442891517b2d6bf93e41",
            "max": 112,
            "min": 0,
            "orientation": "horizontal",
            "style": "IPY_MODEL_380dcf34323949ec94e6cd0cca2f7c17",
            "value": 112
          }
        },
        "5c74abd6b3b6410cae09c3428a50ca2b": {
          "model_module": "@jupyter-widgets/base",
          "model_module_version": "1.2.0",
          "model_name": "LayoutModel",
          "state": {
            "_model_module": "@jupyter-widgets/base",
            "_model_module_version": "1.2.0",
            "_model_name": "LayoutModel",
            "_view_count": null,
            "_view_module": "@jupyter-widgets/base",
            "_view_module_version": "1.2.0",
            "_view_name": "LayoutView",
            "align_content": null,
            "align_items": null,
            "align_self": null,
            "border": null,
            "bottom": null,
            "display": null,
            "flex": null,
            "flex_flow": null,
            "grid_area": null,
            "grid_auto_columns": null,
            "grid_auto_flow": null,
            "grid_auto_rows": null,
            "grid_column": null,
            "grid_gap": null,
            "grid_row": null,
            "grid_template_areas": null,
            "grid_template_columns": null,
            "grid_template_rows": null,
            "height": null,
            "justify_content": null,
            "justify_items": null,
            "left": null,
            "margin": null,
            "max_height": null,
            "max_width": null,
            "min_height": null,
            "min_width": null,
            "object_fit": null,
            "object_position": null,
            "order": null,
            "overflow": null,
            "overflow_x": null,
            "overflow_y": null,
            "padding": null,
            "right": null,
            "top": null,
            "visibility": null,
            "width": null
          }
        },
        "5e85294c264041e9a4489275dc3664c8": {
          "model_module": "@jupyter-widgets/base",
          "model_module_version": "1.2.0",
          "model_name": "LayoutModel",
          "state": {
            "_model_module": "@jupyter-widgets/base",
            "_model_module_version": "1.2.0",
            "_model_name": "LayoutModel",
            "_view_count": null,
            "_view_module": "@jupyter-widgets/base",
            "_view_module_version": "1.2.0",
            "_view_name": "LayoutView",
            "align_content": null,
            "align_items": null,
            "align_self": null,
            "border": null,
            "bottom": null,
            "display": null,
            "flex": null,
            "flex_flow": null,
            "grid_area": null,
            "grid_auto_columns": null,
            "grid_auto_flow": null,
            "grid_auto_rows": null,
            "grid_column": null,
            "grid_gap": null,
            "grid_row": null,
            "grid_template_areas": null,
            "grid_template_columns": null,
            "grid_template_rows": null,
            "height": null,
            "justify_content": null,
            "justify_items": null,
            "left": null,
            "margin": null,
            "max_height": null,
            "max_width": null,
            "min_height": null,
            "min_width": null,
            "object_fit": null,
            "object_position": null,
            "order": null,
            "overflow": null,
            "overflow_x": null,
            "overflow_y": null,
            "padding": null,
            "right": null,
            "top": null,
            "visibility": null,
            "width": null
          }
        },
        "6059d4c99a844b6ca2d7e6ff98ee82cd": {
          "model_module": "@jupyter-widgets/controls",
          "model_module_version": "1.5.0",
          "model_name": "HTMLModel",
          "state": {
            "_dom_classes": [],
            "_model_module": "@jupyter-widgets/controls",
            "_model_module_version": "1.5.0",
            "_model_name": "HTMLModel",
            "_view_count": null,
            "_view_module": "@jupyter-widgets/controls",
            "_view_module_version": "1.5.0",
            "_view_name": "HTMLView",
            "description": "",
            "description_tooltip": null,
            "layout": "IPY_MODEL_3f9c9ce9fcfc4a69a186b2051daf35e3",
            "placeholder": "​",
            "style": "IPY_MODEL_9b49083a98054a46a69f8e4d7f46673e",
            "value": " 210k/210k [00:00&lt;00:00, 4.03MB/s]"
          }
        },
        "606809b8dab44aa1ad1c8b791db2bd61": {
          "model_module": "@jupyter-widgets/base",
          "model_module_version": "1.2.0",
          "model_name": "LayoutModel",
          "state": {
            "_model_module": "@jupyter-widgets/base",
            "_model_module_version": "1.2.0",
            "_model_name": "LayoutModel",
            "_view_count": null,
            "_view_module": "@jupyter-widgets/base",
            "_view_module_version": "1.2.0",
            "_view_name": "LayoutView",
            "align_content": null,
            "align_items": null,
            "align_self": null,
            "border": null,
            "bottom": null,
            "display": null,
            "flex": null,
            "flex_flow": null,
            "grid_area": null,
            "grid_auto_columns": null,
            "grid_auto_flow": null,
            "grid_auto_rows": null,
            "grid_column": null,
            "grid_gap": null,
            "grid_row": null,
            "grid_template_areas": null,
            "grid_template_columns": null,
            "grid_template_rows": null,
            "height": null,
            "justify_content": null,
            "justify_items": null,
            "left": null,
            "margin": null,
            "max_height": null,
            "max_width": null,
            "min_height": null,
            "min_width": null,
            "object_fit": null,
            "object_position": null,
            "order": null,
            "overflow": null,
            "overflow_x": null,
            "overflow_y": null,
            "padding": null,
            "right": null,
            "top": null,
            "visibility": null,
            "width": null
          }
        },
        "60d3abf625854d2fbd528fee60863607": {
          "model_module": "@jupyter-widgets/controls",
          "model_module_version": "1.5.0",
          "model_name": "HTMLModel",
          "state": {
            "_dom_classes": [],
            "_model_module": "@jupyter-widgets/controls",
            "_model_module_version": "1.5.0",
            "_model_name": "HTMLModel",
            "_view_count": null,
            "_view_module": "@jupyter-widgets/controls",
            "_view_module_version": "1.5.0",
            "_view_name": "HTMLView",
            "description": "",
            "description_tooltip": null,
            "layout": "IPY_MODEL_0d6a46bafe154b23bb0c612f7b7fbabf",
            "placeholder": "​",
            "style": "IPY_MODEL_0e4689739ccc421f8bac2194982ca034",
            "value": "tokenizer_config.json: 100%"
          }
        },
        "616c28a472484c4db599b34b2896bae4": {
          "model_module": "@jupyter-widgets/controls",
          "model_module_version": "1.5.0",
          "model_name": "ProgressStyleModel",
          "state": {
            "_model_module": "@jupyter-widgets/controls",
            "_model_module_version": "1.5.0",
            "_model_name": "ProgressStyleModel",
            "_view_count": null,
            "_view_module": "@jupyter-widgets/base",
            "_view_module_version": "1.2.0",
            "_view_name": "StyleView",
            "bar_color": null,
            "description_width": ""
          }
        },
        "6358a7d72e7242979307aa3052e0d791": {
          "model_module": "@jupyter-widgets/controls",
          "model_module_version": "1.5.0",
          "model_name": "DescriptionStyleModel",
          "state": {
            "_model_module": "@jupyter-widgets/controls",
            "_model_module_version": "1.5.0",
            "_model_name": "DescriptionStyleModel",
            "_view_count": null,
            "_view_module": "@jupyter-widgets/base",
            "_view_module_version": "1.2.0",
            "_view_name": "StyleView",
            "description_width": ""
          }
        },
        "659d61ed483d4dbba78ea7a431813d3e": {
          "model_module": "@jupyter-widgets/base",
          "model_module_version": "1.2.0",
          "model_name": "LayoutModel",
          "state": {
            "_model_module": "@jupyter-widgets/base",
            "_model_module_version": "1.2.0",
            "_model_name": "LayoutModel",
            "_view_count": null,
            "_view_module": "@jupyter-widgets/base",
            "_view_module_version": "1.2.0",
            "_view_name": "LayoutView",
            "align_content": null,
            "align_items": null,
            "align_self": null,
            "border": null,
            "bottom": null,
            "display": null,
            "flex": null,
            "flex_flow": null,
            "grid_area": null,
            "grid_auto_columns": null,
            "grid_auto_flow": null,
            "grid_auto_rows": null,
            "grid_column": null,
            "grid_gap": null,
            "grid_row": null,
            "grid_template_areas": null,
            "grid_template_columns": null,
            "grid_template_rows": null,
            "height": null,
            "justify_content": null,
            "justify_items": null,
            "left": null,
            "margin": null,
            "max_height": null,
            "max_width": null,
            "min_height": null,
            "min_width": null,
            "object_fit": null,
            "object_position": null,
            "order": null,
            "overflow": null,
            "overflow_x": null,
            "overflow_y": null,
            "padding": null,
            "right": null,
            "top": null,
            "visibility": null,
            "width": null
          }
        },
        "69ea459bdbfb4c508330da3b9252d312": {
          "model_module": "@jupyter-widgets/controls",
          "model_module_version": "1.5.0",
          "model_name": "HTMLModel",
          "state": {
            "_dom_classes": [],
            "_model_module": "@jupyter-widgets/controls",
            "_model_module_version": "1.5.0",
            "_model_name": "HTMLModel",
            "_view_count": null,
            "_view_module": "@jupyter-widgets/controls",
            "_view_module_version": "1.5.0",
            "_view_name": "HTMLView",
            "description": "",
            "description_tooltip": null,
            "layout": "IPY_MODEL_1c954359a54a477c901899c55a6fe945",
            "placeholder": "​",
            "style": "IPY_MODEL_a7cbb8aa5c2d4a309da4b9f4cc4cba03",
            "value": "added_tokens.json: 100%"
          }
        },
        "6cf2168504484f2ba5c58bea5e5555b4": {
          "model_module": "@jupyter-widgets/base",
          "model_module_version": "1.2.0",
          "model_name": "LayoutModel",
          "state": {
            "_model_module": "@jupyter-widgets/base",
            "_model_module_version": "1.2.0",
            "_model_name": "LayoutModel",
            "_view_count": null,
            "_view_module": "@jupyter-widgets/base",
            "_view_module_version": "1.2.0",
            "_view_name": "LayoutView",
            "align_content": null,
            "align_items": null,
            "align_self": null,
            "border": null,
            "bottom": null,
            "display": null,
            "flex": null,
            "flex_flow": null,
            "grid_area": null,
            "grid_auto_columns": null,
            "grid_auto_flow": null,
            "grid_auto_rows": null,
            "grid_column": null,
            "grid_gap": null,
            "grid_row": null,
            "grid_template_areas": null,
            "grid_template_columns": null,
            "grid_template_rows": null,
            "height": null,
            "justify_content": null,
            "justify_items": null,
            "left": null,
            "margin": null,
            "max_height": null,
            "max_width": null,
            "min_height": null,
            "min_width": null,
            "object_fit": null,
            "object_position": null,
            "order": null,
            "overflow": null,
            "overflow_x": null,
            "overflow_y": null,
            "padding": null,
            "right": null,
            "top": null,
            "visibility": null,
            "width": null
          }
        },
        "7081bf451f7a4e63b900283ef818f391": {
          "model_module": "@jupyter-widgets/controls",
          "model_module_version": "1.5.0",
          "model_name": "HTMLModel",
          "state": {
            "_dom_classes": [],
            "_model_module": "@jupyter-widgets/controls",
            "_model_module_version": "1.5.0",
            "_model_name": "HTMLModel",
            "_view_count": null,
            "_view_module": "@jupyter-widgets/controls",
            "_view_module_version": "1.5.0",
            "_view_name": "HTMLView",
            "description": "",
            "description_tooltip": null,
            "layout": "IPY_MODEL_d7773850c9f1466e8517d3be2726eef6",
            "placeholder": "​",
            "style": "IPY_MODEL_1f199e9ed40f44ddad97a560d3977a32",
            "value": " 2.00/2.00 [00:00&lt;00:00, 49.7B/s]"
          }
        },
        "7fe8b2f14da644878450f6aa0f0b25f0": {
          "model_module": "@jupyter-widgets/base",
          "model_module_version": "1.2.0",
          "model_name": "LayoutModel",
          "state": {
            "_model_module": "@jupyter-widgets/base",
            "_model_module_version": "1.2.0",
            "_model_name": "LayoutModel",
            "_view_count": null,
            "_view_module": "@jupyter-widgets/base",
            "_view_module_version": "1.2.0",
            "_view_name": "LayoutView",
            "align_content": null,
            "align_items": null,
            "align_self": null,
            "border": null,
            "bottom": null,
            "display": null,
            "flex": null,
            "flex_flow": null,
            "grid_area": null,
            "grid_auto_columns": null,
            "grid_auto_flow": null,
            "grid_auto_rows": null,
            "grid_column": null,
            "grid_gap": null,
            "grid_row": null,
            "grid_template_areas": null,
            "grid_template_columns": null,
            "grid_template_rows": null,
            "height": null,
            "justify_content": null,
            "justify_items": null,
            "left": null,
            "margin": null,
            "max_height": null,
            "max_width": null,
            "min_height": null,
            "min_width": null,
            "object_fit": null,
            "object_position": null,
            "order": null,
            "overflow": null,
            "overflow_x": null,
            "overflow_y": null,
            "padding": null,
            "right": null,
            "top": null,
            "visibility": null,
            "width": null
          }
        },
        "82cfb9bc331a4e10bd8c59a227d300f1": {
          "model_module": "@jupyter-widgets/base",
          "model_module_version": "1.2.0",
          "model_name": "LayoutModel",
          "state": {
            "_model_module": "@jupyter-widgets/base",
            "_model_module_version": "1.2.0",
            "_model_name": "LayoutModel",
            "_view_count": null,
            "_view_module": "@jupyter-widgets/base",
            "_view_module_version": "1.2.0",
            "_view_name": "LayoutView",
            "align_content": null,
            "align_items": null,
            "align_self": null,
            "border": null,
            "bottom": null,
            "display": null,
            "flex": null,
            "flex_flow": null,
            "grid_area": null,
            "grid_auto_columns": null,
            "grid_auto_flow": null,
            "grid_auto_rows": null,
            "grid_column": null,
            "grid_gap": null,
            "grid_row": null,
            "grid_template_areas": null,
            "grid_template_columns": null,
            "grid_template_rows": null,
            "height": null,
            "justify_content": null,
            "justify_items": null,
            "left": null,
            "margin": null,
            "max_height": null,
            "max_width": null,
            "min_height": null,
            "min_width": null,
            "object_fit": null,
            "object_position": null,
            "order": null,
            "overflow": null,
            "overflow_x": null,
            "overflow_y": null,
            "padding": null,
            "right": null,
            "top": null,
            "visibility": null,
            "width": null
          }
        },
        "96dc1f498ae242cd8488daba03b77542": {
          "model_module": "@jupyter-widgets/controls",
          "model_module_version": "1.5.0",
          "model_name": "HTMLModel",
          "state": {
            "_dom_classes": [],
            "_model_module": "@jupyter-widgets/controls",
            "_model_module_version": "1.5.0",
            "_model_name": "HTMLModel",
            "_view_count": null,
            "_view_module": "@jupyter-widgets/controls",
            "_view_module_version": "1.5.0",
            "_view_name": "HTMLView",
            "description": "",
            "description_tooltip": null,
            "layout": "IPY_MODEL_b09244d7c061483aa36f4df4744f4bdb",
            "placeholder": "​",
            "style": "IPY_MODEL_6358a7d72e7242979307aa3052e0d791",
            "value": " 112/112 [00:00&lt;00:00, 2.84kB/s]"
          }
        },
        "9b49083a98054a46a69f8e4d7f46673e": {
          "model_module": "@jupyter-widgets/controls",
          "model_module_version": "1.5.0",
          "model_name": "DescriptionStyleModel",
          "state": {
            "_model_module": "@jupyter-widgets/controls",
            "_model_module_version": "1.5.0",
            "_model_name": "DescriptionStyleModel",
            "_view_count": null,
            "_view_module": "@jupyter-widgets/base",
            "_view_module_version": "1.2.0",
            "_view_name": "StyleView",
            "description_width": ""
          }
        },
        "9baa25ee11844306a1ba5fba1f0a402e": {
          "model_module": "@jupyter-widgets/controls",
          "model_module_version": "1.5.0",
          "model_name": "HTMLModel",
          "state": {
            "_dom_classes": [],
            "_model_module": "@jupyter-widgets/controls",
            "_model_module_version": "1.5.0",
            "_model_name": "HTMLModel",
            "_view_count": null,
            "_view_module": "@jupyter-widgets/controls",
            "_view_module_version": "1.5.0",
            "_view_name": "HTMLView",
            "description": "",
            "description_tooltip": null,
            "layout": "IPY_MODEL_ac27867dbee24348a07b2c0daae5cb6c",
            "placeholder": "​",
            "style": "IPY_MODEL_a1e7a1aad1b74f69b06916f452c9130f",
            "value": " 647/647 [00:00&lt;00:00, 18.7kB/s]"
          }
        },
        "9de56fc1855b4fa6a36d651ccea3327c": {
          "model_module": "@jupyter-widgets/controls",
          "model_module_version": "1.5.0",
          "model_name": "DescriptionStyleModel",
          "state": {
            "_model_module": "@jupyter-widgets/controls",
            "_model_module_version": "1.5.0",
            "_model_name": "DescriptionStyleModel",
            "_view_count": null,
            "_view_module": "@jupyter-widgets/base",
            "_view_module_version": "1.2.0",
            "_view_name": "StyleView",
            "description_width": ""
          }
        },
        "9eb96084da144af2bdd5738116c2704b": {
          "model_module": "@jupyter-widgets/controls",
          "model_module_version": "1.5.0",
          "model_name": "HBoxModel",
          "state": {
            "_dom_classes": [],
            "_model_module": "@jupyter-widgets/controls",
            "_model_module_version": "1.5.0",
            "_model_name": "HBoxModel",
            "_view_count": null,
            "_view_module": "@jupyter-widgets/controls",
            "_view_module_version": "1.5.0",
            "_view_name": "HBoxView",
            "box_style": "",
            "children": [
              "IPY_MODEL_c64e4e47d65f4dc8b143d21d041f5def",
              "IPY_MODEL_3d8344d9a9614d5193c0abcbbcbb23a7",
              "IPY_MODEL_6059d4c99a844b6ca2d7e6ff98ee82cd"
            ],
            "layout": "IPY_MODEL_4b4848735fc3431a9b147470cd8f98a5"
          }
        },
        "a1e7a1aad1b74f69b06916f452c9130f": {
          "model_module": "@jupyter-widgets/controls",
          "model_module_version": "1.5.0",
          "model_name": "DescriptionStyleModel",
          "state": {
            "_model_module": "@jupyter-widgets/controls",
            "_model_module_version": "1.5.0",
            "_model_name": "DescriptionStyleModel",
            "_view_count": null,
            "_view_module": "@jupyter-widgets/base",
            "_view_module_version": "1.2.0",
            "_view_name": "StyleView",
            "description_width": ""
          }
        },
        "a322028aa9f24788873cf700540ebb4d": {
          "model_module": "@jupyter-widgets/controls",
          "model_module_version": "1.5.0",
          "model_name": "ProgressStyleModel",
          "state": {
            "_model_module": "@jupyter-widgets/controls",
            "_model_module_version": "1.5.0",
            "_model_name": "ProgressStyleModel",
            "_view_count": null,
            "_view_module": "@jupyter-widgets/base",
            "_view_module_version": "1.2.0",
            "_view_name": "StyleView",
            "bar_color": null,
            "description_width": ""
          }
        },
        "a7cbb8aa5c2d4a309da4b9f4cc4cba03": {
          "model_module": "@jupyter-widgets/controls",
          "model_module_version": "1.5.0",
          "model_name": "DescriptionStyleModel",
          "state": {
            "_model_module": "@jupyter-widgets/controls",
            "_model_module_version": "1.5.0",
            "_model_name": "DescriptionStyleModel",
            "_view_count": null,
            "_view_module": "@jupyter-widgets/base",
            "_view_module_version": "1.2.0",
            "_view_name": "StyleView",
            "description_width": ""
          }
        },
        "a82212ff13b645dc847f68a88b3cf3d9": {
          "model_module": "@jupyter-widgets/base",
          "model_module_version": "1.2.0",
          "model_name": "LayoutModel",
          "state": {
            "_model_module": "@jupyter-widgets/base",
            "_model_module_version": "1.2.0",
            "_model_name": "LayoutModel",
            "_view_count": null,
            "_view_module": "@jupyter-widgets/base",
            "_view_module_version": "1.2.0",
            "_view_name": "LayoutView",
            "align_content": null,
            "align_items": null,
            "align_self": null,
            "border": null,
            "bottom": null,
            "display": null,
            "flex": null,
            "flex_flow": null,
            "grid_area": null,
            "grid_auto_columns": null,
            "grid_auto_flow": null,
            "grid_auto_rows": null,
            "grid_column": null,
            "grid_gap": null,
            "grid_row": null,
            "grid_template_areas": null,
            "grid_template_columns": null,
            "grid_template_rows": null,
            "height": null,
            "justify_content": null,
            "justify_items": null,
            "left": null,
            "margin": null,
            "max_height": null,
            "max_width": null,
            "min_height": null,
            "min_width": null,
            "object_fit": null,
            "object_position": null,
            "order": null,
            "overflow": null,
            "overflow_x": null,
            "overflow_y": null,
            "padding": null,
            "right": null,
            "top": null,
            "visibility": null,
            "width": null
          }
        },
        "a8a023fc73794d9ab088afa1fdea67d3": {
          "model_module": "@jupyter-widgets/controls",
          "model_module_version": "1.5.0",
          "model_name": "DescriptionStyleModel",
          "state": {
            "_model_module": "@jupyter-widgets/controls",
            "_model_module_version": "1.5.0",
            "_model_name": "DescriptionStyleModel",
            "_view_count": null,
            "_view_module": "@jupyter-widgets/base",
            "_view_module_version": "1.2.0",
            "_view_name": "StyleView",
            "description_width": ""
          }
        },
        "a9a9071969ab4760983f545d5c5d0905": {
          "model_module": "@jupyter-widgets/controls",
          "model_module_version": "1.5.0",
          "model_name": "HTMLModel",
          "state": {
            "_dom_classes": [],
            "_model_module": "@jupyter-widgets/controls",
            "_model_module_version": "1.5.0",
            "_model_name": "HTMLModel",
            "_view_count": null,
            "_view_module": "@jupyter-widgets/controls",
            "_view_module_version": "1.5.0",
            "_view_name": "HTMLView",
            "description": "",
            "description_tooltip": null,
            "layout": "IPY_MODEL_182a3bab7e38462aa8272a8665e9c193",
            "placeholder": "​",
            "style": "IPY_MODEL_1e649b7f8e294ce4b7342f10b82d4c04",
            "value": " 43.0/43.0 [00:00&lt;00:00, 1.33kB/s]"
          }
        },
        "ac27867dbee24348a07b2c0daae5cb6c": {
          "model_module": "@jupyter-widgets/base",
          "model_module_version": "1.2.0",
          "model_name": "LayoutModel",
          "state": {
            "_model_module": "@jupyter-widgets/base",
            "_model_module_version": "1.2.0",
            "_model_name": "LayoutModel",
            "_view_count": null,
            "_view_module": "@jupyter-widgets/base",
            "_view_module_version": "1.2.0",
            "_view_name": "LayoutView",
            "align_content": null,
            "align_items": null,
            "align_self": null,
            "border": null,
            "bottom": null,
            "display": null,
            "flex": null,
            "flex_flow": null,
            "grid_area": null,
            "grid_auto_columns": null,
            "grid_auto_flow": null,
            "grid_auto_rows": null,
            "grid_column": null,
            "grid_gap": null,
            "grid_row": null,
            "grid_template_areas": null,
            "grid_template_columns": null,
            "grid_template_rows": null,
            "height": null,
            "justify_content": null,
            "justify_items": null,
            "left": null,
            "margin": null,
            "max_height": null,
            "max_width": null,
            "min_height": null,
            "min_width": null,
            "object_fit": null,
            "object_position": null,
            "order": null,
            "overflow": null,
            "overflow_x": null,
            "overflow_y": null,
            "padding": null,
            "right": null,
            "top": null,
            "visibility": null,
            "width": null
          }
        },
        "ac67fa1027ac48f39ff016aa4cdbd449": {
          "model_module": "@jupyter-widgets/controls",
          "model_module_version": "1.5.0",
          "model_name": "FloatProgressModel",
          "state": {
            "_dom_classes": [],
            "_model_module": "@jupyter-widgets/controls",
            "_model_module_version": "1.5.0",
            "_model_name": "FloatProgressModel",
            "_view_count": null,
            "_view_module": "@jupyter-widgets/controls",
            "_view_module_version": "1.5.0",
            "_view_name": "ProgressView",
            "bar_style": "success",
            "description": "",
            "description_tooltip": null,
            "layout": "IPY_MODEL_03bd9a2810fc40898d7bb835b2d0e03c",
            "max": 438235074,
            "min": 0,
            "orientation": "horizontal",
            "style": "IPY_MODEL_616c28a472484c4db599b34b2896bae4",
            "value": 438235074
          }
        },
        "b0853ed1703f4d24b91396f1c8e5182d": {
          "model_module": "@jupyter-widgets/base",
          "model_module_version": "1.2.0",
          "model_name": "LayoutModel",
          "state": {
            "_model_module": "@jupyter-widgets/base",
            "_model_module_version": "1.2.0",
            "_model_name": "LayoutModel",
            "_view_count": null,
            "_view_module": "@jupyter-widgets/base",
            "_view_module_version": "1.2.0",
            "_view_name": "LayoutView",
            "align_content": null,
            "align_items": null,
            "align_self": null,
            "border": null,
            "bottom": null,
            "display": null,
            "flex": null,
            "flex_flow": null,
            "grid_area": null,
            "grid_auto_columns": null,
            "grid_auto_flow": null,
            "grid_auto_rows": null,
            "grid_column": null,
            "grid_gap": null,
            "grid_row": null,
            "grid_template_areas": null,
            "grid_template_columns": null,
            "grid_template_rows": null,
            "height": null,
            "justify_content": null,
            "justify_items": null,
            "left": null,
            "margin": null,
            "max_height": null,
            "max_width": null,
            "min_height": null,
            "min_width": null,
            "object_fit": null,
            "object_position": null,
            "order": null,
            "overflow": null,
            "overflow_x": null,
            "overflow_y": null,
            "padding": null,
            "right": null,
            "top": null,
            "visibility": null,
            "width": null
          }
        },
        "b09244d7c061483aa36f4df4744f4bdb": {
          "model_module": "@jupyter-widgets/base",
          "model_module_version": "1.2.0",
          "model_name": "LayoutModel",
          "state": {
            "_model_module": "@jupyter-widgets/base",
            "_model_module_version": "1.2.0",
            "_model_name": "LayoutModel",
            "_view_count": null,
            "_view_module": "@jupyter-widgets/base",
            "_view_module_version": "1.2.0",
            "_view_name": "LayoutView",
            "align_content": null,
            "align_items": null,
            "align_self": null,
            "border": null,
            "bottom": null,
            "display": null,
            "flex": null,
            "flex_flow": null,
            "grid_area": null,
            "grid_auto_columns": null,
            "grid_auto_flow": null,
            "grid_auto_rows": null,
            "grid_column": null,
            "grid_gap": null,
            "grid_row": null,
            "grid_template_areas": null,
            "grid_template_columns": null,
            "grid_template_rows": null,
            "height": null,
            "justify_content": null,
            "justify_items": null,
            "left": null,
            "margin": null,
            "max_height": null,
            "max_width": null,
            "min_height": null,
            "min_width": null,
            "object_fit": null,
            "object_position": null,
            "order": null,
            "overflow": null,
            "overflow_x": null,
            "overflow_y": null,
            "padding": null,
            "right": null,
            "top": null,
            "visibility": null,
            "width": null
          }
        },
        "b7d2e02a1d034704bdacbbae4662ec67": {
          "model_module": "@jupyter-widgets/controls",
          "model_module_version": "1.5.0",
          "model_name": "HBoxModel",
          "state": {
            "_dom_classes": [],
            "_model_module": "@jupyter-widgets/controls",
            "_model_module_version": "1.5.0",
            "_model_name": "HBoxModel",
            "_view_count": null,
            "_view_module": "@jupyter-widgets/controls",
            "_view_module_version": "1.5.0",
            "_view_name": "HBoxView",
            "box_style": "",
            "children": [
              "IPY_MODEL_69ea459bdbfb4c508330da3b9252d312",
              "IPY_MODEL_c0b44f7f213d47e28d45cd33160baddc",
              "IPY_MODEL_7081bf451f7a4e63b900283ef818f391"
            ],
            "layout": "IPY_MODEL_5e85294c264041e9a4489275dc3664c8"
          }
        },
        "c04c474840554d788402ea19a1c85bdc": {
          "model_module": "@jupyter-widgets/controls",
          "model_module_version": "1.5.0",
          "model_name": "DescriptionStyleModel",
          "state": {
            "_model_module": "@jupyter-widgets/controls",
            "_model_module_version": "1.5.0",
            "_model_name": "DescriptionStyleModel",
            "_view_count": null,
            "_view_module": "@jupyter-widgets/base",
            "_view_module_version": "1.2.0",
            "_view_name": "StyleView",
            "description_width": ""
          }
        },
        "c0b44f7f213d47e28d45cd33160baddc": {
          "model_module": "@jupyter-widgets/controls",
          "model_module_version": "1.5.0",
          "model_name": "FloatProgressModel",
          "state": {
            "_dom_classes": [],
            "_model_module": "@jupyter-widgets/controls",
            "_model_module_version": "1.5.0",
            "_model_name": "FloatProgressModel",
            "_view_count": null,
            "_view_module": "@jupyter-widgets/controls",
            "_view_module_version": "1.5.0",
            "_view_name": "ProgressView",
            "bar_style": "success",
            "description": "",
            "description_tooltip": null,
            "layout": "IPY_MODEL_6cf2168504484f2ba5c58bea5e5555b4",
            "max": 2,
            "min": 0,
            "orientation": "horizontal",
            "style": "IPY_MODEL_a322028aa9f24788873cf700540ebb4d",
            "value": 2
          }
        },
        "c64e4e47d65f4dc8b143d21d041f5def": {
          "model_module": "@jupyter-widgets/controls",
          "model_module_version": "1.5.0",
          "model_name": "HTMLModel",
          "state": {
            "_dom_classes": [],
            "_model_module": "@jupyter-widgets/controls",
            "_model_module_version": "1.5.0",
            "_model_name": "HTMLModel",
            "_view_count": null,
            "_view_module": "@jupyter-widgets/controls",
            "_view_module_version": "1.5.0",
            "_view_name": "HTMLView",
            "description": "",
            "description_tooltip": null,
            "layout": "IPY_MODEL_5c74abd6b3b6410cae09c3428a50ca2b",
            "placeholder": "​",
            "style": "IPY_MODEL_d0339d66e815441380edb3f3cb6ab244",
            "value": "vocab.txt: 100%"
          }
        },
        "c67c4314c7f546fb891d37c9b22db425": {
          "model_module": "@jupyter-widgets/controls",
          "model_module_version": "1.5.0",
          "model_name": "HTMLModel",
          "state": {
            "_dom_classes": [],
            "_model_module": "@jupyter-widgets/controls",
            "_model_module_version": "1.5.0",
            "_model_name": "HTMLModel",
            "_view_count": null,
            "_view_module": "@jupyter-widgets/controls",
            "_view_module_version": "1.5.0",
            "_view_name": "HTMLView",
            "description": "",
            "description_tooltip": null,
            "layout": "IPY_MODEL_53b867095e684d59af89355a9942b298",
            "placeholder": "​",
            "style": "IPY_MODEL_a8a023fc73794d9ab088afa1fdea67d3",
            "value": "special_tokens_map.json: 100%"
          }
        },
        "c83a3c4bd6fa4debac637c859d90bc51": {
          "model_module": "@jupyter-widgets/controls",
          "model_module_version": "1.5.0",
          "model_name": "HBoxModel",
          "state": {
            "_dom_classes": [],
            "_model_module": "@jupyter-widgets/controls",
            "_model_module_version": "1.5.0",
            "_model_name": "HBoxModel",
            "_view_count": null,
            "_view_module": "@jupyter-widgets/controls",
            "_view_module_version": "1.5.0",
            "_view_name": "HBoxView",
            "box_style": "",
            "children": [
              "IPY_MODEL_47c009bb73c14695ad8a60c03bba5116",
              "IPY_MODEL_ac67fa1027ac48f39ff016aa4cdbd449",
              "IPY_MODEL_458f393380fb4b5c9aec91e5734f80e6"
            ],
            "layout": "IPY_MODEL_cf3abe741a214640ad37bdaf913a379f"
          }
        },
        "cf3abe741a214640ad37bdaf913a379f": {
          "model_module": "@jupyter-widgets/base",
          "model_module_version": "1.2.0",
          "model_name": "LayoutModel",
          "state": {
            "_model_module": "@jupyter-widgets/base",
            "_model_module_version": "1.2.0",
            "_model_name": "LayoutModel",
            "_view_count": null,
            "_view_module": "@jupyter-widgets/base",
            "_view_module_version": "1.2.0",
            "_view_name": "LayoutView",
            "align_content": null,
            "align_items": null,
            "align_self": null,
            "border": null,
            "bottom": null,
            "display": null,
            "flex": null,
            "flex_flow": null,
            "grid_area": null,
            "grid_auto_columns": null,
            "grid_auto_flow": null,
            "grid_auto_rows": null,
            "grid_column": null,
            "grid_gap": null,
            "grid_row": null,
            "grid_template_areas": null,
            "grid_template_columns": null,
            "grid_template_rows": null,
            "height": null,
            "justify_content": null,
            "justify_items": null,
            "left": null,
            "margin": null,
            "max_height": null,
            "max_width": null,
            "min_height": null,
            "min_width": null,
            "object_fit": null,
            "object_position": null,
            "order": null,
            "overflow": null,
            "overflow_x": null,
            "overflow_y": null,
            "padding": null,
            "right": null,
            "top": null,
            "visibility": null,
            "width": null
          }
        },
        "d0339d66e815441380edb3f3cb6ab244": {
          "model_module": "@jupyter-widgets/controls",
          "model_module_version": "1.5.0",
          "model_name": "DescriptionStyleModel",
          "state": {
            "_model_module": "@jupyter-widgets/controls",
            "_model_module_version": "1.5.0",
            "_model_name": "DescriptionStyleModel",
            "_view_count": null,
            "_view_module": "@jupyter-widgets/base",
            "_view_module_version": "1.2.0",
            "_view_name": "StyleView",
            "description_width": ""
          }
        },
        "d7773850c9f1466e8517d3be2726eef6": {
          "model_module": "@jupyter-widgets/base",
          "model_module_version": "1.2.0",
          "model_name": "LayoutModel",
          "state": {
            "_model_module": "@jupyter-widgets/base",
            "_model_module_version": "1.2.0",
            "_model_name": "LayoutModel",
            "_view_count": null,
            "_view_module": "@jupyter-widgets/base",
            "_view_module_version": "1.2.0",
            "_view_name": "LayoutView",
            "align_content": null,
            "align_items": null,
            "align_self": null,
            "border": null,
            "bottom": null,
            "display": null,
            "flex": null,
            "flex_flow": null,
            "grid_area": null,
            "grid_auto_columns": null,
            "grid_auto_flow": null,
            "grid_auto_rows": null,
            "grid_column": null,
            "grid_gap": null,
            "grid_row": null,
            "grid_template_areas": null,
            "grid_template_columns": null,
            "grid_template_rows": null,
            "height": null,
            "justify_content": null,
            "justify_items": null,
            "left": null,
            "margin": null,
            "max_height": null,
            "max_width": null,
            "min_height": null,
            "min_width": null,
            "object_fit": null,
            "object_position": null,
            "order": null,
            "overflow": null,
            "overflow_x": null,
            "overflow_y": null,
            "padding": null,
            "right": null,
            "top": null,
            "visibility": null,
            "width": null
          }
        },
        "d7df677b01c845ed98ee952c835080b4": {
          "model_module": "@jupyter-widgets/controls",
          "model_module_version": "1.5.0",
          "model_name": "ProgressStyleModel",
          "state": {
            "_model_module": "@jupyter-widgets/controls",
            "_model_module_version": "1.5.0",
            "_model_name": "ProgressStyleModel",
            "_view_count": null,
            "_view_module": "@jupyter-widgets/base",
            "_view_module_version": "1.2.0",
            "_view_name": "StyleView",
            "bar_color": null,
            "description_width": ""
          }
        },
        "e80a842b56b04a8ead1e61174bc90676": {
          "model_module": "@jupyter-widgets/controls",
          "model_module_version": "1.5.0",
          "model_name": "ProgressStyleModel",
          "state": {
            "_model_module": "@jupyter-widgets/controls",
            "_model_module_version": "1.5.0",
            "_model_name": "ProgressStyleModel",
            "_view_count": null,
            "_view_module": "@jupyter-widgets/base",
            "_view_module_version": "1.2.0",
            "_view_name": "StyleView",
            "bar_color": null,
            "description_width": ""
          }
        },
        "eb2ce5ce26ac4ec6a0ff25ad2e2d04f0": {
          "model_module": "@jupyter-widgets/controls",
          "model_module_version": "1.5.0",
          "model_name": "FloatProgressModel",
          "state": {
            "_dom_classes": [],
            "_model_module": "@jupyter-widgets/controls",
            "_model_module_version": "1.5.0",
            "_model_name": "FloatProgressModel",
            "_view_count": null,
            "_view_module": "@jupyter-widgets/controls",
            "_view_module_version": "1.5.0",
            "_view_name": "ProgressView",
            "bar_style": "success",
            "description": "",
            "description_tooltip": null,
            "layout": "IPY_MODEL_51ae4a595a1e4706abf3f756fdc55cdf",
            "max": 647,
            "min": 0,
            "orientation": "horizontal",
            "style": "IPY_MODEL_d7df677b01c845ed98ee952c835080b4",
            "value": 647
          }
        },
        "ec6a657dc47c459eb8d3e34184806476": {
          "model_module": "@jupyter-widgets/base",
          "model_module_version": "1.2.0",
          "model_name": "LayoutModel",
          "state": {
            "_model_module": "@jupyter-widgets/base",
            "_model_module_version": "1.2.0",
            "_model_name": "LayoutModel",
            "_view_count": null,
            "_view_module": "@jupyter-widgets/base",
            "_view_module_version": "1.2.0",
            "_view_name": "LayoutView",
            "align_content": null,
            "align_items": null,
            "align_self": null,
            "border": null,
            "bottom": null,
            "display": null,
            "flex": null,
            "flex_flow": null,
            "grid_area": null,
            "grid_auto_columns": null,
            "grid_auto_flow": null,
            "grid_auto_rows": null,
            "grid_column": null,
            "grid_gap": null,
            "grid_row": null,
            "grid_template_areas": null,
            "grid_template_columns": null,
            "grid_template_rows": null,
            "height": null,
            "justify_content": null,
            "justify_items": null,
            "left": null,
            "margin": null,
            "max_height": null,
            "max_width": null,
            "min_height": null,
            "min_width": null,
            "object_fit": null,
            "object_position": null,
            "order": null,
            "overflow": null,
            "overflow_x": null,
            "overflow_y": null,
            "padding": null,
            "right": null,
            "top": null,
            "visibility": null,
            "width": null
          }
        },
        "eca259f584d44119b74395b0cb1a9066": {
          "model_module": "@jupyter-widgets/controls",
          "model_module_version": "1.5.0",
          "model_name": "HTMLModel",
          "state": {
            "_dom_classes": [],
            "_model_module": "@jupyter-widgets/controls",
            "_model_module_version": "1.5.0",
            "_model_name": "HTMLModel",
            "_view_count": null,
            "_view_module": "@jupyter-widgets/controls",
            "_view_module_version": "1.5.0",
            "_view_name": "HTMLView",
            "description": "",
            "description_tooltip": null,
            "layout": "IPY_MODEL_a82212ff13b645dc847f68a88b3cf3d9",
            "placeholder": "​",
            "style": "IPY_MODEL_fba0a7235fe84d5e90165546b73f5daf",
            "value": "config.json: 100%"
          }
        },
        "fba0a7235fe84d5e90165546b73f5daf": {
          "model_module": "@jupyter-widgets/controls",
          "model_module_version": "1.5.0",
          "model_name": "DescriptionStyleModel",
          "state": {
            "_model_module": "@jupyter-widgets/controls",
            "_model_module_version": "1.5.0",
            "_model_name": "DescriptionStyleModel",
            "_view_count": null,
            "_view_module": "@jupyter-widgets/base",
            "_view_module_version": "1.2.0",
            "_view_name": "StyleView",
            "description_width": ""
          }
        }
      }
    }
  },
  "nbformat": 4,
  "nbformat_minor": 0
}
